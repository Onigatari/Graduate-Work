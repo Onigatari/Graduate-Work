{
 "cells": [
  {
   "cell_type": "markdown",
   "metadata": {
    "id": "yAmSR1FaqKrl"
   },
   "source": [
    "## Setup"
   ]
  },
  {
   "cell_type": "code",
   "execution_count": 1,
   "metadata": {
    "id": "tnxXKDjq3jEL",
    "tags": []
   },
   "outputs": [],
   "source": [
    "import numpy as np\n",
    "import pandas as pd\n",
    "\n",
    "import typing\n",
    "from typing import Any, Tuple\n",
    "\n",
    "import tensorflow as tf\n",
    "\n",
    "import tensorflow_text as tf_text\n",
    "\n",
    "import matplotlib.pyplot as plt\n",
    "import matplotlib.ticker as ticker\n",
    "\n",
    "import seaborn as sns\n",
    "sns.set(style=\"darkgrid\")\n",
    "\n",
    "from nltk.translate.bleu_score import sentence_bleu"
   ]
  },
  {
   "cell_type": "code",
   "execution_count": 2,
   "metadata": {},
   "outputs": [
    {
     "name": "stdout",
     "output_type": "stream",
     "text": [
      "Device mapping:\n",
      "/job:localhost/replica:0/task:0/device:GPU:0 -> device: 0, name: NVIDIA GeForce RTX 2060 SUPER, pci bus id: 0000:07:00.0, compute capability: 7.5\n",
      "\n"
     ]
    }
   ],
   "source": [
    "sess = tf.compat.v1.Session(config=tf.compat.v1.ConfigProto(log_device_placement=True))"
   ]
  },
  {
   "cell_type": "markdown",
   "metadata": {
    "id": "Vs8zge-RUdC2"
   },
   "source": [
    "This tutorial builds a few layers from scratch, use this variable if you want to switch between the custom and builtin implementations."
   ]
  },
  {
   "cell_type": "code",
   "execution_count": 3,
   "metadata": {
    "id": "KPJ9J7iPUchc",
    "tags": []
   },
   "outputs": [],
   "source": [
    "use_builtins = True"
   ]
  },
  {
   "cell_type": "markdown",
   "metadata": {
    "id": "l_yq8kvIqoqQ"
   },
   "source": [
    "В этом руководстве используется множество низкоуровневых API, где легко ошибиться с формами. Этот класс используется для проверки форм на протяжении всего урока."
   ]
  },
  {
   "cell_type": "code",
   "execution_count": 4,
   "metadata": {
    "id": "KqFqKi4fqN9X",
    "tags": []
   },
   "outputs": [],
   "source": [
    "class ShapeChecker():\n",
    "    def __init__(self):\n",
    "    # Сохранение кэш всех видимых имен осей\n",
    "        self.shapes = {}\n",
    "\n",
    "    def __call__(self, tensor, names, broadcast=False):\n",
    "        if not tf.executing_eagerly():\n",
    "            return\n",
    "\n",
    "        if isinstance(names, str):\n",
    "            names = (names,)\n",
    "\n",
    "        shape = tf.shape(tensor)\n",
    "        rank = tf.rank(tensor)\n",
    "\n",
    "        if rank != len(names):\n",
    "            raise ValueError(f'Rank mismatch:\\n'\n",
    "                       f'    found {rank}: {shape.numpy()}\\n'\n",
    "                       f'    expected {len(names)}: {names}\\n')\n",
    "        for i, name in enumerate(names):\n",
    "            if isinstance(name, int):\n",
    "                old_dim = name\n",
    "            else:\n",
    "                old_dim = self.shapes.get(name, None)\n",
    "            \n",
    "            new_dim = shape[i]\n",
    "\n",
    "            if (broadcast and new_dim == 1):\n",
    "                continue\n",
    "\n",
    "            if old_dim is None:\n",
    "                # If the axis name is new, add its length to the cache.\n",
    "                self.shapes[name] = new_dim\n",
    "                continue\n",
    "\n",
    "            if new_dim != old_dim:\n",
    "                raise ValueError(f\"Shape mismatch for dimension: '{name}'\\n\"\n",
    "                             f\"    found: {new_dim}\\n\"\n",
    "                             f\"    expected: {old_dim}\\n\")"
   ]
  },
  {
   "cell_type": "markdown",
   "metadata": {
    "id": "wfodePkj3jEa"
   },
   "source": [
    "# Загрузка данных"
   ]
  },
  {
   "cell_type": "code",
   "execution_count": 103,
   "metadata": {
    "id": "OHn4Dct23jEm",
    "tags": []
   },
   "outputs": [],
   "source": [
    "def load_data(path):\n",
    "    with open(path, encoding='utf-8') as f:\n",
    "        text = f.read()\n",
    "\n",
    "    lines = text.splitlines()\n",
    "    pairs = [line.split('\\t') for line in lines]\n",
    "\n",
    "    source = [source for source, target in pairs]\n",
    "    target = [target for source, target in pairs]\n",
    "\n",
    "    return source, target"
   ]
  },
  {
   "cell_type": "code",
   "execution_count": 104,
   "metadata": {
    "id": "cTbSbBz55QtF",
    "tags": []
   },
   "outputs": [],
   "source": [
    "path = 'rus-oss'\n",
    "path_to_file = f'Date/{path}.txt'\n",
    "source, target = load_data(path_to_file)"
   ]
  },
  {
   "cell_type": "code",
   "execution_count": 105,
   "metadata": {
    "id": "lH_dPY8TRp3c",
    "tags": []
   },
   "outputs": [],
   "source": [
    "data = pd.DataFrame()\n",
    "data['Source'] = source\n",
    "data['Target'] = target"
   ]
  },
  {
   "cell_type": "code",
   "execution_count": 106,
   "metadata": {},
   "outputs": [
    {
     "data": {
      "text/html": [
       "<div>\n",
       "<style scoped>\n",
       "    .dataframe tbody tr th:only-of-type {\n",
       "        vertical-align: middle;\n",
       "    }\n",
       "\n",
       "    .dataframe tbody tr th {\n",
       "        vertical-align: top;\n",
       "    }\n",
       "\n",
       "    .dataframe thead th {\n",
       "        text-align: right;\n",
       "    }\n",
       "</style>\n",
       "<table border=\"1\" class=\"dataframe\">\n",
       "  <thead>\n",
       "    <tr style=\"text-align: right;\">\n",
       "      <th></th>\n",
       "      <th>Source</th>\n",
       "      <th>Target</th>\n",
       "    </tr>\n",
       "  </thead>\n",
       "  <tbody>\n",
       "    <tr>\n",
       "      <th>0</th>\n",
       "      <td>Как тебя зовут?</td>\n",
       "      <td>Дæ ном куыд хуыйны?</td>\n",
       "    </tr>\n",
       "    <tr>\n",
       "      <th>1</th>\n",
       "      <td>Меня зовут Алан.</td>\n",
       "      <td>Мæ ном хуыйны Алан.</td>\n",
       "    </tr>\n",
       "    <tr>\n",
       "      <th>2</th>\n",
       "      <td>Чей ты сын?</td>\n",
       "      <td>Кæй лæппу дæ?</td>\n",
       "    </tr>\n",
       "    <tr>\n",
       "      <th>3</th>\n",
       "      <td>Санаеа Ацамаза.</td>\n",
       "      <td>Санаты Ацæмæзы.</td>\n",
       "    </tr>\n",
       "    <tr>\n",
       "      <th>4</th>\n",
       "      <td>Где ты учишься?</td>\n",
       "      <td>Кæм ахуыр кæныс?</td>\n",
       "    </tr>\n",
       "  </tbody>\n",
       "</table>\n",
       "</div>"
      ],
      "text/plain": [
       "             Source               Target\n",
       "0   Как тебя зовут?  Дæ ном куыд хуыйны?\n",
       "1  Меня зовут Алан.  Мæ ном хуыйны Алан.\n",
       "2       Чей ты сын?        Кæй лæппу дæ?\n",
       "3   Санаеа Ацамаза.      Санаты Ацæмæзы.\n",
       "4   Где ты учишься?     Кæм ахуыр кæныс?"
      ]
     },
     "execution_count": 106,
     "metadata": {},
     "output_type": "execute_result"
    }
   ],
   "source": [
    "data.head()"
   ]
  },
  {
   "cell_type": "code",
   "execution_count": 107,
   "metadata": {},
   "outputs": [
    {
     "data": {
      "text/html": [
       "<div>\n",
       "<style scoped>\n",
       "    .dataframe tbody tr th:only-of-type {\n",
       "        vertical-align: middle;\n",
       "    }\n",
       "\n",
       "    .dataframe tbody tr th {\n",
       "        vertical-align: top;\n",
       "    }\n",
       "\n",
       "    .dataframe thead th {\n",
       "        text-align: right;\n",
       "    }\n",
       "</style>\n",
       "<table border=\"1\" class=\"dataframe\">\n",
       "  <thead>\n",
       "    <tr style=\"text-align: right;\">\n",
       "      <th></th>\n",
       "      <th>Source</th>\n",
       "      <th>Target</th>\n",
       "    </tr>\n",
       "  </thead>\n",
       "  <tbody>\n",
       "    <tr>\n",
       "      <th>1873</th>\n",
       "      <td>Входите.</td>\n",
       "      <td>Рбахизут.</td>\n",
       "    </tr>\n",
       "    <tr>\n",
       "      <th>1874</th>\n",
       "      <td>Поняла!</td>\n",
       "      <td>Бамбæрстон!</td>\n",
       "    </tr>\n",
       "    <tr>\n",
       "      <th>1875</th>\n",
       "      <td>Познакомьтесь.</td>\n",
       "      <td>Базонгæут.</td>\n",
       "    </tr>\n",
       "    <tr>\n",
       "      <th>1876</th>\n",
       "      <td>Предатель.</td>\n",
       "      <td>Уæйгæнæг.</td>\n",
       "    </tr>\n",
       "    <tr>\n",
       "      <th>1877</th>\n",
       "      <td>Притормози!</td>\n",
       "      <td>Фæуром!</td>\n",
       "    </tr>\n",
       "  </tbody>\n",
       "</table>\n",
       "</div>"
      ],
      "text/plain": [
       "              Source       Target\n",
       "1873        Входите.    Рбахизут.\n",
       "1874         Поняла!  Бамбæрстон!\n",
       "1875  Познакомьтесь.   Базонгæут.\n",
       "1876      Предатель.    Уæйгæнæг.\n",
       "1877     Притормози!      Фæуром!"
      ]
     },
     "execution_count": 107,
     "metadata": {},
     "output_type": "execute_result"
    }
   ],
   "source": [
    "data.tail()"
   ]
  },
  {
   "cell_type": "markdown",
   "metadata": {
    "id": "rgCLkfv5uO3d"
   },
   "source": [
    "## Создайте набора данных"
   ]
  },
  {
   "cell_type": "code",
   "execution_count": 108,
   "metadata": {
    "id": "TqHsArVZ3jFS",
    "tags": []
   },
   "outputs": [],
   "source": [
    "BUFFER_SIZE = len(source)\n",
    "BATCH_SIZE = 64\n",
    "\n",
    "dataset = tf.data.Dataset.from_tensor_slices((source, target)).shuffle(BUFFER_SIZE)\n",
    "dataset = dataset.batch(BATCH_SIZE)"
   ]
  },
  {
   "cell_type": "code",
   "execution_count": 109,
   "metadata": {
    "id": "qc6-NK1GtWQt",
    "tags": []
   },
   "outputs": [
    {
     "name": "stdout",
     "output_type": "stream",
     "text": [
      "[b'\\xd0\\xa5\\xd0\\xbe\\xd1\\x80\\xd0\\xbe\\xd1\\x88\\xd0\\xbe.'\n",
      " b'\\xd0\\xa2\\xd0\\xb5\\xd0\\xbb\\xd0\\xb5\\xd1\\x84\\xd0\\xbe\\xd0\\xbd \\xd0\\xbf\\xd0\\xb5\\xd1\\x80\\xd0\\xb5\\xd1\\x81\\xd1\\x82\\xd0\\xb0\\xd0\\xbb \\xd0\\xb7\\xd0\\xb2\\xd0\\xbe\\xd0\\xbd\\xd0\\xb8\\xd1\\x82\\xd1\\x8c.'\n",
      " b'\\xd0\\xa2\\xd0\\xbe\\xd0\\xbc \\xd0\\xb8 \\xd0\\x9c\\xd1\\x8d\\xd1\\x80\\xd0\\xb8 \\xd0\\xbd\\xd0\\xb5 \\xd0\\xbb\\xd1\\x8e\\xd0\\xb1\\xd1\\x8f\\xd1\\x82 \\xd0\\xbc\\xd0\\xb5\\xd0\\xbd\\xd1\\x8f.'\n",
      " b'\\xd0\\xa1\\xd0\\xbb\\xd1\\x83\\xd1\\x88\\xd0\\xb0\\xd0\\xb9\\xd1\\x82\\xd0\\xb5.'\n",
      " b'\\xd0\\xa2\\xd0\\xbe\\xd0\\xbc \\xd0\\xb8 \\xd0\\x9c\\xd1\\x8d\\xd1\\x80\\xd0\\xb8 \\xd1\\x87\\xd0\\xb0\\xd1\\x81\\xd1\\x82\\xd0\\xbe \\xd0\\xb7\\xd0\\xb2\\xd0\\xbe\\xd0\\xbd\\xd1\\x8f\\xd1\\x82 \\xd0\\xb4\\xd1\\x80\\xd1\\x83\\xd0\\xb3 \\xd0\\xb4\\xd1\\x80\\xd1\\x83\\xd0\\xb3\\xd1\\x83.']\n",
      "\n",
      "[b'\\xd0\\xa5\\xd0\\xbe\\xd1\\x80\\xd0\\xb7.'\n",
      " b'\\xd0\\xa2\\xd0\\xb5\\xd0\\xbb\\xd0\\xb5\\xd1\\x84\\xd0\\xbe\\xd0\\xbd \\xd0\\xbd\\xd0\\xb0\\xd0\\xbb \\xd0\\xb4\\xd0\\xb7\\xd1\\x83\\xd1\\x80\\xd1\\x8b .'\n",
      " b'\\xd0\\xa2\\xd0\\xbe\\xd0\\xbc \\xc3\\xa6\\xd0\\xbc\\xc3\\xa6 \\xd0\\x9c\\xd1\\x8d\\xd1\\x80\\xd0\\xb8 \\xd0\\xbd\\xc3\\xa6 \\xd1\\x83\\xd0\\xb0\\xd1\\x80\\xd0\\xb7\\xd1\\x8b\\xd0\\xbd\\xd1\\x86 \\xd0\\xbc\\xc3\\xa6\\xd0\\xbd.'\n",
      " b'\\xd0\\xa5\\xd1\\x8a\\xd1\\x83\\xd1\\x81\\xd1\\x83\\xd1\\x82.'\n",
      " b'\\xd0\\xa2\\xd0\\xbe\\xd0\\xbc \\xc3\\xa6\\xd0\\xbc\\xc3\\xa6 \\xd0\\x9c\\xd1\\x8d\\xd1\\x80\\xd0\\xb8 \\xd0\\xba\\xc3\\xa6\\xd1\\x80\\xc3\\xa6\\xd0\\xb7\\xd0\\xb8\\xd0\\xbc\\xc3\\xa6 \\xd0\\xb0\\xd1\\x80\\xc3\\xa6\\xd1\\x85 \\xd0\\xb4\\xd0\\xb7\\xd1\\x83\\xd1\\x80\\xd1\\x8b\\xd0\\xbd\\xd1\\x86.']\n"
     ]
    }
   ],
   "source": [
    "for example_input_batch, example_target_batch in dataset.take(1):\n",
    "    print(example_input_batch[:5].numpy())\n",
    "    print()\n",
    "    print(example_target_batch[:5].numpy())\n",
    "    break"
   ]
  },
  {
   "cell_type": "markdown",
   "metadata": {
    "id": "zCoxLcuN3bwv"
   },
   "source": [
    "## Предварительная обработка текста"
   ]
  },
  {
   "cell_type": "markdown",
   "metadata": {
    "id": "7kwdPcHvzz_a"
   },
   "source": [
    "Одна из целей этого руководства - создать модель, которую можно экспортировать как `tf.saved_model`. Чтобы сделать эту экспортированную модель полезной, она должна принимать входные данные `tf.string` и возвращать выходные данные `tf.string`: вся обработка текста происходит внутри модели."
   ]
  },
  {
   "cell_type": "markdown",
   "metadata": {
    "id": "EOQ5n55X4uDB"
   },
   "source": [
    "### Стандартизация"
   ]
  },
  {
   "cell_type": "markdown",
   "metadata": {
    "id": "upKhKAMK4zzI"
   },
   "source": [
    "Модель имеет дело с многоязычным текстом с ограниченным словарным запасом. Поэтому будет важно стандартизировать вводимый текст.\n",
    "\n",
    "Первым шагом является нормализация Юникода для разделения символов с акцентом и замены символов совместимости их эквивалентами в формате ASCII.\n",
    "\n",
    "Пакет `tensorflow_text` содержит операцию нормализации в юникоде:"
   ]
  },
  {
   "cell_type": "code",
   "execution_count": 110,
   "metadata": {
    "id": "mD0e-DWGQ2Vo",
    "tags": []
   },
   "outputs": [
    {
     "name": "stdout",
     "output_type": "stream",
     "text": [
      "Æз? Мæ ном хуыйны Алан.\n",
      "Æз? Мæ ном хуыйны Алан.\n"
     ]
    }
   ],
   "source": [
    "example_text = tf.constant('Æз? Мæ ном хуыйны Алан.')\n",
    "\n",
    "print(example_text.numpy().decode())\n",
    "print(tf_text.normalize_utf8(example_text, 'NFKD').numpy().decode())"
   ]
  },
  {
   "cell_type": "markdown",
   "metadata": {
    "id": "6hTllEjK6RSo"
   },
   "source": [
    "Unicode normalization will be the first step in the text standardization function:"
   ]
  },
  {
   "cell_type": "code",
   "execution_count": 111,
   "metadata": {
    "id": "GKJnCaIJADpQ"
   },
   "outputs": [],
   "source": [
    "def to_lower_case_eng(text):\n",
    "    chars = tf.strings.unicode_decode(text, input_encoding='UTF-8')\n",
    "    capital_mask = tf.logical_and(tf.greater_equal(chars, 65), tf.less(chars, 91))\n",
    "    chars = chars + tf.cast(capital_mask, tf.int32) * 32\n",
    "    return tf.strings.unicode_encode(chars, output_encoding='UTF-8')"
   ]
  },
  {
   "cell_type": "code",
   "execution_count": 112,
   "metadata": {
    "id": "sLWHHWFPCMC5"
   },
   "outputs": [],
   "source": [
    "def to_lower_case_rus(text):\n",
    "    chars = tf.strings.unicode_decode(text, input_encoding='UTF-8')\n",
    "    capital_mask = tf.logical_and(tf.greater_equal(chars, 1040), tf.less(chars, 1072))\n",
    "    chars = chars + tf.cast(capital_mask, tf.int32) * 32\n",
    "    return tf.strings.unicode_encode(chars, output_encoding='UTF-8')"
   ]
  },
  {
   "cell_type": "code",
   "execution_count": 113,
   "metadata": {
    "id": "Jucyt9ghDx1Y"
   },
   "outputs": [],
   "source": [
    "def to_lower_case_oss(text):\n",
    "    chars = tf.strings.unicode_decode(text, input_encoding='UTF-8')\n",
    "    capital_mask = tf.logical_and(tf.greater_equal(chars, 198), tf.less(chars, 199))\n",
    "    chars = chars + tf.cast(capital_mask, tf.int32) * 32\n",
    "    return tf.strings.unicode_encode(chars, output_encoding='UTF-8')"
   ]
  },
  {
   "cell_type": "code",
   "execution_count": 118,
   "metadata": {
    "id": "chTF5N885F0P",
    "tags": []
   },
   "outputs": [],
   "source": [
    "def tf_lower_and_split_punct(text):\n",
    "    # Замена символов 'æ' с кодом 1237 на символ 'æ' с кодом 230\n",
    "    text = tf.strings.regex_replace(text, 'ӕ', 'æ')\n",
    "    # Замена символа '—' на '-'\n",
    "    text = tf.strings.regex_replace(text, '—', '-')\n",
    "    \n",
    "    text = tf_text.normalize_utf8(text, 'NFKD')\n",
    "    \n",
    "    # Нижний регистр\n",
    "    text = to_lower_case_rus(text)\n",
    "    text = to_lower_case_eng(text)\n",
    "    text = to_lower_case_oss(text)\n",
    "    \n",
    "    # Удаление лишних символов, кроме списка представленных.\n",
    "    text = tf.strings.regex_replace(text, '[^ a-zа-яæ.?!,-`…:;\\']', '')\n",
    "    # Добавьте пробелы вокруг знаков препинания.\n",
    "    text = tf.strings.regex_replace(text, '[.?!,-`…:;\\']', r' \\0 ')\n",
    "    # Удаление лишних пробелов.\n",
    "    text = tf.strings.strip(text)\n",
    "\n",
    "    text = tf.strings.join(['[START]', text, '[END]'], separator=' ')\n",
    "    return text"
   ]
  },
  {
   "cell_type": "code",
   "execution_count": 119,
   "metadata": {
    "id": "UREvDg3sEKYa",
    "tags": []
   },
   "outputs": [
    {
     "name": "stdout",
     "output_type": "stream",
     "text": [
      "Æз? Мæ ном хуыйны Алан.\n",
      "[START] æз ?  мæ ном хуыины алан . [END]\n"
     ]
    }
   ],
   "source": [
    "print(example_text.numpy().decode())\n",
    "print(tf_lower_and_split_punct(example_text).numpy().decode())"
   ]
  },
  {
   "cell_type": "markdown",
   "metadata": {
    "id": "4q-sKsSI7xRZ"
   },
   "source": [
    "### Векторизация текста"
   ]
  },
  {
   "cell_type": "markdown",
   "metadata": {
    "id": "6aKn8qd37abi"
   },
   "source": [
    "Эта функция стандартизации находится в `tf.keras.layers.TextVectorization`, который будет обрабатывать получение словаря и преобразование входного текста в последовательности токенов."
   ]
  },
  {
   "cell_type": "code",
   "execution_count": 18,
   "metadata": {
    "id": "eAY9k49G3jE_",
    "tags": []
   },
   "outputs": [],
   "source": [
    "max_vocab_size = 5000\n",
    "\n",
    "input_text_processor = tf.keras.layers.TextVectorization(\n",
    "    standardize=tf_lower_and_split_punct,\n",
    "    max_tokens=max_vocab_size)"
   ]
  },
  {
   "cell_type": "markdown",
   "metadata": {
    "id": "7kbC6ODP8IK_"
   },
   "source": [
    "Слой `TextVectorization` и многие другие слои предварительной обработки имеют метод `adapt`. Этот метод считывает одну эпоху обучающих данных и работает очень похоже на `Model.fix`. Этот метод `adapt` инициализирует слой на основе данных. Здесь он определяет словарный запас:"
   ]
  },
  {
   "cell_type": "code",
   "execution_count": 19,
   "metadata": {
    "id": "bmsI1Yql8FYe",
    "tags": []
   },
   "outputs": [
    {
     "data": {
      "text/plain": [
       "['', '[UNK]', '[START]', '[END]', '.', '?', ',', 'я', 'не', 'том']"
      ]
     },
     "execution_count": 19,
     "metadata": {},
     "output_type": "execute_result"
    }
   ],
   "source": [
    "input_text_processor.adapt(source)\n",
    "\n",
    "# Первые 10 слов из входного словаря\n",
    "input_text_processor.get_vocabulary()[:10]"
   ]
  },
  {
   "cell_type": "code",
   "execution_count": 20,
   "metadata": {
    "id": "jlC4xuZnKLBS",
    "tags": []
   },
   "outputs": [
    {
     "data": {
      "text/plain": [
       "['', '[UNK]', '[START]', '[END]', '.', '?', ',', 'том', 'æз', 'у']"
      ]
     },
     "execution_count": 20,
     "metadata": {},
     "output_type": "execute_result"
    }
   ],
   "source": [
    "output_text_processor = tf.keras.layers.TextVectorization(\n",
    "    standardize=tf_lower_and_split_punct,\n",
    "    max_tokens=max_vocab_size)\n",
    "\n",
    "# Первые 10 слов из выходного словаря\n",
    "output_text_processor.adapt(target)\n",
    "output_text_processor.get_vocabulary()[:10]"
   ]
  },
  {
   "cell_type": "markdown",
   "metadata": {
    "id": "BWQqlP_s9eIv"
   },
   "source": [
    "Теперь эти слои могут преобразовывать пакет строк в пакет идентификаторов токенов:"
   ]
  },
  {
   "cell_type": "code",
   "execution_count": 21,
   "metadata": {
    "id": "9KZxj8IrNZ9S",
    "tags": []
   },
   "outputs": [
    {
     "data": {
      "text/plain": [
       "<tf.Tensor: shape=(3, 10), dtype=int64, numpy=\n",
       "array([[   2,  652,   14,    4,    3,    0,    0,    0,    0,    0],\n",
       "       [   2, 1757,    4,    3,    0,    0,    0,    0,    0,    0],\n",
       "       [   2,   87,    7, 1383,    5,    3,    0,    0,    0,    0]],\n",
       "      dtype=int64)>"
      ]
     },
     "execution_count": 21,
     "metadata": {},
     "output_type": "execute_result"
    }
   ],
   "source": [
    "example_tokens = input_text_processor(example_input_batch)\n",
    "example_tokens[:3, :10]"
   ]
  },
  {
   "cell_type": "markdown",
   "metadata": {
    "id": "AA9rUn9G9n78"
   },
   "source": [
    "Метод `get_vocabulary` можно использовать для преобразования идентификаторов токенов обратно в текст:"
   ]
  },
  {
   "cell_type": "code",
   "execution_count": 22,
   "metadata": {
    "id": "98g9rcxGQY0I",
    "tags": []
   },
   "outputs": [
    {
     "data": {
      "text/plain": [
       "'[START] ответьте мне . [END]         '"
      ]
     },
     "execution_count": 22,
     "metadata": {},
     "output_type": "execute_result"
    }
   ],
   "source": [
    "input_vocab = np.array(input_text_processor.get_vocabulary())\n",
    "tokens = input_vocab[example_tokens[0].numpy()]\n",
    "' '.join(tokens)"
   ]
  },
  {
   "cell_type": "markdown",
   "metadata": {
    "id": "Ot0aCL9t-Ghi"
   },
   "source": [
    "Возвращаемые идентификаторы токенов заполняются нулем. Это можно легко превратить в маску:"
   ]
  },
  {
   "cell_type": "code",
   "execution_count": 23,
   "metadata": {
    "id": "_jx4Or_eFRSz",
    "tags": []
   },
   "outputs": [
    {
     "data": {
      "text/plain": [
       "Text(0.5, 1.0, 'Mask')"
      ]
     },
     "execution_count": 23,
     "metadata": {},
     "output_type": "execute_result"
    },
    {
     "data": {
      "image/png": "[encoded data removed]",
      "text/plain": [
       "<Figure size 800x640 with 2 Axes>"
      ]
     },
     "metadata": {},
     "output_type": "display_data"
    }
   ],
   "source": [
    "plt.figure(figsize=(10,8), dpi=80)\n",
    "plt.subplot(1, 2, 1)\n",
    "plt.pcolormesh(example_tokens)\n",
    "plt.title('Token IDs')\n",
    "\n",
    "plt.subplot(1, 2, 2)\n",
    "plt.pcolormesh(example_tokens != 0)\n",
    "plt.title('Mask')"
   ]
  },
  {
   "cell_type": "markdown",
   "metadata": {
    "id": "TNfHIF71ulLu"
   },
   "source": [
    "# Поссстроение модели\n",
    "\n",
    "На следующей диаграмме показан обзор модели. На каждом временном шаге выходные данные декодера объединяются со взвешенной суммой по кодированному входному сигналу, чтобы предсказать следующее слово [Luong's paper](https://arxiv.org/abs/1508.04025v5).\n",
    "\n",
    "<img src=\"https://www.tensorflow.org/images/seq2seq/attention_mechanism.jpg\" width=\"500\" alt=\"attention mechanism\">\n"
   ]
  },
  {
   "cell_type": "markdown",
   "metadata": {
    "id": "gzQWx2saImMV"
   },
   "source": [
    "Прежде чем приступить к этому, определите несколько констант для модели:"
   ]
  },
  {
   "cell_type": "code",
   "execution_count": 24,
   "metadata": {
    "id": "_a9uNz3-IrF-",
    "tags": []
   },
   "outputs": [],
   "source": [
    "embedding_dim = 256\n",
    "units = 1024"
   ]
  },
  {
   "cell_type": "markdown",
   "metadata": {
    "id": "blNgVbLSzpsr"
   },
   "source": [
    "## Encoder\n",
    "\n",
    "Энкодер включает в себя:\n",
    "\n",
    "1. Принимает список идентификаторов токенов (`input_text_processor`).\n",
    "2. Ищет Embedding вектор для токенов (`layers.Embedding`).\n",
    "3. Обробатывает Embedding в новую последовательность (`layers.GRU`).\n",
    "4. Возвращает:\n",
    "    * Обработанная последовательность. Это будет передано слою Attention.\n",
    "    * Внутреннее состояние. Это будет использовано для инициализации декодера"
   ]
  },
  {
   "cell_type": "code",
   "execution_count": 25,
   "metadata": {
    "id": "nZ2rI24i3jFg",
    "tags": []
   },
   "outputs": [],
   "source": [
    "class Encoder(tf.keras.layers.Layer):\n",
    "    def __init__(self, input_vocab_size, embedding_dim, enc_units):\n",
    "        super(Encoder, self).__init__()\n",
    "        self.enc_units = enc_units\n",
    "        self.input_vocab_size = input_vocab_size\n",
    "\n",
    "        # Слой Embedding преобразует токены в векторы\n",
    "        self.embedding = tf.keras.layers.Embedding(self.input_vocab_size, embedding_dim)\n",
    "\n",
    "        # Слой GRU для обработки входных векторов\n",
    "        self.gru = tf.keras.layers.GRU(self.enc_units,\n",
    "                                       # Возвращает последовательность и состояние\n",
    "                                       return_sequences=True,\n",
    "                                       return_state=True,\n",
    "                                       recurrent_initializer='glorot_uniform')\n",
    "\n",
    "    def call(self, tokens, state=None):\n",
    "        shape_checker = ShapeChecker()\n",
    "        shape_checker(tokens, ('batch', 's'))\n",
    "\n",
    "        # 2. Слой Embedding просматривается для каждого токена.\n",
    "        vectors = self.embedding(tokens)\n",
    "        shape_checker(vectors, ('batch', 's', 'embed_dim'))\n",
    "\n",
    "        # 3. GRU обрабатывает последовательность embedding'a.\n",
    "        #    output shape: (batch, s, enc_units)\n",
    "        #    state shape: (batch, enc_units)\n",
    "        output, state = self.gru(vectors, initial_state=state)\n",
    "        shape_checker(output, ('batch', 's', 'enc_units'))\n",
    "        shape_checker(state, ('batch', 'enc_units'))\n",
    "\n",
    "        # 4. Возвращает новую последовательность и ее состояние.\n",
    "        return output, state"
   ]
  },
  {
   "cell_type": "code",
   "execution_count": 26,
   "metadata": {
    "id": "60gSVh05Jl6l",
    "tags": []
   },
   "outputs": [
    {
     "name": "stdout",
     "output_type": "stream",
     "text": [
      "Input batch, shape (batch): (64,)\n",
      "Input batch tokens, shape (batch, s): (64, 14)\n",
      "Encoder output, shape (batch, s, units): (64, 14, 1024)\n",
      "Encoder state, shape (batch, units): (64, 1024)\n"
     ]
    }
   ],
   "source": [
    "# Преобразование входного текста в токены.\n",
    "example_tokens = input_text_processor(example_input_batch)\n",
    "\n",
    "# Закодирование входной последовательности\n",
    "encoder = Encoder(input_text_processor.vocabulary_size(), embedding_dim, units)\n",
    "example_enc_output, example_enc_state = encoder(example_tokens)\n",
    "\n",
    "print(f'Input batch, shape (batch): {example_input_batch.shape}')\n",
    "print(f'Input batch tokens, shape (batch, s): {example_tokens.shape}')\n",
    "print(f'Encoder output, shape (batch, s, units): {example_enc_output.shape}')\n",
    "print(f'Encoder state, shape (batch, units): {example_enc_state.shape}')"
   ]
  },
  {
   "cell_type": "markdown",
   "metadata": {
    "id": "2RIPHh4O9ixB"
   },
   "source": [
    "Энкодер возвращает свое внутреннее состояние, чтобы его состояние можно было использовать для инициализации декодера.\n",
    "\n",
    "Также обычно RNN возвращает свое состояние, чтобы он мог обрабатывать последовательность по нескольким вызовам. Вы увидите больше об этом при создании декодера."
   ]
  },
  {
   "cell_type": "markdown",
   "metadata": {
    "id": "45xM_Gl1MgXY"
   },
   "source": [
    "## Attention\n",
    "\n",
    "Декодер использует внимание (Attention) для выборочного фокусирования на частях входной последовательности.\n",
    "Attention принимает последовательность векторов в качестве входных данных для каждого примера и возвращает вектор \"attention\"."
   ]
  },
  {
   "cell_type": "markdown",
   "metadata": {},
   "source": [
    "$$\n",
    "\\begin{eqnarray*}\n",
    "    a_{ts} = \\frac{exp(score(h_t, \\overline h_s)}{\\sum^{S}_{s'=1}exp(score(h_t, \\overline h_{s'}))} & & \\textrm{Attention weights} \\\\\n",
    "    c_t = \\sum_s a_{ts} \\overline h_s & & \\textrm{Context vector} \\\\\n",
    "\\end{eqnarray*}\n",
    "$$"
   ]
  },
  {
   "cell_type": "markdown",
   "metadata": {
    "id": "NX2JsKzzzgZ5"
   },
   "source": [
    "Где:\n",
    "\n",
    "* $s$ - это индекс энкодера.\n",
    "* $t$ - это индекс декодера.\n",
    "* $\\alpha_{ts}$ - это веса внимания.\n",
    "* $h_s$ - это последовательность выходов энкодера, на которые обращено внимание\n",
    "* $h_t$ - это состояние декодера, относящееся к последовательности\n",
    "* $c_t$ - это является результирующим контекстным вектором.\n",
    "* $a_t$ - это конечный результат, объединяющий \"контекст\" и \"запрос\".\n",
    "\n",
    "Уравнения:\n",
    "\n",
    "1. Вычисляет веса внимания, $\\alpha_{ts}$, как softmax для выходной последовательности кодера.\n",
    "2. Вычисляет вектор контекста как взвешенную сумму выходных данных кодера.\n"
   ]
  },
  {
   "cell_type": "markdown",
   "metadata": {
    "id": "fNA5GeHHPsGL"
   },
   "source": [
    "Последней является функция $score$. Ее задача состоит в том, чтобы вычислить scalar logit-score для каждой пары key-query.\n",
    "\n",
    "В данной реализации используется [Адаптивное внимание Богданова](https://arxiv.org/pdf/1409.0473.pdf). TensorFlow включает в себя реализацию `layers.Attention` и `layers.AdditiveAttention`. Приведенный ниже класс обрабатывает весовые матрицы в паре `layers.Dense` слоев, и вызывает встроенную реализацию."
   ]
  },
  {
   "cell_type": "code",
   "execution_count": 27,
   "metadata": {
    "id": "momiE59lXo6U",
    "tags": []
   },
   "outputs": [],
   "source": [
    "class BahdanauAttention(tf.keras.layers.Layer):\n",
    "    def __init__(self, units):\n",
    "        super().__init__()\n",
    "        # For Eqn. (4), the  Bahdanau attention\n",
    "        self.W1 = tf.keras.layers.Dense(units, use_bias=False)\n",
    "        self.W2 = tf.keras.layers.Dense(units, use_bias=False)\n",
    "\n",
    "        self.attention = tf.keras.layers.AdditiveAttention()\n",
    "\n",
    "    def call(self, query, value, mask):\n",
    "        shape_checker = ShapeChecker()\n",
    "        shape_checker(query, ('batch', 't', 'query_units'))\n",
    "        shape_checker(value, ('batch', 's', 'value_units'))\n",
    "        shape_checker(mask, ('batch', 's'))\n",
    "\n",
    "        # From Eqn. (4), `W1@ht`.\n",
    "        w1_query = self.W1(query)\n",
    "        shape_checker(w1_query, ('batch', 't', 'attn_units'))\n",
    "\n",
    "        # From Eqn. (4), `W2@hs`.\n",
    "        w2_key = self.W2(value)\n",
    "        shape_checker(w2_key, ('batch', 's', 'attn_units'))\n",
    "\n",
    "        query_mask = tf.ones(tf.shape(query)[:-1], dtype=bool)\n",
    "        value_mask = mask\n",
    "\n",
    "        context_vector, attention_weights = self.attention(\n",
    "            inputs = [w1_query, value, w2_key],\n",
    "            mask=[query_mask, value_mask],\n",
    "            return_attention_scores = True,\n",
    "        )\n",
    "        shape_checker(context_vector, ('batch', 't', 'value_units'))\n",
    "        shape_checker(attention_weights, ('batch', 't', 's'))\n",
    "\n",
    "        return context_vector, attention_weights"
   ]
  },
  {
   "cell_type": "markdown",
   "metadata": {
    "id": "Cf13LubPGjDO",
    "tags": []
   },
   "source": [
    "## Проверка слоя Attention\n",
    "\n",
    "Создание слоя `BahdanauAttention`:"
   ]
  },
  {
   "cell_type": "code",
   "execution_count": 28,
   "metadata": {
    "id": "t4QMlOp8Gidh",
    "tags": []
   },
   "outputs": [],
   "source": [
    "attention_layer = BahdanauAttention(units)"
   ]
  },
  {
   "cell_type": "markdown",
   "metadata": {
    "id": "snA1uL9AI-JE"
   },
   "source": [
    "Этот слой принимает 3 входных параметра:\n",
    "\n",
    "* The `query`: Это будет сгенерировано декодером позже.\n",
    "* The `value`: Это будет выходной сигнал энкодера.\n",
    "* The `mask`: Чтобы исключить заполнение, `example_tokens != 0`"
   ]
  },
  {
   "cell_type": "code",
   "execution_count": 29,
   "metadata": {
    "id": "DYSHqmORgVFo",
    "tags": []
   },
   "outputs": [
    {
     "data": {
      "text/plain": [
       "TensorShape([64, 14])"
      ]
     },
     "execution_count": 29,
     "metadata": {},
     "output_type": "execute_result"
    }
   ],
   "source": [
    "(example_tokens != 0).shape"
   ]
  },
  {
   "cell_type": "markdown",
   "metadata": {
    "id": "g2bmvT25pXnr"
   },
   "source": [
    "Векторизованная реализация attention позволяет передавать пакет последовательностей векторов запросов и пакет последовательностей векторов значений. В результате получается:\n",
    "\n",
    "1. Пакет последовательностей результирующих векторов размером с запросы.\n",
    "2. Пакет карт вниманий размером `(query_length, value_length)`."
   ]
  },
  {
   "cell_type": "code",
   "execution_count": 30,
   "metadata": {
    "id": "7y7hjPkNMmHh",
    "tags": []
   },
   "outputs": [
    {
     "name": "stdout",
     "output_type": "stream",
     "text": [
      "Attention result shape: (batch_size, query_seq_length, units):           (64, 2, 1024)\n",
      "Attention weights shape: (batch_size, query_seq_length, value_seq_length): (64, 2, 14)\n"
     ]
    }
   ],
   "source": [
    "# Позже декодер сгенерирует этот запрос внимания\n",
    "example_attention_query = tf.random.normal(shape=[len(example_tokens), 2, 10])\n",
    "\n",
    "# Обратите внимание на закодированные токены\n",
    "\n",
    "context_vector, attention_weights = attention_layer(\n",
    "    query=example_attention_query,\n",
    "    value=example_enc_output,\n",
    "    mask=(example_tokens != 0))\n",
    "\n",
    "print(f'Attention result shape: (batch_size, query_seq_length, units):           {context_vector.shape}')\n",
    "print(f'Attention weights shape: (batch_size, query_seq_length, value_seq_length): {attention_weights.shape}')"
   ]
  },
  {
   "cell_type": "markdown",
   "metadata": {
    "id": "AagyXMH-Jhqt"
   },
   "source": [
    "Веса внимания следует подводить к `1.0` для каждой последовательности.\n",
    "\n",
    "Вот веса внимание всей последовательности при `t=0`:"
   ]
  },
  {
   "cell_type": "code",
   "execution_count": 31,
   "metadata": {
    "id": "Rqr8XGsAJlf6",
    "tags": []
   },
   "outputs": [
    {
     "data": {
      "text/plain": [
       "Text(0.5, 1.0, 'Mask')"
      ]
     },
     "execution_count": 31,
     "metadata": {},
     "output_type": "execute_result"
    },
    {
     "data": {
      "image/png": "[encoded data removed]",
      "text/plain": [
       "<Figure size 800x640 with 2 Axes>"
      ]
     },
     "metadata": {},
     "output_type": "display_data"
    }
   ],
   "source": [
    "plt.figure(figsize=(10,8), dpi=80)\n",
    "plt.subplot(1, 2, 1)\n",
    "plt.pcolormesh(attention_weights[:, 0, :])\n",
    "plt.title('Attention weights')\n",
    "\n",
    "plt.subplot(1, 2, 2)\n",
    "plt.pcolormesh(example_tokens != 0)\n",
    "plt.title('Mask')"
   ]
  },
  {
   "cell_type": "markdown",
   "metadata": {
    "id": "6Eil-C_NN1rp"
   },
   "source": [
    "Из-за малой случайной инициализации веса внимание все близко к `1/(sequence_length)`. Если вы увеличиваете весы для одной последовательности, вы можете видеть, что есть некоторые _небольшие_ вариации, что модель может научиться расширять и эксплуатировать."
   ]
  },
  {
   "cell_type": "code",
   "execution_count": 32,
   "metadata": {
    "id": "ZuzrCdmYlTcJ",
    "tags": []
   },
   "outputs": [
    {
     "data": {
      "text/plain": [
       "TensorShape([64, 2, 14])"
      ]
     },
     "execution_count": 32,
     "metadata": {},
     "output_type": "execute_result"
    }
   ],
   "source": [
    "attention_weights.shape"
   ]
  },
  {
   "cell_type": "code",
   "execution_count": 33,
   "metadata": {
    "id": "qIMwC-f-ZC8N",
    "tags": []
   },
   "outputs": [],
   "source": [
    "attention_slice = attention_weights[0, 0].numpy()\n",
    "attention_slice = attention_slice[attention_slice != 0]"
   ]
  },
  {
   "cell_type": "code",
   "execution_count": 34,
   "metadata": {
    "id": "ysWDPO6hOS8X",
    "tags": []
   },
   "outputs": [
    {
     "data": {
      "text/plain": [
       "[<matplotlib.lines.Line2D at 0x258bf8e7df0>]"
      ]
     },
     "execution_count": 34,
     "metadata": {},
     "output_type": "execute_result"
    },
    {
     "data": {
      "text/plain": [
       "<Figure size 800x640 with 0 Axes>"
      ]
     },
     "metadata": {},
     "output_type": "display_data"
    },
    {
     "data": {
      "image/png": "[encoded data removed]",
      "text/plain": [
       "<Figure size 864x432 with 2 Axes>"
      ]
     },
     "metadata": {},
     "output_type": "display_data"
    }
   ],
   "source": [
    "#@title\n",
    "plt.figure(figsize=(10,8), dpi=80)\n",
    "plt.suptitle('Attention weights for one sequence')\n",
    "\n",
    "plt.figure(figsize=(12, 6))\n",
    "a1 = plt.subplot(1, 2, 1)\n",
    "plt.bar(range(len(attention_slice)), attention_slice)\n",
    "# freeze the xlim\n",
    "plt.xlim(plt.xlim())\n",
    "plt.xlabel('Attention weights')\n",
    "\n",
    "a2 = plt.subplot(1, 2, 2)\n",
    "plt.bar(range(len(attention_slice)), attention_slice)\n",
    "plt.xlabel('Attention weights, zoomed')\n",
    "\n",
    "# zoom in\n",
    "top = max(a1.get_ylim())\n",
    "zoom = 0.85*top\n",
    "a2.set_ylim([0.90*top, top])\n",
    "a1.plot(a1.get_xlim(), [zoom, zoom], color='k')"
   ]
  },
  {
   "cell_type": "markdown",
   "metadata": {
    "id": "aQ638eHN4iCK"
   },
   "source": [
    "## Decoder\n",
    "\n",
    "Задача декодера состоит в том, чтобы генерировать прогнозы для следующего выходного токена.\n",
    "\n",
    "1. Декодер получает полный вывод энкодера.\n",
    "2. Он использует RNN для отслеживания того, что было создано на данный момент.\n",
    "3. Он использует свой выход RNN как запрос на внимание к выходным данным кодировщика, создавая вектор контекста.\n",
    "4. Он объединяет выходные данные RNN и вектор контекста с использованием уравнения (ниже) для создания «вектора внимания».\n",
    "5. Он генерирует логит-прогнозы для следующего токена на основе «вектора внимания»."
   ]
  },
  {
   "cell_type": "markdown",
   "metadata": {},
   "source": [
    "$$\n",
    "    a_t = f(c_t, h_t) = tanh(W_c[c_t; h_t])\n",
    "$$"
   ]
  },
  {
   "cell_type": "markdown",
   "metadata": {
    "id": "pZsQJMqNmg_L"
   },
   "source": [
    "Вот Decoder класс и его инициализатор. Инициализатор создает все необходимые слои."
   ]
  },
  {
   "cell_type": "code",
   "execution_count": 35,
   "metadata": {
    "id": "erYvHIgAl8kh",
    "tags": []
   },
   "outputs": [],
   "source": [
    "class Decoder(tf.keras.layers.Layer):\n",
    "    def __init__(self, output_vocab_size, embedding_dim, dec_units):\n",
    "        super(Decoder, self).__init__()\n",
    "        self.dec_units = dec_units\n",
    "        self.output_vocab_size = output_vocab_size\n",
    "        self.embedding_dim = embedding_dim\n",
    "\n",
    "        # For Step 1. The embedding layer convets token IDs to vectors\n",
    "        self.embedding = tf.keras.layers.Embedding(self.output_vocab_size,\n",
    "                                                   embedding_dim)\n",
    "\n",
    "        # For Step 2. The RNN keeps track of what's been generated so far.\n",
    "        self.gru = tf.keras.layers.GRU(self.dec_units,\n",
    "                                       return_sequences=True,\n",
    "                                       return_state=True,\n",
    "                                       recurrent_initializer='glorot_uniform')\n",
    "\n",
    "        # For step 3. The RNN output will be the query for the attention layer.\n",
    "        self.attention = BahdanauAttention(self.dec_units)\n",
    "\n",
    "        # For step 4. Eqn. (3): converting `ct` to `at`\n",
    "        self.Wc = tf.keras.layers.Dense(dec_units, activation=tf.math.tanh,\n",
    "                                        use_bias=False)\n",
    "\n",
    "        # For step 5. This fully connected layer produces the logits for each\n",
    "        # output token.\n",
    "        self.fc = tf.keras.layers.Dense(self.output_vocab_size)"
   ]
  },
  {
   "cell_type": "markdown",
   "metadata": {
    "id": "eUTfYHmfmwKH"
   },
   "source": [
    "`call` метод для этого слоя принимает и возвращает несколько тензоров. Организуем их в простые классы-контейнеры:"
   ]
  },
  {
   "cell_type": "code",
   "execution_count": 36,
   "metadata": {
    "id": "7WfSIb2sArRT",
    "tags": []
   },
   "outputs": [],
   "source": [
    "class DecoderInput(typing.NamedTuple):\n",
    "    new_tokens: Any\n",
    "    enc_output: Any\n",
    "    mask: Any\n",
    "\n",
    "class DecoderOutput(typing.NamedTuple):\n",
    "    logits: Any\n",
    "    attention_weights: Any"
   ]
  },
  {
   "cell_type": "markdown",
   "metadata": {
    "id": "NChkl2KrnV2y"
   },
   "source": [
    "Here is the implementation of the `call` method:"
   ]
  },
  {
   "cell_type": "code",
   "execution_count": 37,
   "metadata": {
    "id": "PJOi5btHAPNK",
    "tags": []
   },
   "outputs": [],
   "source": [
    "def call(self,\n",
    "         inputs: DecoderInput,\n",
    "         state=None) -> Tuple[DecoderOutput, tf.Tensor]:\n",
    "    shape_checker = ShapeChecker()\n",
    "    shape_checker(inputs.new_tokens, ('batch', 't'))\n",
    "    shape_checker(inputs.enc_output, ('batch', 's', 'enc_units'))\n",
    "    shape_checker(inputs.mask, ('batch', 's'))\n",
    "\n",
    "    if state is not None:\n",
    "        shape_checker(state, ('batch', 'dec_units'))\n",
    "\n",
    "    # Step 1. Lookup the embeddings\n",
    "    vectors = self.embedding(inputs.new_tokens)\n",
    "    shape_checker(vectors, ('batch', 't', 'embedding_dim'))\n",
    "\n",
    "    # Step 2. Process one step with the RNN\n",
    "    rnn_output, state = self.gru(vectors, initial_state=state)\n",
    "\n",
    "    shape_checker(rnn_output, ('batch', 't', 'dec_units'))\n",
    "    shape_checker(state, ('batch', 'dec_units'))\n",
    "\n",
    "    # Step 3. Use the RNN output as the query for the attention over the\n",
    "    # encoder output.\n",
    "    context_vector, attention_weights = self.attention(\n",
    "      query=rnn_output, value=inputs.enc_output, mask=inputs.mask)\n",
    "    shape_checker(context_vector, ('batch', 't', 'dec_units'))\n",
    "    shape_checker(attention_weights, ('batch', 't', 's'))\n",
    "\n",
    "    # Step 4. Eqn. (3): Join the context_vector and rnn_output\n",
    "    #     [ct; ht] shape: (batch t, value_units + query_units)\n",
    "    context_and_rnn_output = tf.concat([context_vector, rnn_output], axis=-1)\n",
    "\n",
    "    # Step 4. Eqn. (3): `at = tanh(Wc@[ct; ht])`\n",
    "    attention_vector = self.Wc(context_and_rnn_output)\n",
    "    shape_checker(attention_vector, ('batch', 't', 'dec_units'))\n",
    "\n",
    "    # Step 5. Generate logit predictions:\n",
    "    logits = self.fc(attention_vector)\n",
    "    shape_checker(logits, ('batch', 't', 'output_vocab_size'))\n",
    "\n",
    "    return DecoderOutput(logits, attention_weights), state"
   ]
  },
  {
   "cell_type": "code",
   "execution_count": 38,
   "metadata": {
    "id": "Ay_mTMPfnb2a",
    "tags": []
   },
   "outputs": [],
   "source": [
    "Decoder.call = call"
   ]
  },
  {
   "cell_type": "markdown",
   "metadata": {
    "id": "arTOBklcFTiC"
   },
   "source": [
    "Энкодер обрабатывает свою полную последовательность ввода с одним вызовом его RNN. Эта реализация декодера может сделать это, а также для эффективного обучения. Но в этом руководстве декодер будет запускаться в цикле по нескольким причинам:\n",
    "\n",
    "* Гибкость: написание цикла дает вам прямой контроль над процедурой обучения.\n",
    "* Ясность: Это можно сделать маскирующие трюки и использовать `layers.RNN`, или `tfa.seq2seq`  API , чтобы упаковать все это в одном вызове. Но записать это в виде цикла может быть яснее.\n",
    "* Петля бесплатное обучение демонстрируется в генерации текста tutiorial.\n"
   ]
  },
  {
   "cell_type": "markdown",
   "metadata": {
    "id": "E1-mLAcUEXpK"
   },
   "source": [
    "Теперь попробуйте использовать этот декодер."
   ]
  },
  {
   "cell_type": "code",
   "execution_count": 39,
   "metadata": {
    "id": "4ZUMbYXIEVeA",
    "tags": []
   },
   "outputs": [],
   "source": [
    "decoder = Decoder(output_text_processor.vocabulary_size(),\n",
    "                  embedding_dim, units)"
   ]
  },
  {
   "cell_type": "markdown",
   "metadata": {
    "id": "UPnaw583CpnY"
   },
   "source": [
    "The decoder takes 4 inputs.\n",
    "\n",
    "* `new_tokens` -  последний маркер генерируется. Инициализировать декодер с  `\"[START]\"` токен.\n",
    "* `enc_output` - Порожденный `Encoder`.\n",
    "* `mask` - Логический тензор, указывающий, где `tokens != 0`\n",
    "* `state` - Предыдущее состояние `state` вывода из декодера (внутреннее состояние RNN декодера)."
   ]
  },
  {
   "cell_type": "code",
   "execution_count": 40,
   "metadata": {
    "id": "4u6eJBU4GL40",
    "tags": []
   },
   "outputs": [],
   "source": [
    "# Convert the target sequence, and collect the \"[START]\" tokens\n",
    "example_output_tokens = output_text_processor(example_target_batch)\n",
    "\n",
    "start_index = output_text_processor.get_vocabulary().index('[START]')\n",
    "first_token = tf.constant([[start_index]] * example_output_tokens.shape[0])"
   ]
  },
  {
   "cell_type": "code",
   "execution_count": 41,
   "metadata": {
    "id": "E5hqvbR5FUCD",
    "tags": []
   },
   "outputs": [
    {
     "name": "stdout",
     "output_type": "stream",
     "text": [
      "logits shape: (batch_size, t, output_vocab_size) (64, 1, 2456)\n",
      "state shape: (batch_size, dec_units) (64, 1024)\n"
     ]
    }
   ],
   "source": [
    "# Run the decoder\n",
    "dec_result, dec_state = decoder(\n",
    "    inputs = DecoderInput(new_tokens=first_token,\n",
    "                          enc_output=example_enc_output,\n",
    "                          mask=(example_tokens != 0)),\n",
    "    state = example_enc_state\n",
    ")\n",
    "\n",
    "print(f'logits shape: (batch_size, t, output_vocab_size) {dec_result.logits.shape}')\n",
    "print(f'state shape: (batch_size, dec_units) {dec_state.shape}')"
   ]
  },
  {
   "cell_type": "markdown",
   "metadata": {
    "id": "vEZvXZRVPHd6"
   },
   "source": [
    "Выполните выборку токена по логитам:"
   ]
  },
  {
   "cell_type": "code",
   "execution_count": 42,
   "metadata": {
    "id": "P5UY8wko3jFp",
    "tags": []
   },
   "outputs": [],
   "source": [
    "sampled_token = tf.random.categorical(dec_result.logits[:, 0, :], num_samples=1)"
   ]
  },
  {
   "cell_type": "markdown",
   "metadata": {
    "id": "-xTpX44VkzrY"
   },
   "source": [
    "Расшифруйте токен как первое слово вывода:"
   ]
  },
  {
   "cell_type": "code",
   "execution_count": 43,
   "metadata": {
    "id": "lKXTLYu4IV7I",
    "tags": []
   },
   "outputs": [
    {
     "data": {
      "text/plain": [
       "array([['цамæ'],\n",
       "       ['куыддæ'],\n",
       "       ['цыди'],\n",
       "       ['цыппар'],\n",
       "       ['æрбахизут']], dtype='<U16')"
      ]
     },
     "execution_count": 43,
     "metadata": {},
     "output_type": "execute_result"
    }
   ],
   "source": [
    "vocab = np.array(output_text_processor.get_vocabulary())\n",
    "first_word = vocab[sampled_token.numpy()]\n",
    "first_word[:5]"
   ]
  },
  {
   "cell_type": "markdown",
   "metadata": {
    "id": "LUQV6AXoQR7z"
   },
   "source": [
    "Теперь используйте декодер для создания второго набора логитов.\n",
    "\n",
    "- Передайте те же `enc_output` и `mask`, они не изменились.\n",
    "- Передайте выбранный токен как `new_tokens`.\n",
    "- Передайте `decoder_state`, который декодер вернул в прошлый раз, поэтому RNN продолжает с памятью о том, где он остановился в прошлый раз.\n"
   ]
  },
  {
   "cell_type": "code",
   "execution_count": 44,
   "metadata": {
    "id": "pX1VF9XDJTOM",
    "tags": []
   },
   "outputs": [],
   "source": [
    "dec_result, dec_state = decoder(\n",
    "    DecoderInput(sampled_token,\n",
    "                 example_enc_output,\n",
    "                 mask=(example_tokens != 0)),\n",
    "    state=dec_state)"
   ]
  },
  {
   "cell_type": "code",
   "execution_count": 45,
   "metadata": {
    "id": "H1rs0XL7Y2aS",
    "tags": []
   },
   "outputs": [
    {
     "data": {
      "text/plain": [
       "array([['сæкæр'],\n",
       "       ['вналут'],\n",
       "       ['дзул'],\n",
       "       ['фикус'],\n",
       "       ['ацыдыстут']], dtype='<U16')"
      ]
     },
     "execution_count": 45,
     "metadata": {},
     "output_type": "execute_result"
    }
   ],
   "source": [
    "sampled_token = tf.random.categorical(dec_result.logits[:, 0, :], num_samples=1)\n",
    "first_word = vocab[sampled_token.numpy()]\n",
    "first_word[:5]"
   ]
  },
  {
   "cell_type": "markdown",
   "metadata": {
    "id": "B6xyru86m914"
   },
   "source": [
    "# Training\n",
    "\n",
    "Now that you have all the model components, it's time to start training the model. You'll need:\n",
    "\n",
    "- A loss function and optimizer to perform the optimization.\n",
    "- A training step function defining how to update the model for each input/target batch.\n",
    "- A training loop to drive the training and save checkpoints."
   ]
  },
  {
   "cell_type": "markdown",
   "metadata": {
    "id": "_ch_71VbIRfK"
   },
   "source": [
    "## Define the loss function"
   ]
  },
  {
   "cell_type": "code",
   "execution_count": 46,
   "metadata": {
    "id": "WmTHr5iV3jFr",
    "tags": []
   },
   "outputs": [],
   "source": [
    "class MaskedLoss(tf.keras.losses.Loss):\n",
    "    def __init__(self):\n",
    "        self.name = 'masked_loss'\n",
    "        self.loss = tf.keras.losses.SparseCategoricalCrossentropy(\n",
    "            from_logits=True, reduction='none')\n",
    "\n",
    "    def __call__(self, y_true, y_pred):\n",
    "        shape_checker = ShapeChecker()\n",
    "        shape_checker(y_true, ('batch', 't'))\n",
    "        shape_checker(y_pred, ('batch', 't', 'logits'))\n",
    "\n",
    "        # Calculate the loss for each item in the batch.\n",
    "        loss = self.loss(y_true, y_pred)\n",
    "        shape_checker(loss, ('batch', 't'))\n",
    "\n",
    "        # Mask off the losses on padding.\n",
    "        mask = tf.cast(y_true != 0, tf.float32)\n",
    "        shape_checker(mask, ('batch', 't'))\n",
    "        loss *= mask\n",
    "\n",
    "        # Return the total.\n",
    "        return tf.reduce_sum(loss)"
   ]
  },
  {
   "cell_type": "markdown",
   "metadata": {
    "id": "M5AgEBh2S404"
   },
   "source": [
    "## Implement the training step"
   ]
  },
  {
   "cell_type": "markdown",
   "metadata": {
    "id": "r_G20Te1XSmJ"
   },
   "source": [
    "Start with a model class, the training process will be implemented as the `train_step` method on this model. See [Customizing fit](https://www.tensorflow.org/guide/keras/customizing_what_happens_in_fit) for details.\n",
    "\n",
    "Here the `train_step` method is a wrapper around the `_train_step` implementation which will come later. This wrapper includes a switch to turn on and off `tf.function` compilation, to make debugging easier."
   ]
  },
  {
   "cell_type": "code",
   "execution_count": 47,
   "metadata": {
    "id": "WWIyuy71TkJT",
    "tags": []
   },
   "outputs": [],
   "source": [
    "class TrainTranslator(tf.keras.Model):\n",
    "    def __init__(self, embedding_dim, units,\n",
    "               input_text_processor,\n",
    "               output_text_processor, \n",
    "               use_tf_function=True):\n",
    "        super().__init__()\n",
    "        # Build the encoder and decoder\n",
    "        encoder = Encoder(input_text_processor.vocabulary_size(),\n",
    "                          embedding_dim, units)\n",
    "        decoder = Decoder(output_text_processor.vocabulary_size(),\n",
    "                          embedding_dim, units)\n",
    "\n",
    "        self.encoder = encoder\n",
    "        self.decoder = decoder\n",
    "        self.input_text_processor = input_text_processor\n",
    "        self.output_text_processor = output_text_processor\n",
    "        self.use_tf_function = use_tf_function\n",
    "        self.shape_checker = ShapeChecker()\n",
    "\n",
    "    def train_step(self, inputs):\n",
    "        self.shape_checker = ShapeChecker()\n",
    "        if self.use_tf_function:\n",
    "            return self._tf_train_step(inputs)\n",
    "        else:\n",
    "            return self._train_step(inputs)"
   ]
  },
  {
   "cell_type": "markdown",
   "metadata": {
    "id": "-i0i1x6jwsLm"
   },
   "source": [
    "Overall the implementation for the `Model.train_step` method is as follows:\n",
    "\n",
    "1. Receive a batch of `input_text, target_text` from the `tf.data.Dataset`.\n",
    "2. Convert those raw text inputs to token-embeddings and masks. \n",
    "3. Run the encoder on the `input_tokens` to get the `encoder_output` and `encoder_state`.\n",
    "4. Initialize the decoder state and loss. \n",
    "5. Loop over the `target_tokens`:\n",
    "   1. Run the decoder one step at a time.\n",
    "   2. Calculate the loss for each step.\n",
    "   3. Accumulate the average loss.\n",
    "6. Calculate the gradient of the loss and use the optimizer to apply updates to the model's `trainable_variables`."
   ]
  },
  {
   "cell_type": "markdown",
   "metadata": {
    "id": "ngBjFw4BU5G7"
   },
   "source": [
    "The `_preprocess` method, added below, implements steps #1 and #2: "
   ]
  },
  {
   "cell_type": "code",
   "execution_count": 48,
   "metadata": {
    "id": "ZlYE68wzXoA8",
    "tags": []
   },
   "outputs": [],
   "source": [
    "def _preprocess(self, input_text, target_text):\n",
    "    self.shape_checker(input_text, ('batch',))\n",
    "    self.shape_checker(target_text, ('batch',))\n",
    "\n",
    "    # Convert the text to token IDs\n",
    "    input_tokens = self.input_text_processor(input_text)\n",
    "    target_tokens = self.output_text_processor(target_text)\n",
    "    self.shape_checker(input_tokens, ('batch', 's'))\n",
    "    self.shape_checker(target_tokens, ('batch', 't'))\n",
    "\n",
    "    # Convert IDs to masks.\n",
    "    input_mask = input_tokens != 0\n",
    "    self.shape_checker(input_mask, ('batch', 's'))\n",
    "\n",
    "    target_mask = target_tokens != 0\n",
    "    self.shape_checker(target_mask, ('batch', 't'))\n",
    "\n",
    "    return input_tokens, input_mask, target_tokens, target_mask"
   ]
  },
  {
   "cell_type": "code",
   "execution_count": 49,
   "metadata": {
    "id": "lHy6hzStrgjQ",
    "tags": []
   },
   "outputs": [],
   "source": [
    "TrainTranslator._preprocess = _preprocess"
   ]
  },
  {
   "cell_type": "markdown",
   "metadata": {
    "id": "d3kvbcArc2y-"
   },
   "source": [
    "The `_train_step` method, added below, handles the remaining steps except for actually running the decoder: "
   ]
  },
  {
   "cell_type": "code",
   "execution_count": 50,
   "metadata": {
    "id": "Qs_gsISsYPpY",
    "tags": []
   },
   "outputs": [],
   "source": [
    "def _train_step(self, inputs):\n",
    "    input_text, target_text = inputs  \n",
    "\n",
    "    (input_tokens, input_mask, target_tokens, target_mask) = self._preprocess(input_text, target_text)\n",
    "\n",
    "    max_target_length = tf.shape(target_tokens)[1]\n",
    "\n",
    "    with tf.GradientTape() as tape:\n",
    "        # Encode the input\n",
    "        enc_output, enc_state = self.encoder(input_tokens)\n",
    "        self.shape_checker(enc_output, ('batch', 's', 'enc_units'))\n",
    "        self.shape_checker(enc_state, ('batch', 'enc_units'))\n",
    "\n",
    "        # Initialize the decoder's state to the encoder's final state.\n",
    "        # This only works if the encoder and decoder have the same number of\n",
    "        # units.\n",
    "        dec_state = enc_state\n",
    "        loss = tf.constant(0.0)\n",
    "\n",
    "        for t in tf.range(max_target_length-1):\n",
    "          # Pass in two tokens from the target sequence:\n",
    "          # 1. The current input to the decoder.\n",
    "          # 2. The target for the decoder's next prediction.\n",
    "            new_tokens = target_tokens[:, t:t+2]\n",
    "            step_loss, dec_state = self._loop_step(new_tokens, input_mask,\n",
    "                                                 enc_output, dec_state)\n",
    "            loss = loss + step_loss\n",
    "\n",
    "        # Average the loss over all non padding tokens.\n",
    "        average_loss = loss / tf.reduce_sum(tf.cast(target_mask, tf.float32))\n",
    "\n",
    "    # Apply an optimization step\n",
    "    variables = self.trainable_variables \n",
    "    gradients = tape.gradient(average_loss, variables)\n",
    "    self.optimizer.apply_gradients(zip(gradients, variables))\n",
    "\n",
    "    # Return a dict mapping metric names to current value\n",
    "    return {'batch_loss': average_loss}"
   ]
  },
  {
   "cell_type": "code",
   "execution_count": 51,
   "metadata": {
    "id": "KGwWHIxLrjGR",
    "tags": []
   },
   "outputs": [],
   "source": [
    "TrainTranslator._train_step = _train_step"
   ]
  },
  {
   "cell_type": "markdown",
   "metadata": {
    "id": "F7g40o-mXyt5"
   },
   "source": [
    "The `_loop_step` method, added below, executes the decoder and calculates the incremental loss and new decoder state (`dec_state`)."
   ]
  },
  {
   "cell_type": "code",
   "execution_count": 52,
   "metadata": {
    "id": "9VrzgwztXzYJ",
    "tags": []
   },
   "outputs": [],
   "source": [
    "def _loop_step(self, new_tokens, input_mask, enc_output, dec_state):\n",
    "    input_token, target_token = new_tokens[:, 0:1], new_tokens[:, 1:2]\n",
    "\n",
    "    # Run the decoder one step.\n",
    "    decoder_input = DecoderInput(new_tokens=input_token,\n",
    "                               enc_output=enc_output,\n",
    "                               mask=input_mask)\n",
    "\n",
    "    dec_result, dec_state = self.decoder(decoder_input, state=dec_state)\n",
    "    self.shape_checker(dec_result.logits, ('batch', 't1', 'logits'))\n",
    "    self.shape_checker(dec_result.attention_weights, ('batch', 't1', 's'))\n",
    "    self.shape_checker(dec_state, ('batch', 'dec_units'))\n",
    "\n",
    "    # `self.loss` returns the total for non-padded tokens\n",
    "    y = target_token\n",
    "    y_pred = dec_result.logits\n",
    "    step_loss = self.loss(y, y_pred)\n",
    "\n",
    "    return step_loss, dec_state"
   ]
  },
  {
   "cell_type": "code",
   "execution_count": 53,
   "metadata": {
    "id": "xj3I7VULrk1R",
    "tags": []
   },
   "outputs": [],
   "source": [
    "TrainTranslator._loop_step = _loop_step"
   ]
  },
  {
   "cell_type": "markdown",
   "metadata": {
    "id": "WACCHvKWBQ9C"
   },
   "source": [
    "## Test the training step\n",
    "\n",
    "Build a `TrainTranslator`, and configure it for training using the `Model.compile` method:"
   ]
  },
  {
   "cell_type": "code",
   "execution_count": 54,
   "metadata": {
    "id": "OA6bCske8TXm",
    "tags": []
   },
   "outputs": [],
   "source": [
    "translator = TrainTranslator(\n",
    "    embedding_dim, units,\n",
    "    input_text_processor=input_text_processor,\n",
    "    output_text_processor=output_text_processor,\n",
    "    use_tf_function=False)\n",
    "\n",
    "# Configure the loss and optimizer\n",
    "translator.compile(\n",
    "    optimizer=tf.optimizers.Adam(),\n",
    "    loss=MaskedLoss(),\n",
    ")"
   ]
  },
  {
   "cell_type": "markdown",
   "metadata": {
    "id": "6y5OnZDsB3sB"
   },
   "source": [
    "Test out the `train_step`. For a text model like this the loss should start near:"
   ]
  },
  {
   "cell_type": "code",
   "execution_count": 55,
   "metadata": {
    "id": "zHe-OudqCFGK",
    "tags": []
   },
   "outputs": [
    {
     "data": {
      "text/plain": [
       "7.806289289267033"
      ]
     },
     "execution_count": 55,
     "metadata": {},
     "output_type": "execute_result"
    }
   ],
   "source": [
    "np.log(output_text_processor.vocabulary_size())"
   ]
  },
  {
   "cell_type": "code",
   "execution_count": 56,
   "metadata": {
    "id": "VwMU9cFEfjha",
    "tags": []
   },
   "outputs": [
    {
     "name": "stdout",
     "output_type": "stream",
     "text": [
      "{'batch_loss': <tf.Tensor: shape=(), dtype=float32, numpy=6.6906905>}\n",
      "{'batch_loss': <tf.Tensor: shape=(), dtype=float32, numpy=6.6440663>}\n",
      "{'batch_loss': <tf.Tensor: shape=(), dtype=float32, numpy=6.5450983>}\n",
      "{'batch_loss': <tf.Tensor: shape=(), dtype=float32, numpy=6.243157>}\n",
      "{'batch_loss': <tf.Tensor: shape=(), dtype=float32, numpy=5.210769>}\n",
      "{'batch_loss': <tf.Tensor: shape=(), dtype=float32, numpy=6.2896647>}\n",
      "{'batch_loss': <tf.Tensor: shape=(), dtype=float32, numpy=4.2033343>}\n",
      "{'batch_loss': <tf.Tensor: shape=(), dtype=float32, numpy=4.2752085>}\n",
      "{'batch_loss': <tf.Tensor: shape=(), dtype=float32, numpy=4.4004993>}\n",
      "{'batch_loss': <tf.Tensor: shape=(), dtype=float32, numpy=4.2748413>}\n",
      "Wall time: 7.47 s\n"
     ]
    }
   ],
   "source": [
    "%%time\n",
    "for n in range(10):\n",
    "    print(translator.train_step([example_input_batch, example_target_batch]))"
   ]
  },
  {
   "cell_type": "markdown",
   "metadata": {
    "id": "A-xqtsMbCUp2"
   },
   "source": [
    "While it's easier to debug without a `tf.function` it does give a performance boost. So now that the `_train_step` method is working, try the `tf.function`-wrapped `_tf_train_step`, to maximize performance while training:"
   ]
  },
  {
   "cell_type": "code",
   "execution_count": 57,
   "metadata": {
    "id": "UFUsTKQx0jaH",
    "tags": []
   },
   "outputs": [],
   "source": [
    "@tf.function(input_signature=[[tf.TensorSpec(dtype=tf.string, shape=[None]),\n",
    "                               tf.TensorSpec(dtype=tf.string, shape=[None])]])\n",
    "def _tf_train_step(self, inputs):\n",
    "    return self._train_step(inputs)"
   ]
  },
  {
   "cell_type": "code",
   "execution_count": 58,
   "metadata": {
    "id": "2-bgU59jrztQ",
    "tags": []
   },
   "outputs": [],
   "source": [
    "TrainTranslator._tf_train_step = _tf_train_step"
   ]
  },
  {
   "cell_type": "code",
   "execution_count": 59,
   "metadata": {
    "id": "KC8bRv_Gr3H9",
    "tags": []
   },
   "outputs": [],
   "source": [
    "translator.use_tf_function = True"
   ]
  },
  {
   "cell_type": "markdown",
   "metadata": {
    "id": "EKMYNF_sIFb9"
   },
   "source": [
    "The first call will be slow, because it traces the function."
   ]
  },
  {
   "cell_type": "code",
   "execution_count": 60,
   "metadata": {
    "id": "pLQZsX2dp1QK",
    "tags": []
   },
   "outputs": [
    {
     "data": {
      "text/plain": [
       "{'batch_loss': <tf.Tensor: shape=(), dtype=float32, numpy=4.084956>}"
      ]
     },
     "execution_count": 60,
     "metadata": {},
     "output_type": "execute_result"
    }
   ],
   "source": [
    "translator.train_step([example_input_batch, example_target_batch])"
   ]
  },
  {
   "cell_type": "markdown",
   "metadata": {
    "id": "W3t2Hg7UISYi"
   },
   "source": [
    "But after that it's usually 2-3x faster than the eager `train_step` method:"
   ]
  },
  {
   "cell_type": "code",
   "execution_count": 61,
   "metadata": {
    "id": "UzXXMwjXCqqh",
    "tags": []
   },
   "outputs": [
    {
     "name": "stdout",
     "output_type": "stream",
     "text": [
      "{'batch_loss': <tf.Tensor: shape=(), dtype=float32, numpy=3.9246788>}\n",
      "{'batch_loss': <tf.Tensor: shape=(), dtype=float32, numpy=3.7716854>}\n",
      "{'batch_loss': <tf.Tensor: shape=(), dtype=float32, numpy=3.6294487>}\n",
      "{'batch_loss': <tf.Tensor: shape=(), dtype=float32, numpy=3.6459775>}\n",
      "{'batch_loss': <tf.Tensor: shape=(), dtype=float32, numpy=3.620789>}\n",
      "{'batch_loss': <tf.Tensor: shape=(), dtype=float32, numpy=3.5602438>}\n",
      "{'batch_loss': <tf.Tensor: shape=(), dtype=float32, numpy=3.5164902>}\n",
      "{'batch_loss': <tf.Tensor: shape=(), dtype=float32, numpy=3.474203>}\n",
      "{'batch_loss': <tf.Tensor: shape=(), dtype=float32, numpy=3.437444>}\n",
      "{'batch_loss': <tf.Tensor: shape=(), dtype=float32, numpy=3.410125>}\n",
      "Wall time: 3.14 s\n"
     ]
    }
   ],
   "source": [
    "%%time\n",
    "for n in range(10):\n",
    "    print(translator.train_step([example_input_batch, example_target_batch]))"
   ]
  },
  {
   "cell_type": "markdown",
   "metadata": {
    "id": "OIvigTqaEcu1"
   },
   "source": [
    "A good test of a new model is to see that it can overfit a single batch of input. Try it, the loss should quickly go to zero:"
   ]
  },
  {
   "cell_type": "code",
   "execution_count": 62,
   "metadata": {
    "id": "U-dIWMIBqK7b",
    "tags": []
   },
   "outputs": [
    {
     "name": "stdout",
     "output_type": "stream",
     "text": [
      "...................................................................................................."
     ]
    },
    {
     "data": {
      "text/plain": [
       "[<matplotlib.lines.Line2D at 0x2572d3d7dc0>]"
      ]
     },
     "execution_count": 62,
     "metadata": {},
     "output_type": "execute_result"
    },
    {
     "data": {
      "image/png": "[encoded data removed]",
      "text/plain": [
       "<Figure size 960x640 with 1 Axes>"
      ]
     },
     "metadata": {},
     "output_type": "display_data"
    }
   ],
   "source": [
    "losses = []\n",
    "for n in range(100):\n",
    "    print('.', end='')\n",
    "    logs = translator.train_step([example_input_batch, example_target_batch])\n",
    "    losses.append(logs['batch_loss'].numpy())\n",
    "\n",
    "plt.figure(figsize=(12,8), dpi=80)\n",
    "plt.plot(losses)"
   ]
  },
  {
   "cell_type": "markdown",
   "metadata": {
    "id": "aI02XFjoEt1k"
   },
   "source": [
    "Now that you're confident that the training step is working, build a fresh copy of the model to train from scratch:"
   ]
  },
  {
   "cell_type": "code",
   "execution_count": 63,
   "metadata": {
    "id": "Emgfgh4tAmJt",
    "tags": []
   },
   "outputs": [],
   "source": [
    "train_translator = TrainTranslator(\n",
    "    embedding_dim, units,\n",
    "    input_text_processor=input_text_processor,\n",
    "    output_text_processor=output_text_processor)\n",
    "\n",
    "# Configure the loss and optimizer\n",
    "train_translator.compile(\n",
    "    optimizer=tf.optimizers.Adam(),\n",
    "    loss=MaskedLoss(),\n",
    "    metrics=['accuracy']\n",
    ")"
   ]
  },
  {
   "cell_type": "markdown",
   "metadata": {
    "id": "hpObfY22IddU"
   },
   "source": [
    "## Train the model\n",
    "\n",
    "While there's nothing wrong with writing your own custom training loop, implementing the `Model.train_step` method, as in the previous section, allows you to run `Model.fit` and avoid rewriting all that boiler-plate code. \n",
    "\n",
    "This tutorial only trains for a couple of epochs, so use a `callbacks.Callback` to collect the history of batch losses, for plotting:"
   ]
  },
  {
   "cell_type": "code",
   "execution_count": 64,
   "metadata": {
    "id": "J7m4mtnj80sq",
    "tags": []
   },
   "outputs": [],
   "source": [
    "class BatchLogs(tf.keras.callbacks.Callback):\n",
    "    def __init__(self, key):\n",
    "        self.key = key\n",
    "        self.logs = []\n",
    "\n",
    "    def on_train_batch_end(self, n, logs):\n",
    "        self.logs.append(logs[self.key])\n",
    "\n",
    "batch_loss = BatchLogs('batch_loss')"
   ]
  },
  {
   "cell_type": "code",
   "execution_count": 65,
   "metadata": {
    "id": "BQd_esVVoSf3",
    "tags": []
   },
   "outputs": [
    {
     "name": "stdout",
     "output_type": "stream",
     "text": [
      "Epoch 1/18\n",
      "30/30 [==============================] - 25s 327ms/step - batch_loss: 5.2369\n",
      "Epoch 2/18\n",
      "30/30 [==============================] - 10s 318ms/step - batch_loss: 4.3326\n",
      "Epoch 3/18\n",
      "30/30 [==============================] - 10s 323ms/step - batch_loss: 4.0796\n",
      "Epoch 4/18\n",
      "30/30 [==============================] - 9s 297ms/step - batch_loss: 3.7737\n",
      "Epoch 5/18\n",
      "30/30 [==============================] - 9s 293ms/step - batch_loss: 3.4883\n",
      "Epoch 6/18\n",
      "30/30 [==============================] - 9s 302ms/step - batch_loss: 3.2424\n",
      "Epoch 7/18\n",
      "30/30 [==============================] - 9s 299ms/step - batch_loss: 2.9758\n",
      "Epoch 8/18\n",
      "30/30 [==============================] - 9s 288ms/step - batch_loss: 2.7270\n",
      "Epoch 9/18\n",
      "30/30 [==============================] - 9s 296ms/step - batch_loss: 2.4652\n",
      "Epoch 10/18\n",
      "30/30 [==============================] - 9s 294ms/step - batch_loss: 2.1601\n",
      "Epoch 11/18\n",
      "30/30 [==============================] - 9s 297ms/step - batch_loss: 1.8145\n",
      "Epoch 12/18\n",
      "30/30 [==============================] - 9s 295ms/step - batch_loss: 1.5246\n",
      "Epoch 13/18\n",
      "30/30 [==============================] - 9s 296ms/step - batch_loss: 1.2445\n",
      "Epoch 14/18\n",
      "30/30 [==============================] - 9s 291ms/step - batch_loss: 1.0290\n",
      "Epoch 15/18\n",
      "30/30 [==============================] - 9s 297ms/step - batch_loss: 0.8147\n",
      "Epoch 16/18\n",
      "30/30 [==============================] - 9s 294ms/step - batch_loss: 0.6302\n",
      "Epoch 17/18\n",
      "30/30 [==============================] - 9s 291ms/step - batch_loss: 0.4779\n",
      "Epoch 18/18\n",
      "30/30 [==============================] - 9s 293ms/step - batch_loss: 0.3502\n"
     ]
    },
    {
     "data": {
      "text/plain": [
       "<keras.callbacks.History at 0x2572d40b5e0>"
      ]
     },
     "execution_count": 65,
     "metadata": {},
     "output_type": "execute_result"
    }
   ],
   "source": [
    "train_translator.fit(dataset, epochs=18, callbacks=[batch_loss])"
   ]
  },
  {
   "cell_type": "code",
   "execution_count": 66,
   "metadata": {
    "id": "38rLdlmtQHCm",
    "tags": []
   },
   "outputs": [
    {
     "data": {
      "text/plain": [
       "Text(0, 0.5, 'CE/token')"
      ]
     },
     "execution_count": 66,
     "metadata": {},
     "output_type": "execute_result"
    },
    {
     "data": {
      "image/png": "[encoded data removed]",
      "text/plain": [
       "<Figure size 1200x640 with 1 Axes>"
      ]
     },
     "metadata": {},
     "output_type": "display_data"
    }
   ],
   "source": [
    "plt.figure(figsize=(15,8), dpi=80)\n",
    "plt.plot(batch_loss.logs)\n",
    "plt.ylim([-1, 10])\n",
    "plt.xlabel('Batch #')\n",
    "plt.ylabel('CE/token')"
   ]
  },
  {
   "cell_type": "markdown",
   "metadata": {
    "id": "w0S_O_RzHmfe"
   },
   "source": [
    "The visible jumps in the plot are at the epoch boundaries."
   ]
  },
  {
   "cell_type": "markdown",
   "metadata": {
    "id": "mU3Ce8M6I3rz"
   },
   "source": [
    "# Translate\n",
    "\n",
    "Now that the model is trained, implement a function to execute the full `text => text` translation.\n",
    "\n",
    "For this the model needs to invert the `text => token IDs` mapping provided by the `output_text_processor`. It also needs to know the IDs for special tokens. This is all implemented in the constructor for the new class. The implementation of the actual translate method will follow.\n",
    "\n",
    "Overall this is similar to the training loop, except that the input to the decoder at each time step is a sample from the decoder's last prediction."
   ]
  },
  {
   "cell_type": "code",
   "execution_count": 67,
   "metadata": {
    "id": "PO-CLL1LVBbM",
    "tags": []
   },
   "outputs": [],
   "source": [
    "class Translator(tf.Module):\n",
    "    def __init__(self, encoder, decoder, input_text_processor,\n",
    "               output_text_processor):\n",
    "        self.encoder = encoder\n",
    "        self.decoder = decoder\n",
    "        self.input_text_processor = input_text_processor\n",
    "        self.output_text_processor = output_text_processor\n",
    "\n",
    "        self.output_token_string_from_index = (\n",
    "            tf.keras.layers.StringLookup(\n",
    "                vocabulary=output_text_processor.get_vocabulary(),\n",
    "                mask_token='',\n",
    "                invert=True))\n",
    "\n",
    "        # The output should never generate padding, unknown, or start.\n",
    "        index_from_string = tf.keras.layers.StringLookup(\n",
    "            vocabulary=output_text_processor.get_vocabulary(), mask_token='')\n",
    "        token_mask_ids = index_from_string(['', '[UNK]', '[START]']).numpy()\n",
    "\n",
    "        token_mask = np.zeros([index_from_string.vocabulary_size()], dtype=np.bool)\n",
    "        token_mask[np.array(token_mask_ids)] = True\n",
    "        self.token_mask = token_mask\n",
    "\n",
    "        self.start_token = index_from_string(tf.constant('[START]'))\n",
    "        self.end_token = index_from_string(tf.constant('[END]'))"
   ]
  },
  {
   "cell_type": "code",
   "execution_count": 68,
   "metadata": {
    "id": "iBQzFZ9uWU79",
    "tags": []
   },
   "outputs": [
    {
     "name": "stderr",
     "output_type": "stream",
     "text": [
      "C:\\Users\\ONIGAT~1\\AppData\\Local\\Temp/ipykernel_11120/4173397781.py:20: DeprecationWarning: `np.bool` is a deprecated alias for the builtin `bool`. To silence this warning, use `bool` by itself. Doing this will not modify any behavior and is safe. If you specifically wanted the numpy scalar type, use `np.bool_` here.\n",
      "Deprecated in NumPy 1.20; for more details and guidance: https://numpy.org/devdocs/release/1.20.0-notes.html#deprecations\n",
      "  token_mask = np.zeros([index_from_string.vocabulary_size()], dtype=np.bool)\n"
     ]
    }
   ],
   "source": [
    "translator = Translator(\n",
    "    encoder=train_translator.encoder,\n",
    "    decoder=train_translator.decoder,\n",
    "    input_text_processor=input_text_processor,\n",
    "    output_text_processor=output_text_processor,\n",
    ")"
   ]
  },
  {
   "cell_type": "markdown",
   "metadata": {
    "id": "b59PN-UxqYrU"
   },
   "source": [
    "## Convert token IDs to text"
   ]
  },
  {
   "cell_type": "markdown",
   "metadata": {
    "id": "-razg3Aso737"
   },
   "source": [
    "The first method to implement is `tokens_to_text` which converts from token IDs to human readable text."
   ]
  },
  {
   "cell_type": "code",
   "execution_count": 69,
   "metadata": {
    "id": "8IjwKTwtmdFf",
    "tags": []
   },
   "outputs": [],
   "source": [
    "def tokens_to_text(self, result_tokens):\n",
    "    shape_checker = ShapeChecker()\n",
    "    shape_checker(result_tokens, ('batch', 't'))\n",
    "    result_text_tokens = self.output_token_string_from_index(result_tokens)\n",
    "    shape_checker(result_text_tokens, ('batch', 't'))\n",
    "\n",
    "    result_text = tf.strings.reduce_join(result_text_tokens,\n",
    "                                       axis=1, separator=' ')\n",
    "    shape_checker(result_text, ('batch'))\n",
    "\n",
    "    result_text = tf.strings.strip(result_text)\n",
    "    shape_checker(result_text, ('batch',))\n",
    "    return result_text"
   ]
  },
  {
   "cell_type": "code",
   "execution_count": 70,
   "metadata": {
    "id": "912aV0K7r90w",
    "tags": []
   },
   "outputs": [],
   "source": [
    "Translator.tokens_to_text = tokens_to_text"
   ]
  },
  {
   "cell_type": "markdown",
   "metadata": {
    "id": "krBuAapkqNs9"
   },
   "source": [
    "Input some random token IDs and see what it generates:"
   ]
  },
  {
   "cell_type": "code",
   "execution_count": 71,
   "metadata": {
    "id": "cWCMHdoS32QN",
    "tags": []
   },
   "outputs": [
    {
     "data": {
      "text/plain": [
       "array([b'\\xd0\\xb1\\xd0\\xb0\\xd1\\x81\\xd0\\xb0\\xd0\\xb1\\xd1\\x8b\\xd1\\x80 \\xd0\\xb8\\xd0\\xb2\\xd0\\xb4\\xd0\\xb4\\xd0\\xb7\\xd0\\xb0\\xd0\\xb3',\n",
       "       b'\\xd1\\x85\\xd0\\xbe\\xd0\\xbc \\xd0\\xba\\xd0\\xb0\\xd0\\xbc\\xd0\\xb5\\xd1\\x80\\xc3\\xa6',\n",
       "       b'\\xd0\\xb7\\xd1\\x8b\\xd0\\xbd \\xd1\\x85\\xd1\\x83\\xd1\\x80\\xd1\\x8b',\n",
       "       b'\\xd0\\xb1\\xd0\\xbe\\xd0\\xbd\\xd1\\x8b\\xd1\\x85\\xd1\\x8a\\xc3\\xa6\\xd0\\xb4 \\xd0\\xb1\\xd0\\xb0\\xd0\\xbc\\xd0\\xb1\\xd0\\xb0\\xd1\\x80\\xd1\\x8b\\xd0\\xbd',\n",
       "       b'\\xd1\\x86\\xc3\\xa6\\xd1\\x83\\xc3\\xa6\\xd0\\xb3 \\xc3\\xa6\\xd1\\x80\\xd1\\x86\\xd1\\x83'],\n",
       "      dtype=object)"
      ]
     },
     "execution_count": 71,
     "metadata": {},
     "output_type": "execute_result"
    }
   ],
   "source": [
    "example_output_tokens = tf.random.uniform(\n",
    "    shape=[5, 2], minval=0, dtype=tf.int64,\n",
    "    maxval=output_text_processor.vocabulary_size())\n",
    "translator.tokens_to_text(example_output_tokens).numpy()"
   ]
  },
  {
   "cell_type": "markdown",
   "metadata": {
    "id": "AC9De_kAqtaE"
   },
   "source": [
    "## Sample from the decoder's predictions"
   ]
  },
  {
   "cell_type": "markdown",
   "metadata": {
    "id": "q5tno-2ksJv6"
   },
   "source": [
    "This function takes the decoder's logit outputs and samples token IDs from that distribution:"
   ]
  },
  {
   "cell_type": "code",
   "execution_count": 72,
   "metadata": {
    "id": "8lfuj3GcdD6e",
    "tags": []
   },
   "outputs": [],
   "source": [
    "def sample(self, logits, temperature):\n",
    "    shape_checker = ShapeChecker()\n",
    "    # 't' is usually 1 here.\n",
    "    shape_checker(logits, ('batch', 't', 'vocab'))\n",
    "    shape_checker(self.token_mask, ('vocab',))\n",
    "\n",
    "    token_mask = self.token_mask[tf.newaxis, tf.newaxis, :]\n",
    "    shape_checker(token_mask, ('batch', 't', 'vocab'), broadcast=True)\n",
    "\n",
    "    # Set the logits for all masked tokens to -inf, so they are never chosen.\n",
    "    logits = tf.where(self.token_mask, -np.inf, logits)\n",
    "\n",
    "    if temperature == 0.0:\n",
    "        new_tokens = tf.argmax(logits, axis=-1)\n",
    "    else: \n",
    "        logits = tf.squeeze(logits, axis=1)\n",
    "        new_tokens = tf.random.categorical(logits/temperature, num_samples=1)\n",
    "        \n",
    "    shape_checker(new_tokens, ('batch', 't'))\n",
    "\n",
    "    return new_tokens"
   ]
  },
  {
   "cell_type": "code",
   "execution_count": 73,
   "metadata": {
    "id": "4DpDnBdBdL9_",
    "tags": []
   },
   "outputs": [],
   "source": [
    "Translator.sample = sample"
   ]
  },
  {
   "cell_type": "markdown",
   "metadata": {
    "id": "QwdHfGEfsmy5"
   },
   "source": [
    "Test run this function on some random inputs:"
   ]
  },
  {
   "cell_type": "code",
   "execution_count": 74,
   "metadata": {
    "id": "rwLT0nxXym80",
    "tags": []
   },
   "outputs": [
    {
     "data": {
      "text/plain": [
       "<tf.Tensor: shape=(5, 1), dtype=int64, numpy=\n",
       "array([[ 866],\n",
       "       [2440],\n",
       "       [ 810],\n",
       "       [1844],\n",
       "       [1844]], dtype=int64)>"
      ]
     },
     "execution_count": 74,
     "metadata": {},
     "output_type": "execute_result"
    }
   ],
   "source": [
    "example_logits = tf.random.normal([5, 1, output_text_processor.vocabulary_size()])\n",
    "example_output_tokens = translator.sample(example_logits, temperature=1.0)\n",
    "example_output_tokens"
   ]
  },
  {
   "cell_type": "markdown",
   "metadata": {
    "id": "NEWIKFIJ2HWM"
   },
   "source": [
    "## Implement the translation loop\n",
    "\n",
    "Here is a complete implementation of the text to text translation loop.\n",
    "\n",
    "This implementation collects the results into python lists, before using `tf.concat` to join them into tensors.\n",
    "\n",
    "This implementation statically unrolls the graph out to `max_length` iterations.\n",
    "This is okay with eager execution in python."
   ]
  },
  {
   "cell_type": "code",
   "execution_count": 75,
   "metadata": {
    "id": "ZmOvVrZmwAxg",
    "tags": []
   },
   "outputs": [],
   "source": [
    "def translate_unrolled(self, input_text, *, max_length=50, return_attention=True, temperature=1.0):\n",
    "    batch_size = tf.shape(input_text)[0]\n",
    "    input_tokens = self.input_text_processor(input_text)\n",
    "    enc_output, enc_state = self.encoder(input_tokens)\n",
    "\n",
    "    dec_state = enc_state\n",
    "    new_tokens = tf.fill([batch_size, 1], self.start_token)\n",
    "\n",
    "    result_tokens = []\n",
    "    attention = []\n",
    "    done = tf.zeros([batch_size, 1], dtype=tf.bool)\n",
    "\n",
    "    for _ in range(max_length):\n",
    "        dec_input = DecoderInput(new_tokens=new_tokens,\n",
    "                                 enc_output=enc_output,\n",
    "                                 mask=(input_tokens!=0))\n",
    "\n",
    "        dec_result, dec_state = self.decoder(dec_input, state=dec_state)\n",
    "\n",
    "        attention.append(dec_result.attention_weights)\n",
    "\n",
    "        new_tokens = self.sample(dec_result.logits, temperature)\n",
    "\n",
    "        # If a sequence produces an `end_token`, set it `done`\n",
    "        done = done | (new_tokens == self.end_token)\n",
    "        # Once a sequence is done it only produces 0-padding.\n",
    "        new_tokens = tf.where(done, tf.constant(0, dtype=tf.int64), new_tokens)\n",
    "\n",
    "        # Collect the generated tokens\n",
    "        result_tokens.append(new_tokens)\n",
    "\n",
    "        if tf.executing_eagerly() and tf.reduce_all(done):\n",
    "            break\n",
    "\n",
    "    # Convert the list of generates token ids to a list of strings.\n",
    "    result_tokens = tf.concat(result_tokens, axis=-1)\n",
    "    result_text = self.tokens_to_text(result_tokens)\n",
    "\n",
    "    if return_attention:\n",
    "        attention_stack = tf.concat(attention, axis=1)\n",
    "        return {'text': result_text, 'attention': attention_stack}\n",
    "    else:\n",
    "        return {'text': result_text}\n"
   ]
  },
  {
   "cell_type": "code",
   "execution_count": 76,
   "metadata": {
    "id": "JOmd8Y269MG3",
    "tags": []
   },
   "outputs": [],
   "source": [
    "Translator.translate = translate_unrolled"
   ]
  },
  {
   "cell_type": "markdown",
   "metadata": {
    "id": "NxYXf3GNKKLS"
   },
   "source": [
    "Run it on a simple input:"
   ]
  },
  {
   "cell_type": "code",
   "execution_count": 77,
   "metadata": {
    "id": "hd2rgyHwVVrv",
    "tags": []
   },
   "outputs": [
    {
     "name": "stdout",
     "output_type": "stream",
     "text": [
      "куыд дæ кæд цæмæн ?\n",
      "ды уæ бон чи у !\n",
      "\n",
      "Wall time: 253 ms\n"
     ]
    }
   ],
   "source": [
    "%%time\n",
    "input_text = tf.constant([\n",
    "    'Как дела?', # \"It's really cold here.\"\n",
    "    'Доброе утро!', # \"This is my life.\"\"\n",
    "])\n",
    "\n",
    "result = translator.translate(\n",
    "    input_text = input_text)\n",
    "\n",
    "print(result['text'][0].numpy().decode())\n",
    "print(result['text'][1].numpy().decode())\n",
    "print()"
   ]
  },
  {
   "cell_type": "markdown",
   "metadata": {
    "id": "S-6cFyqeUPQm"
   },
   "source": [
    "If you want to export this model you'll need to wrap this method in a `tf.function`. This basic implementation has a few issues if you try to do that:\n",
    "\n",
    "1. The resulting graphs are very large and take a few seconds to build, save or load.\n",
    "2. You can't break from a statically unrolled loop, so it will always run `max_length` iterations, even if all the outputs are done. But even then it's marginally faster than eager execution.\n"
   ]
  },
  {
   "cell_type": "code",
   "execution_count": 78,
   "metadata": {
    "id": "_JhTZ5hOptO-",
    "tags": []
   },
   "outputs": [],
   "source": [
    "@tf.function(input_signature=[tf.TensorSpec(dtype=tf.string, shape=[None])])\n",
    "def tf_translate(self, input_text):\n",
    "    return self.translate(input_text)\n",
    "\n",
    "Translator.tf_translate = tf_translate"
   ]
  },
  {
   "cell_type": "markdown",
   "metadata": {
    "id": "fkccvHDvXCa8"
   },
   "source": [
    "Run the `tf.function` once to compile it:"
   ]
  },
  {
   "cell_type": "code",
   "execution_count": 79,
   "metadata": {
    "id": "_NzrixLvVBjQ",
    "tags": []
   },
   "outputs": [
    {
     "name": "stdout",
     "output_type": "stream",
     "text": [
      "Wall time: 19.9 s\n"
     ]
    }
   ],
   "source": [
    "%%time\n",
    "result = translator.tf_translate(input_text = input_text)"
   ]
  },
  {
   "cell_type": "code",
   "execution_count": 80,
   "metadata": {
    "id": "USJdu00tVFbd",
    "tags": []
   },
   "outputs": [
    {
     "name": "stdout",
     "output_type": "stream",
     "text": [
      "куыд дæ хъуыды кæны ?\n",
      "уæ бон хорз !\n",
      "\n",
      "Wall time: 1 ms\n"
     ]
    }
   ],
   "source": [
    "%%time\n",
    "# result = translator.tf_translate(\n",
    "#     input_text = input_text)\n",
    "\n",
    "print(result['text'][0].numpy().decode())\n",
    "print(result['text'][1].numpy().decode())\n",
    "print()"
   ]
  },
  {
   "cell_type": "code",
   "execution_count": 81,
   "metadata": {
    "id": "EbQpyYs13jF_",
    "tags": []
   },
   "outputs": [],
   "source": [
    "#@title [Optional] Use a symbolic loop\n",
    "def translate_symbolic(self, input_text, *, max_length=50, return_attention=True, temperature=1.0):\n",
    "    shape_checker = ShapeChecker()\n",
    "    shape_checker(input_text, ('batch',))\n",
    "\n",
    "    batch_size = tf.shape(input_text)[0]\n",
    "\n",
    "    # Encode the input\n",
    "    input_tokens = self.input_text_processor(input_text)\n",
    "    shape_checker(input_tokens, ('batch', 's'))\n",
    "\n",
    "    enc_output, enc_state = self.encoder(input_tokens)\n",
    "    shape_checker(enc_output, ('batch', 's', 'enc_units'))\n",
    "    shape_checker(enc_state, ('batch', 'enc_units'))\n",
    "\n",
    "    # Initialize the decoder\n",
    "    dec_state = enc_state\n",
    "    new_tokens = tf.fill([batch_size, 1], self.start_token)\n",
    "    shape_checker(new_tokens, ('batch', 't1'))\n",
    "\n",
    "    # Initialize the accumulators\n",
    "    result_tokens = tf.TensorArray(tf.int64, size=1, dynamic_size=True)\n",
    "    attention = tf.TensorArray(tf.float32, size=1, dynamic_size=True)\n",
    "    done = tf.zeros([batch_size, 1], dtype=tf.bool)\n",
    "    shape_checker(done, ('batch', 't1'))\n",
    "\n",
    "    for t in tf.range(max_length):\n",
    "        dec_input = DecoderInput(\n",
    "            new_tokens=new_tokens, enc_output=enc_output, mask=(input_tokens != 0))\n",
    "\n",
    "        dec_result, dec_state = self.decoder(dec_input, state=dec_state)\n",
    "\n",
    "        shape_checker(dec_result.attention_weights, ('batch', 't1', 's'))\n",
    "        attention = attention.write(t, dec_result.attention_weights)\n",
    "\n",
    "        new_tokens = self.sample(dec_result.logits, temperature)\n",
    "        shape_checker(dec_result.logits, ('batch', 't1', 'vocab'))\n",
    "        shape_checker(new_tokens, ('batch', 't1'))\n",
    "\n",
    "        # If a sequence produces an `end_token`, set it `done`\n",
    "        done = done | (new_tokens == self.end_token)\n",
    "        # Once a sequence is done it only produces 0-padding.\n",
    "        new_tokens = tf.where(done, tf.constant(0, dtype=tf.int64), new_tokens)\n",
    "\n",
    "        # Collect the generated tokens\n",
    "        result_tokens = result_tokens.write(t, new_tokens)\n",
    "\n",
    "        if tf.reduce_all(done):\n",
    "            break\n",
    "\n",
    "    # Convert the list of generated token ids to a list of strings.\n",
    "    result_tokens = result_tokens.stack()\n",
    "    shape_checker(result_tokens, ('t', 'batch', 't0'))\n",
    "    result_tokens = tf.squeeze(result_tokens, -1)\n",
    "    result_tokens = tf.transpose(result_tokens, [1, 0])\n",
    "    shape_checker(result_tokens, ('batch', 't'))\n",
    "\n",
    "    result_text = self.tokens_to_text(result_tokens)\n",
    "    shape_checker(result_text, ('batch',))\n",
    "\n",
    "    if return_attention:\n",
    "        attention_stack = attention.stack()\n",
    "        shape_checker(attention_stack, ('t', 'batch', 't1', 's'))\n",
    "\n",
    "        attention_stack = tf.squeeze(attention_stack, 2)\n",
    "        shape_checker(attention_stack, ('t', 'batch', 's'))\n",
    "\n",
    "        attention_stack = tf.transpose(attention_stack, [1, 0, 2])\n",
    "        shape_checker(attention_stack, ('batch', 't', 's'))\n",
    "\n",
    "        return {'text': result_text, 'attention': attention_stack}\n",
    "    else:\n",
    "        return {'text': result_text}"
   ]
  },
  {
   "cell_type": "code",
   "execution_count": 82,
   "metadata": {
    "id": "ngywxv1WYO_O",
    "tags": []
   },
   "outputs": [],
   "source": [
    "Translator.translate = translate_symbolic"
   ]
  },
  {
   "cell_type": "markdown",
   "metadata": {
    "id": "lItV7qjEGsYc"
   },
   "source": [
    "The initial implementation used python lists to collect the outputs. This uses `tf.range` as the loop iterator, allowing `tf.autograph` to convert the loop. The biggest change in this implementation is the use of `tf.TensorArray` instead of python `list` to accumulate tensors. `tf.TensorArray` is required to collect a variable number of tensors in graph mode. "
   ]
  },
  {
   "cell_type": "markdown",
   "metadata": {
    "id": "AJ_NznOgZTxC"
   },
   "source": [
    "With eager execution this implementation performs on par with the original:"
   ]
  },
  {
   "cell_type": "code",
   "execution_count": 83,
   "metadata": {
    "id": "JRh66y-YYeBw",
    "tags": []
   },
   "outputs": [
    {
     "name": "stdout",
     "output_type": "stream",
     "text": [
      "цæмæ дæ бануазæм ?\n",
      "уæ бон хорз !\n",
      "\n",
      "Wall time: 243 ms\n"
     ]
    }
   ],
   "source": [
    "%%time\n",
    "result = translator.translate(\n",
    "    input_text = input_text)\n",
    "\n",
    "print(result['text'][0].numpy().decode())\n",
    "print(result['text'][1].numpy().decode())\n",
    "print()"
   ]
  },
  {
   "cell_type": "markdown",
   "metadata": {
    "id": "l6B8W4_MZdX0"
   },
   "source": [
    "But when you wrap it in a `tf.function` you'll notice two differences."
   ]
  },
  {
   "cell_type": "code",
   "execution_count": 84,
   "metadata": {
    "id": "WX6EF8KtYh20",
    "tags": []
   },
   "outputs": [],
   "source": [
    "@tf.function(input_signature=[tf.TensorSpec(dtype=tf.string, shape=[None])])\n",
    "def tf_translate(self, input_text):\n",
    "    return self.translate(input_text)\n",
    "\n",
    "Translator.tf_translate = tf_translate"
   ]
  },
  {
   "cell_type": "markdown",
   "metadata": {
    "id": "9S0kQ-bBZswZ"
   },
   "source": [
    "First: Graph creation is much faster (~10x), since it doesn't create `max_iterations` copies of the model."
   ]
  },
  {
   "cell_type": "code",
   "execution_count": 85,
   "metadata": {
    "id": "Eq8d40RKYoJa",
    "tags": []
   },
   "outputs": [
    {
     "name": "stdout",
     "output_type": "stream",
     "text": [
      "Wall time: 3.34 s\n"
     ]
    }
   ],
   "source": [
    "%%time\n",
    "result = translator.tf_translate(\n",
    "    input_text = input_text)"
   ]
  },
  {
   "cell_type": "markdown",
   "metadata": {
    "id": "2ABEwtKIZ6eE"
   },
   "source": [
    "Second: The compiled function is much faster on small inputs (5x on this example), because it can break out of the loop."
   ]
  },
  {
   "cell_type": "code",
   "execution_count": 86,
   "metadata": {
    "id": "d5VdCLxPYrpz",
    "tags": []
   },
   "outputs": [
    {
     "name": "stdout",
     "output_type": "stream",
     "text": [
      "куыд дæ куыд дзырдта ? , кæцæи ?\n",
      "тынг бон у !\n",
      "\n",
      "Wall time: 155 ms\n"
     ]
    }
   ],
   "source": [
    "%%time\n",
    "result = translator.tf_translate(\n",
    "    input_text = input_text)\n",
    "\n",
    "print(result['text'][0].numpy().decode())\n",
    "print(result['text'][1].numpy().decode())\n",
    "print()"
   ]
  },
  {
   "cell_type": "code",
   "execution_count": 87,
   "metadata": {
    "id": "NN7XSgxYLDjd"
   },
   "outputs": [
    {
     "data": {
      "text/plain": [
       "<tf.Tensor: shape=(2,), dtype=string, numpy=\n",
       "array([b'\\xd0\\xba\\xd1\\x83\\xd1\\x8b\\xd0\\xb4 \\xd0\\xb4\\xc3\\xa6 \\xd0\\xba\\xd1\\x83\\xd1\\x8b\\xd0\\xb4 \\xd0\\xb4\\xd0\\xb7\\xd1\\x8b\\xd1\\x80\\xd0\\xb4\\xd1\\x82\\xd0\\xb0 ? , \\xd0\\xba\\xc3\\xa6\\xd1\\x86\\xc3\\xa6\\xd0\\xb8 ?',\n",
       "       b'\\xd1\\x82\\xd1\\x8b\\xd0\\xbd\\xd0\\xb3 \\xd0\\xb1\\xd0\\xbe\\xd0\\xbd \\xd1\\x83 !'],\n",
       "      dtype=object)>"
      ]
     },
     "execution_count": 87,
     "metadata": {},
     "output_type": "execute_result"
    }
   ],
   "source": [
    "result['text']"
   ]
  },
  {
   "cell_type": "markdown",
   "metadata": {
    "id": "eo5sf4jZaO2l"
   },
   "source": [
    "## Visualize the process"
   ]
  },
  {
   "cell_type": "markdown",
   "metadata": {
    "id": "FzZzC2cJacTv"
   },
   "source": [
    "The attention weights returned by the `translate` method show where the model was \"looking\" when it generated each output token.\n",
    "\n",
    "So the sum of the attention over the input should return all ones:"
   ]
  },
  {
   "cell_type": "code",
   "execution_count": 88,
   "metadata": {
    "id": "UEd2GljgqQ-0",
    "tags": []
   },
   "outputs": [
    {
     "name": "stdout",
     "output_type": "stream",
     "text": [
      "[0.99999994 0.99999994 1.         0.9999999  1.         1.\n",
      " 1.0000001  1.         1.        ]\n"
     ]
    }
   ],
   "source": [
    "a = result['attention'][0]\n",
    "\n",
    "print(np.sum(a, axis=-1))"
   ]
  },
  {
   "cell_type": "markdown",
   "metadata": {
    "id": "k_HWQHcI2_h5"
   },
   "source": [
    "Here is the attention distribution for the first output step of the first example. Note how the attention is now much more focused than it was for the untrained model:"
   ]
  },
  {
   "cell_type": "code",
   "execution_count": 89,
   "metadata": {
    "id": "M8BHdqQujALu",
    "tags": []
   },
   "outputs": [
    {
     "data": {
      "image/png": "[encoded data removed]",
      "text/plain": [
       "<Figure size 800x640 with 1 Axes>"
      ]
     },
     "metadata": {},
     "output_type": "display_data"
    }
   ],
   "source": [
    "plt.figure(figsize=(10,8), dpi=80)\n",
    "_ = plt.bar(range(len(a[0, :])), a[0, :])"
   ]
  },
  {
   "cell_type": "markdown",
   "metadata": {
    "id": "qB13OG472Z3V"
   },
   "source": [
    "Since there is some rough alignment between the input and output words, you expect the attention to be focused near the diagonal:"
   ]
  },
  {
   "cell_type": "code",
   "execution_count": 90,
   "metadata": {
    "id": "xyeXuEYHd0kQ",
    "tags": []
   },
   "outputs": [
    {
     "data": {
      "text/plain": [
       "<matplotlib.image.AxesImage at 0x2594ef00520>"
      ]
     },
     "execution_count": 90,
     "metadata": {},
     "output_type": "execute_result"
    },
    {
     "data": {
      "image/png": "[encoded data removed]",
      "text/plain": [
       "<Figure size 800x640 with 1 Axes>"
      ]
     },
     "metadata": {},
     "output_type": "display_data"
    }
   ],
   "source": [
    "plt.figure(figsize=(10,8), dpi=80)\n",
    "plt.imshow(np.array(a), vmin=0.0)"
   ]
  },
  {
   "cell_type": "markdown",
   "metadata": {
    "id": "mXECcNTn2mxN"
   },
   "source": [
    "Here is some code to make a better attention plot:"
   ]
  },
  {
   "cell_type": "code",
   "execution_count": 91,
   "metadata": {
    "id": "s5hQWlbN3jGF",
    "tags": []
   },
   "outputs": [],
   "source": [
    "#@title Labeled attention plots\n",
    "def plot_attention(attention, sentence, predicted_sentence):\n",
    "    plt.figure(figsize=(10,8), dpi=80)\n",
    "    sentence = tf_lower_and_split_punct(sentence).numpy().decode().split()\n",
    "    predicted_sentence = predicted_sentence.numpy().decode().split() + ['[END]']\n",
    "    fig = plt.figure(figsize=(10, 10))\n",
    "    ax = fig.add_subplot(1, 1, 1)\n",
    "\n",
    "    attention = attention[:len(predicted_sentence), :len(sentence)]\n",
    "\n",
    "    ax.matshow(attention, cmap='viridis', vmin=0.0)\n",
    "\n",
    "    fontdict = {'fontsize': 14}\n",
    "\n",
    "    ax.set_xticklabels([''] + sentence, fontdict=fontdict, rotation=90)\n",
    "    ax.set_yticklabels([''] + predicted_sentence, fontdict=fontdict)\n",
    "\n",
    "    ax.xaxis.set_major_locator(ticker.MultipleLocator(1))\n",
    "    ax.yaxis.set_major_locator(ticker.MultipleLocator(1))\n",
    "\n",
    "    ax.set_xlabel('Input text')\n",
    "    ax.set_ylabel('Output text')\n",
    "    plt.suptitle('Attention weights')"
   ]
  },
  {
   "cell_type": "code",
   "execution_count": 92,
   "metadata": {
    "id": "rrGawQv2eiA4",
    "tags": []
   },
   "outputs": [
    {
     "name": "stderr",
     "output_type": "stream",
     "text": [
      "C:\\Users\\ONIGAT~1\\AppData\\Local\\Temp/ipykernel_11120/2032440905.py:15: UserWarning: FixedFormatter should only be used together with FixedLocator\n",
      "  ax.set_xticklabels([''] + sentence, fontdict=fontdict, rotation=90)\n",
      "C:\\Users\\ONIGAT~1\\AppData\\Local\\Temp/ipykernel_11120/2032440905.py:16: UserWarning: FixedFormatter should only be used together with FixedLocator\n",
      "  ax.set_yticklabels([''] + predicted_sentence, fontdict=fontdict)\n"
     ]
    },
    {
     "data": {
      "text/plain": [
       "<Figure size 800x640 with 0 Axes>"
      ]
     },
     "metadata": {},
     "output_type": "display_data"
    },
    {
     "data": {
      "image/png": "[encoded data removed]",
      "text/plain": [
       "<Figure size 720x720 with 1 Axes>"
      ]
     },
     "metadata": {},
     "output_type": "display_data"
    }
   ],
   "source": [
    "i=0\n",
    "plot_attention(result['attention'][i], input_text[i], result['text'][i])"
   ]
  },
  {
   "cell_type": "markdown",
   "metadata": {
    "id": "JHBdOf9duumm"
   },
   "source": [
    "Translate a few more sentences and plot them:"
   ]
  },
  {
   "cell_type": "code",
   "execution_count": 93,
   "metadata": {
    "id": "WrAM0FDomq3E",
    "tags": []
   },
   "outputs": [
    {
     "name": "stdout",
     "output_type": "stream",
     "text": [
      "уыры\n",
      "куыд хъуыды кæныс ? ? æвзæрдæр дæхæдæг ?\n",
      "фынæи ?\n",
      "\n",
      "Wall time: 169 ms\n"
     ]
    }
   ],
   "source": [
    "%%time\n",
    "three_input_text = tf.constant([\n",
    "    'Как дела?',\n",
    "    'Как дела?',\n",
    "    'Ты дома?',\n",
    "])\n",
    "\n",
    "result = translator.tf_translate(three_input_text)\n",
    "\n",
    "for tr in result['text']:\n",
    "    print(tr.numpy().decode())\n",
    "\n",
    "print()"
   ]
  },
  {
   "cell_type": "code",
   "execution_count": 94,
   "metadata": {
    "id": "-LjFp0AljOaZ",
    "tags": []
   },
   "outputs": [
    {
     "data": {
      "text/plain": [
       "<tf.Tensor: shape=(3,), dtype=string, numpy=\n",
       "array([b'\\xd1\\x83\\xd1\\x8b\\xd1\\x80\\xd1\\x8b',\n",
       "       b'\\xd0\\xba\\xd1\\x83\\xd1\\x8b\\xd0\\xb4 \\xd1\\x85\\xd1\\x8a\\xd1\\x83\\xd1\\x8b\\xd0\\xb4\\xd1\\x8b \\xd0\\xba\\xc3\\xa6\\xd0\\xbd\\xd1\\x8b\\xd1\\x81 ? ? \\xc3\\xa6\\xd0\\xb2\\xd0\\xb7\\xc3\\xa6\\xd1\\x80\\xd0\\xb4\\xc3\\xa6\\xd1\\x80 \\xd0\\xb4\\xc3\\xa6\\xd1\\x85\\xc3\\xa6\\xd0\\xb4\\xc3\\xa6\\xd0\\xb3 ?',\n",
       "       b'\\xd1\\x84\\xd1\\x8b\\xd0\\xbd\\xc3\\xa6\\xd0\\xb8 ?'], dtype=object)>"
      ]
     },
     "execution_count": 94,
     "metadata": {},
     "output_type": "execute_result"
    }
   ],
   "source": [
    "result['text']"
   ]
  },
  {
   "cell_type": "code",
   "execution_count": 95,
   "metadata": {
    "id": "v7QwIMrG-id2",
    "tags": []
   },
   "outputs": [
    {
     "name": "stderr",
     "output_type": "stream",
     "text": [
      "C:\\Users\\ONIGAT~1\\AppData\\Local\\Temp/ipykernel_11120/2032440905.py:15: UserWarning: FixedFormatter should only be used together with FixedLocator\n",
      "  ax.set_xticklabels([''] + sentence, fontdict=fontdict, rotation=90)\n",
      "C:\\Users\\ONIGAT~1\\AppData\\Local\\Temp/ipykernel_11120/2032440905.py:16: UserWarning: FixedFormatter should only be used together with FixedLocator\n",
      "  ax.set_yticklabels([''] + predicted_sentence, fontdict=fontdict)\n"
     ]
    },
    {
     "data": {
      "text/plain": [
       "<Figure size 800x640 with 0 Axes>"
      ]
     },
     "metadata": {},
     "output_type": "display_data"
    },
    {
     "data": {
      "image/png": "[encoded data removed]",
      "text/plain": [
       "<Figure size 720x720 with 1 Axes>"
      ]
     },
     "metadata": {},
     "output_type": "display_data"
    }
   ],
   "source": [
    "i = 0\n",
    "plot_attention(result['attention'][i], three_input_text[i], result['text'][i])"
   ]
  },
  {
   "cell_type": "code",
   "execution_count": 96,
   "metadata": {
    "id": "zYVoVf8P-lr-",
    "tags": []
   },
   "outputs": [
    {
     "name": "stderr",
     "output_type": "stream",
     "text": [
      "C:\\Users\\ONIGAT~1\\AppData\\Local\\Temp/ipykernel_11120/2032440905.py:15: UserWarning: FixedFormatter should only be used together with FixedLocator\n",
      "  ax.set_xticklabels([''] + sentence, fontdict=fontdict, rotation=90)\n",
      "C:\\Users\\ONIGAT~1\\AppData\\Local\\Temp/ipykernel_11120/2032440905.py:16: UserWarning: FixedFormatter should only be used together with FixedLocator\n",
      "  ax.set_yticklabels([''] + predicted_sentence, fontdict=fontdict)\n"
     ]
    },
    {
     "data": {
      "text/plain": [
       "<Figure size 800x640 with 0 Axes>"
      ]
     },
     "metadata": {},
     "output_type": "display_data"
    },
    {
     "data": {
      "image/png": "[encoded data removed]",
      "text/plain": [
       "<Figure size 720x720 with 1 Axes>"
      ]
     },
     "metadata": {},
     "output_type": "display_data"
    }
   ],
   "source": [
    "i = 1\n",
    "plot_attention(result['attention'][i], three_input_text[i], result['text'][i])"
   ]
  },
  {
   "cell_type": "code",
   "execution_count": 97,
   "metadata": {
    "id": "9sFvlZBk-me4",
    "tags": []
   },
   "outputs": [
    {
     "name": "stderr",
     "output_type": "stream",
     "text": [
      "C:\\Users\\ONIGAT~1\\AppData\\Local\\Temp/ipykernel_11120/2032440905.py:15: UserWarning: FixedFormatter should only be used together with FixedLocator\n",
      "  ax.set_xticklabels([''] + sentence, fontdict=fontdict, rotation=90)\n",
      "C:\\Users\\ONIGAT~1\\AppData\\Local\\Temp/ipykernel_11120/2032440905.py:16: UserWarning: FixedFormatter should only be used together with FixedLocator\n",
      "  ax.set_yticklabels([''] + predicted_sentence, fontdict=fontdict)\n"
     ]
    },
    {
     "data": {
      "text/plain": [
       "<Figure size 800x640 with 0 Axes>"
      ]
     },
     "metadata": {},
     "output_type": "display_data"
    },
    {
     "data": {
      "image/png": "[encoded data removed]",
      "text/plain": [
       "<Figure size 720x720 with 1 Axes>"
      ]
     },
     "metadata": {},
     "output_type": "display_data"
    }
   ],
   "source": [
    "i = 2\n",
    "plot_attention(result['attention'][i], three_input_text[i], result['text'][i])"
   ]
  },
  {
   "cell_type": "markdown",
   "metadata": {
    "id": "rA3xI3NzrRJt"
   },
   "source": [
    "The short sentences often work well, but if the input is too long the model literally loses focus and stops providing reasonable predictions. There are two main reasons for this:\n",
    "\n",
    "1. The model was trained with teacher-forcing feeding the correct token at each step, regardless of the model's predictions. The model could be made more robust if it were sometimes fed its own predictions.\n",
    "2. The model only has access to its previous output through the RNN state. If the RNN state gets corrupted, there's no way for the model to recover. [Transformers](transformer.ipynb) solve this by using self-attention in the encoder and decoder."
   ]
  },
  {
   "cell_type": "code",
   "execution_count": 98,
   "metadata": {
    "id": "-FUHFLEvSMbG",
    "tags": []
   },
   "outputs": [
    {
     "name": "stdout",
     "output_type": "stream",
     "text": [
      "Expected output:\n",
      " Фæуром!\n"
     ]
    }
   ],
   "source": [
    "long_input_text = tf.constant([source[-1]])\n",
    "\n",
    "import textwrap\n",
    "print('Expected output:\\n', '\\n'.join(textwrap.wrap(target[-1])))"
   ]
  },
  {
   "cell_type": "code",
   "execution_count": 99,
   "metadata": {
    "id": "lDa_8NaN_RUy",
    "tags": []
   },
   "outputs": [
    {
     "name": "stderr",
     "output_type": "stream",
     "text": [
      "C:\\Users\\ONIGAT~1\\AppData\\Local\\Temp/ipykernel_11120/2032440905.py:15: UserWarning: FixedFormatter should only be used together with FixedLocator\n",
      "  ax.set_xticklabels([''] + sentence, fontdict=fontdict, rotation=90)\n",
      "C:\\Users\\ONIGAT~1\\AppData\\Local\\Temp/ipykernel_11120/2032440905.py:16: UserWarning: FixedFormatter should only be used together with FixedLocator\n",
      "  ax.set_yticklabels([''] + predicted_sentence, fontdict=fontdict)\n"
     ]
    },
    {
     "data": {
      "text/plain": [
       "<Figure size 800x640 with 0 Axes>"
      ]
     },
     "metadata": {},
     "output_type": "display_data"
    },
    {
     "data": {
      "image/png": "[encoded data removed]",
      "text/plain": [
       "<Figure size 720x720 with 1 Axes>"
      ]
     },
     "metadata": {},
     "output_type": "display_data"
    }
   ],
   "source": [
    "result = translator.tf_translate(long_input_text)\n",
    "\n",
    "i = 0\n",
    "plot_attention(result['attention'][i], long_input_text[i], result['text'][i])\n",
    "_ = plt.suptitle('Я пока не могу тебе доверять.')"
   ]
  },
  {
   "cell_type": "markdown",
   "metadata": {
    "id": "mMA9Pp71nzH9"
   },
   "source": [
    "# Export"
   ]
  },
  {
   "cell_type": "markdown",
   "metadata": {
    "id": "5rLMNOmsKoXe"
   },
   "source": [
    "Once you have a model you're satisfied with you might want to export it as a `tf.saved_model` for use outside of this python program that created it.\n",
    "\n",
    "Since the model is a subclass of `tf.Module` (through `keras.Model`), and all the functionality for export is compiled in a `tf.function` the model should export cleanly with `tf.saved_model.save`:  "
   ]
  },
  {
   "cell_type": "markdown",
   "metadata": {
    "id": "NP2dNtEXJPEL"
   },
   "source": [
    "Now that the function has been traced it can be exported using `saved_model.save`:"
   ]
  },
  {
   "cell_type": "code",
   "execution_count": 100,
   "metadata": {
    "id": "OyvxT5V0_X5B",
    "tags": []
   },
   "outputs": [
    {
     "name": "stderr",
     "output_type": "stream",
     "text": [
      "WARNING:absl:Found untraced functions such as encoder_2_layer_call_fn, encoder_2_layer_call_and_return_conditional_losses, decoder_2_layer_call_fn, decoder_2_layer_call_and_return_conditional_losses, embedding_4_layer_call_fn while saving (showing 5 of 24). These functions will not be directly callable after loading.\n"
     ]
    },
    {
     "name": "stdout",
     "output_type": "stream",
     "text": [
      "INFO:tensorflow:Assets written to: translator\\assets\n"
     ]
    },
    {
     "name": "stderr",
     "output_type": "stream",
     "text": [
      "INFO:tensorflow:Assets written to: translator\\assets\n"
     ]
    }
   ],
   "source": [
    "tf.saved_model.save(translator, 'translator}',\n",
    "                    signatures={'serving_default': translator.tf_translate})"
   ]
  },
  {
   "cell_type": "code",
   "execution_count": 101,
   "metadata": {
    "id": "-I0j3i3ekOba",
    "tags": []
   },
   "outputs": [],
   "source": [
    "reloaded = tf.saved_model.load('translator')\n",
    "result = reloaded.tf_translate(three_input_text)"
   ]
  },
  {
   "cell_type": "code",
   "execution_count": 102,
   "metadata": {
    "id": "GXZF__FZXJCm",
    "tags": []
   },
   "outputs": [
    {
     "name": "stdout",
     "output_type": "stream",
     "text": [
      "акувæм\n",
      "куыд дæ хъуыды кæныс ?\n",
      "кæцы рбацыд иефсымæримæ рæстæг не хæринаг ?\n",
      "\n",
      "Wall time: 99 ms\n"
     ]
    }
   ],
   "source": [
    "%%time\n",
    "result = reloaded.tf_translate(three_input_text)\n",
    "\n",
    "for tr in result['text']:\n",
    "    print(tr.numpy().decode())\n",
    "\n",
    "print()"
   ]
  },
  {
   "cell_type": "markdown",
   "metadata": {
    "id": "RTe5P5ioMJwN"
   },
   "source": [
    "## Next steps\n",
    "\n",
    "* [Download a different dataset](http://www.manythings.org/anki/) to experiment with translations, for example, English to German, or English to French.\n",
    "* Experiment with training on a larger dataset, or using more epochs.\n",
    "* Try the [transformer tutorial](transformer.ipynb) which implements a similar translation task but uses a transformer layers instead of RNNs. This version also uses a `text.BertTokenizer` to implement wordpiece tokenization.\n",
    "* Have a look at the [tensorflow_addons.seq2seq](https://www.tensorflow.org/addons/tutorials/networks_seq2seq_nmt) for implementing this sort of sequence to sequence model. The `tfa.seq2seq` package includes higher level functionality like `seq2seq.BeamSearchDecoder`. "
   ]
  }
 ],
 "metadata": {
  "accelerator": "GPU",
  "colab": {
   "collapsed_sections": [],
   "name": "nmt_with_attention.ipynb",
   "private_outputs": true,
   "provenance": []
  },
  "kernelspec": {
   "display_name": "Python 3 (ipykernel)",
   "language": "python",
   "name": "python3"
  },
  "language_info": {
   "codemirror_mode": {
    "name": "ipython",
    "version": 3
   },
   "file_extension": ".py",
   "mimetype": "text/x-python",
   "name": "python",
   "nbconvert_exporter": "python",
   "pygments_lexer": "ipython3",
   "version": "3.9.7"
  }
 },
 "nbformat": 4,
 "nbformat_minor": 4
}
