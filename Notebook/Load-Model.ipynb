{
 "cells": [
  {
   "cell_type": "code",
   "execution_count": 1,
   "id": "9b296d27-db63-4225-a28d-7ebba9e5a652",
   "metadata": {},
   "outputs": [],
   "source": [
    "import numpy as np\n",
    "from scipy import stats\n",
    "import pandas as pd\n",
    "\n",
    "import typing\n",
    "from typing import Any, Tuple\n",
    "\n",
    "import tensorflow as tf\n",
    "\n",
    "import tensorflow_text as tf_text\n",
    "\n",
    "import matplotlib.pyplot as plt\n",
    "import matplotlib.ticker as ticker\n",
    "import seaborn as sns\n",
    "sns.set(style=\"darkgrid\")\n",
    "\n",
    "from nltk.translate.bleu_score import sentence_bleu\n",
    "from plot_model import plot_model"
   ]
  },
  {
   "cell_type": "markdown",
   "id": "8292c64f-e492-456e-bf14-e5d276e59dc7",
   "metadata": {},
   "source": [
    "# Model"
   ]
  },
  {
   "cell_type": "code",
   "execution_count": 2,
   "id": "d4f077da-cf92-4a77-b133-3ba1ece091fd",
   "metadata": {},
   "outputs": [],
   "source": [
    "class Encoder(tf.keras.layers.Layer):\n",
    "    def __init__(self, input_vocab_size, embedding_dim, enc_units):\n",
    "        super(Encoder, self).__init__()\n",
    "        self.enc_units = enc_units\n",
    "        self.input_vocab_size = input_vocab_size\n",
    "\n",
    "        self.embedding = tf.keras.layers.Embedding(self.input_vocab_size, embedding_dim)\n",
    "\n",
    "        self.gru = tf.keras.layers.GRU(self.enc_units,\n",
    "                                       return_sequences=True,\n",
    "                                       return_state=True,\n",
    "                                       recurrent_initializer='glorot_uniform')"
   ]
  },
  {
   "cell_type": "code",
   "execution_count": 3,
   "id": "e1875998-1dc3-4b48-8731-01164d6791d1",
   "metadata": {},
   "outputs": [],
   "source": [
    "class BahdanauAttention(tf.keras.layers.Layer):\n",
    "    def __init__(self, units):\n",
    "        super().__init__()\n",
    "        self.W1 = tf.keras.layers.Dense(units, use_bias=False)\n",
    "        self.W2 = tf.keras.layers.Dense(units, use_bias=False)\n",
    "\n",
    "        self.attention = tf.keras.layers.AdditiveAttention()"
   ]
  },
  {
   "cell_type": "code",
   "execution_count": 4,
   "id": "c285a71d-6b7a-43fb-9426-e1b246012fef",
   "metadata": {},
   "outputs": [],
   "source": [
    "class DecoderInput(typing.NamedTuple):\n",
    "    new_tokens: Any\n",
    "    enc_output: Any\n",
    "    mask: Any\n",
    "\n",
    "class DecoderOutput(typing.NamedTuple):\n",
    "    logits: Any\n",
    "    attention_weights: Any"
   ]
  },
  {
   "cell_type": "code",
   "execution_count": 5,
   "id": "e2b66d3d-e735-4c4d-8dfb-17a13fee82be",
   "metadata": {},
   "outputs": [],
   "source": [
    "class Decoder(tf.keras.layers.Layer):\n",
    "    def __init__(self, output_vocab_size, embedding_dim, dec_units):\n",
    "        super(Decoder, self).__init__()\n",
    "        self.dec_units = dec_units\n",
    "        self.output_vocab_size = output_vocab_size\n",
    "        self.embedding_dim = embedding_dim\n",
    "\n",
    "        self.embedding = tf.keras.layers.Embedding(self.output_vocab_size,\n",
    "                                                   embedding_dim)\n",
    "\n",
    "        self.gru = tf.keras.layers.GRU(self.dec_units,\n",
    "                                       return_sequences=True,\n",
    "                                       return_state=True,\n",
    "                                       recurrent_initializer='glorot_uniform')\n",
    "\n",
    "        self.attention = BahdanauAttention(self.dec_units)\n",
    "\n",
    "        self.Wc = tf.keras.layers.Dense(dec_units, activation=tf.math.tanh,\n",
    "                                        use_bias=False)\n",
    "\n",
    "        self.fc = tf.keras.layers.Dense(self.output_vocab_size)"
   ]
  },
  {
   "cell_type": "code",
   "execution_count": 6,
   "id": "fc89ff92-0d41-4ad5-9ac6-ceb936423529",
   "metadata": {},
   "outputs": [],
   "source": [
    "class Translator(tf.Module):\n",
    "    def __init__(self, encoder, decoder, input_text_processor, output_text_processor):\n",
    "        self.encoder = encoder\n",
    "        self.decoder = decoder\n",
    "        self.input_text_processor = input_text_processor\n",
    "        self.output_text_processor = output_text_processor\n",
    "\n",
    "        self.output_token_string_from_index = (\n",
    "            tf.keras.layers.StringLookup(\n",
    "                vocabulary=output_text_processor.get_vocabulary(),\n",
    "                mask_token='',\n",
    "                invert=True))\n",
    "\n",
    "        index_from_string = tf.keras.layers.StringLookup(\n",
    "            vocabulary=output_text_processor.get_vocabulary(), mask_token='')\n",
    "        token_mask_ids = index_from_string(['', '[UNK]', '[START]']).numpy()\n",
    "\n",
    "        token_mask = np.zeros([index_from_string.vocabulary_size()], dtype=np.bool)\n",
    "        token_mask[np.array(token_mask_ids)] = True\n",
    "        self.token_mask = token_mask\n",
    "\n",
    "        self.start_token = index_from_string(tf.constant('[START]'))\n",
    "        self.end_token = index_from_string(tf.constant('[END]'))\n",
    "        \n",
    "    def translate(self, input_text, *, max_length=50, return_attention=True, temperature=1.0):\n",
    "        batch_size = tf.shape(input_text)[0]\n",
    "        input_tokens = self.input_text_processor(input_text)\n",
    "        enc_output, enc_state = self.encoder(input_tokens)\n",
    "\n",
    "        dec_state = enc_state\n",
    "        new_tokens = tf.fill([batch_size, 1], self.start_token)\n",
    "\n",
    "        result_tokens = []\n",
    "        attention = []\n",
    "        done = tf.zeros([batch_size, 1], dtype=tf.bool)\n",
    "\n",
    "        for _ in range(max_length):\n",
    "            dec_input = DecoderInput(new_tokens=new_tokens,\n",
    "                                     enc_output=enc_output,\n",
    "                                     mask=(input_tokens!=0))\n",
    "\n",
    "            dec_result, dec_state = self.decoder(dec_input, state=dec_state)\n",
    "\n",
    "            attention.append(dec_result.attention_weights)\n",
    "\n",
    "            new_tokens = self.sample(dec_result.logits, temperature)\n",
    "\n",
    "            done = done | (new_tokens == self.end_token)\n",
    "            new_tokens = tf.where(done, tf.constant(0, dtype=tf.int64), new_tokens)\n",
    "\n",
    "            result_tokens.append(new_tokens)\n",
    "\n",
    "            if tf.executing_eagerly() and tf.reduce_all(done):\n",
    "                break\n",
    "\n",
    "        result_tokens = tf.concat(result_tokens, axis=-1)\n",
    "        result_text = self.tokens_to_text(result_tokens)\n",
    "\n",
    "        if return_attention:\n",
    "            attention_stack = tf.concat(attention, axis=1)\n",
    "            return {'text': result_text, 'attention': attention_stack}\n",
    "        else:\n",
    "            return {'text': result_text}\n",
    "\n",
    "    \n",
    "    @tf.function(input_signature=[tf.TensorSpec(dtype=tf.string, shape=[None])])\n",
    "    def tf_translate(self, input_text):\n",
    "        return self.translate(input_text)"
   ]
  },
  {
   "cell_type": "markdown",
   "id": "aef3d345-437e-4fff-97a1-3461866ffaf4",
   "metadata": {},
   "source": [
    "# Evaluation"
   ]
  },
  {
   "cell_type": "code",
   "execution_count": 7,
   "id": "3e97b446-2bef-4dec-9f53-f5f1c7c0863c",
   "metadata": {},
   "outputs": [],
   "source": [
    "def to_lower_case_eng(text):\n",
    "    chars = tf.strings.unicode_decode(text, input_encoding='UTF-8')\n",
    "    capital_mask = tf.logical_and(tf.greater_equal(chars, 65), tf.less(chars, 91))\n",
    "    chars = chars + tf.cast(capital_mask, tf.int32) * 32\n",
    "    return tf.strings.unicode_encode(chars, output_encoding='UTF-8')"
   ]
  },
  {
   "cell_type": "code",
   "execution_count": 8,
   "id": "e723c227-252b-4f99-bf96-3418ba7397e6",
   "metadata": {},
   "outputs": [],
   "source": [
    "def to_lower_case_rus(text):\n",
    "    chars = tf.strings.unicode_decode(text, input_encoding='UTF-8')\n",
    "    capital_mask = tf.logical_and(tf.greater_equal(chars, 1040), tf.less(chars, 1072))\n",
    "    chars = chars + tf.cast(capital_mask, tf.int32) * 32\n",
    "    return tf.strings.unicode_encode(chars, output_encoding='UTF-8')"
   ]
  },
  {
   "cell_type": "code",
   "execution_count": 9,
   "id": "13f73ab4-f90f-4154-ae9c-cc660bd3fe84",
   "metadata": {},
   "outputs": [],
   "source": [
    "def to_lower_case_oss(text):\n",
    "    chars = tf.strings.unicode_decode(text, input_encoding='UTF-8')\n",
    "    capital_mask = tf.logical_and(tf.greater_equal(chars, 198), tf.less(chars, 199))\n",
    "    chars = chars + tf.cast(capital_mask, tf.int32) * 32\n",
    "    return tf.strings.unicode_encode(chars, output_encoding='UTF-8')"
   ]
  },
  {
   "cell_type": "code",
   "execution_count": 10,
   "id": "4b5b3f3c-641f-4c38-8566-a0ab4fa2603a",
   "metadata": {},
   "outputs": [],
   "source": [
    "def tf_lower_and_split_punct(text):\n",
    "    # Замена символов 'æ' с кодом 1237 на символ 'æ' с кодом 230\n",
    "    text = tf.strings.regex_replace(text, 'ӕ', 'æ')\n",
    "    # Замена символа '—' на '-'\n",
    "    text = tf.strings.regex_replace(text, '—', '-')\n",
    "    \n",
    "    text = tf_text.normalize_utf8(text, 'NFKD')\n",
    "    \n",
    "    # Нижний регистр\n",
    "    text = to_lower_case_rus(text)\n",
    "    text = to_lower_case_eng(text)\n",
    "    text = to_lower_case_oss(text)\n",
    "    \n",
    "    # Удаление лишних символов, кроме списка представленных.\n",
    "    text = tf.strings.regex_replace(text, '[^ a-zа-яæ.?!,-`…:;\\']', '')\n",
    "    # Добавьте пробелы вокруг знаков препинания.\n",
    "    text = tf.strings.regex_replace(text, '[.?!,-`…:;\\']', r' \\0 ')\n",
    "    # Удаление лишних пробелов.\n",
    "    text = tf.strings.strip(text)\n",
    "\n",
    "    text = tf.strings.join(['[START]', text, '[END]'], separator=' ')\n",
    "    return text"
   ]
  },
  {
   "cell_type": "code",
   "execution_count": 11,
   "id": "4247c4a2-0954-4f94-b1a3-1d73c86068c5",
   "metadata": {},
   "outputs": [],
   "source": [
    "def plot_attention(attention, sentence, predicted_sentence):\n",
    "    plt.figure(figsize=(10,8), dpi=80)\n",
    "    sentence = tf_lower_and_split_punct(sentence).numpy().decode().split()\n",
    "    predicted_sentence = predicted_sentence.numpy().decode().split() + ['[END]']\n",
    "    fig = plt.figure(figsize=(10, 10))\n",
    "    ax = fig.add_subplot(1, 1, 1)\n",
    "    fontdict = {'fontsize': 14}\n",
    "    \n",
    "    attention = attention[:len(predicted_sentence), :len(sentence)]\n",
    "\n",
    "    cax = ax.matshow(attention, cmap='viridis', vmin=0.0)   \n",
    "    fig.colorbar(cax)\n",
    "\n",
    "    ax.xaxis.set_major_locator(ticker.MultipleLocator(1))\n",
    "    ax.set_xticklabels([''] + sentence, fontdict=fontdict,rotation=90)\n",
    "    \n",
    "    ax.yaxis.set_major_locator(ticker.MultipleLocator(1))\n",
    "    ax.set_yticklabels([''] + predicted_sentence, fontdict=fontdict)\n",
    "\n",
    "    ax.set_xlabel('Входная последовательность')\n",
    "    ax.set_ylabel('Выходная последовательность')\n",
    "    plt.suptitle('Attention')"
   ]
  },
  {
   "cell_type": "code",
   "execution_count": 12,
   "id": "665e6b5c-0cce-42c5-97b4-0fabe67dbd7d",
   "metadata": {},
   "outputs": [],
   "source": [
    "def evaluation(sentance, reference, n_gram=4):\n",
    "    result = reloaded.tf_translate(tf.constant([sentance]))\n",
    "    hypothetic = result['text'][0].numpy().decode()\n",
    "    \n",
    "    reference = tf_lower_and_split_punct(reference).numpy().decode()\n",
    "    reference = \" \".join(reference.split()[1:-1])\n",
    "    \n",
    "    print(f'Orginal: {sentance}')\n",
    "    print(f'Human Translation: {reference}')    \n",
    "    print(f'Machine Translation: {hypothetic}')\n",
    "    if n_gram == 1:\n",
    "        print(f'BLEU 1-gram: {sentence_bleu([hypothetic], reference, weights = [1])}')\n",
    "    elif n_gram == 2:\n",
    "        print(f'BLEU 2-gram: {sentence_bleu([hypothetic], reference, weights = [0.5, 0.5])}')\n",
    "    elif n_gram == 3:\n",
    "        print(f'BLEU 3-gram: {sentence_bleu([hypothetic], reference, weights = [0.33, 0.33, 0.33])}')\n",
    "    else:\n",
    "        print(f'BLEU 4-gram: {sentence_bleu([hypothetic], reference, weights = [0.25, 0.25, 0.25, 0.25])}')\n",
    "    plot_attention(result['attention'][0], sentance, result['text'][0])\n",
    "    \n",
    "    print('='*15)"
   ]
  },
  {
   "cell_type": "code",
   "execution_count": 13,
   "id": "4fe3b24d-5924-41f2-b84c-87cae7c4ce0c",
   "metadata": {},
   "outputs": [],
   "source": [
    "def bleu(sentance, reference, n_gram=4):\n",
    "    result = reloaded.tf_translate(tf.constant([sentance]))\n",
    "    hypothetic = result['text'][0].numpy().decode()\n",
    "    \n",
    "    reference = tf_lower_and_split_punct(reference).numpy().decode()\n",
    "    reference = \" \".join(reference.split()[1:-1])\n",
    "    \n",
    "    return sentence_bleu([hypothetic], reference, weights = [0.25, 0.25, 0.25, 0.25])"
   ]
  },
  {
   "cell_type": "markdown",
   "id": "a7abdcb2-0e61-4bdb-abf5-01c23a1f1fb2",
   "metadata": {},
   "source": [
    "# Load model and data"
   ]
  },
  {
   "cell_type": "code",
   "execution_count": 14,
   "id": "5341a5d7-081f-4775-858e-899b1925b31a",
   "metadata": {},
   "outputs": [],
   "source": [
    "num_model = {\n",
    "\t0  : 'model/1. RUS-OSS GRU-[1024]-EMD_DIM[256]-BatchSize[64]-Epochs[15]',\n",
    "\t1  : 'model/2. RUS-OSS GRU-[1024]-EMD_DIM[256]-BatchSize[64]-Epochs[20]',\n",
    "\t2  : 'model/3. RUS-OSS GRU-[1024]-EMD_DIM[128]-BatchSize[64]-Epochs[15]',\n",
    "\t3  : 'model/4. RUS-OSS GRU-[1024]-EMD_DIM[128]-BatchSize[64]-Epochs[20]',\n",
    "\t4  : 'model/5. RUS-OSS GRU-[512]-EMD_DIM[256]-BatchSize[64]-Epochs[15]',\n",
    "\t5  : 'model/6. RUS-OSS GRU-[512]-EMD_DIM[256]-BatchSize[64]-Epochs[20]',\n",
    "\t6  : 'model/7. RUS-OSS GRU-[512]-EMD_DIM[128]-BatchSize[64]-Epochs[15]',\n",
    "\t7  : 'model/8. RUS-OSS GRU-[512]-EMD_DIM[128]-BatchSize[64]-Epochs[20]',\n",
    "\t8  : 'model/9. RUS-OSS GRU-[1024]-EMD_DIM[256]-BatchSize[32]-Epochs[15]',\n",
    "\t9  : 'model/10. RUS-OSS GRU-[1024]-EMD_DIM[256]-BatchSize[32]-Epochs[20]',\n",
    "\t10 : 'model/11. RUS-OSS GRU-[512]-EMD_DIM[128]-BatchSize[32]-Epochs[15]',\n",
    "\t11 : 'model/12. RUS-OSS GRU-[512]-EMD_DIM[128]-BatchSize[32]-Epochs[20]',\n",
    "\t12 : 'model/RUS-ENG-MINI GRU-[1024]-EMD_DIM[256]-BatchSize[128]-Epochs[5]'\n",
    "}"
   ]
  },
  {
   "cell_type": "code",
   "execution_count": 15,
   "id": "f4e5bad3-8314-4d77-89b6-c8890daf9e05",
   "metadata": {},
   "outputs": [],
   "source": [
    "def load_data(path):\n",
    "    with open(path, encoding='utf-8') as f:\n",
    "        text = f.read()\n",
    "\n",
    "    lines = text.splitlines()\n",
    "    pairs = [line.split('\\t') for line in lines]\n",
    "\n",
    "    source = [source for source, target in pairs]\n",
    "    target = [target for source, target in pairs]\n",
    "\n",
    "    return source, target"
   ]
  },
  {
   "cell_type": "code",
   "execution_count": 36,
   "id": "690f71dc-7772-4cc6-a3de-d082a3d1717f",
   "metadata": {},
   "outputs": [],
   "source": [
    "path = 'rus-eng#test'\n",
    "path_to_file = f'Date/{path}.txt'\n",
    "source, target = load_data(path_to_file)"
   ]
  },
  {
   "cell_type": "code",
   "execution_count": 37,
   "id": "5b3e00d9-f0f0-4325-be4c-ea6236cbb088",
   "metadata": {},
   "outputs": [],
   "source": [
    "data = pd.DataFrame()\n",
    "data['Source'] = source\n",
    "data['Target'] = target"
   ]
  },
  {
   "cell_type": "code",
   "execution_count": 38,
   "id": "71681169-e94c-4e62-9aa1-3480b5f45f1a",
   "metadata": {},
   "outputs": [],
   "source": [
    "model = num_model[12]"
   ]
  },
  {
   "cell_type": "code",
   "execution_count": 39,
   "id": "b81b1f6d-8cbc-4e25-b29d-a85042f64b92",
   "metadata": {},
   "outputs": [],
   "source": [
    "reloaded = tf.saved_model.load(model)"
   ]
  },
  {
   "cell_type": "code",
   "execution_count": 40,
   "id": "f4ea7a40-6470-4a64-9e23-b8d6ecabb1dc",
   "metadata": {},
   "outputs": [],
   "source": [
    "u = data.sample().reset_index()\n",
    "evaluation(u['Source'][0], u['Target'][0])"
   ]
  },
  {
   "cell_type": "code",
   "execution_count": 41,
   "id": "b02dcfe3-3b3a-438f-94b7-0618512721eb",
   "metadata": {},
   "outputs": [
    {
     "name": "stderr",
     "output_type": "stream",
     "text": [
      "D:\\Programms\\Anaconda\\lib\\site-packages\\seaborn\\_decorators.py:36: FutureWarning: Pass the following variable as a keyword arg: x. From version 0.12, the only valid positional argument will be `data`, and passing other arguments without an explicit keyword will result in an error or misinterpretation.\n",
      "  warnings.warn(\n"
     ]
    },
    {
     "data": {
      "image/png": "[encoded data removed]",
      "text/plain": [
       "<Figure size 1600x640 with 1 Axes>"
      ]
     },
     "metadata": {},
     "output_type": "display_data"
    }
   ],
   "source": [
    "list = []\n",
    "for Source, Target in data.itertuples(index=False):\n",
    "    list.append(round(bleu(Source, Target), 3))\n",
    "    \n",
    "plt.figure(figsize=(20,8), dpi= 80)\n",
    "plt.xlabel(\"BLEU Score\")\n",
    "sns.countplot(list, color='skyblue')\n",
    "\n",
    "plt.show()"
   ]
  },
  {
   "cell_type": "code",
   "execution_count": 42,
   "id": "1850e36e-60ff-43e3-b2b4-aad46d702cbd",
   "metadata": {},
   "outputs": [
    {
     "name": "stdout",
     "output_type": "stream",
     "text": [
      "Mean:\t0.454000\n",
      "Mode:\t1.000000\n",
      "Median:\t0.410000\n"
     ]
    }
   ],
   "source": [
    "print(f'Mean:\\t{round(np.mean(list), 3):2f}')\n",
    "print(f'Mode:\\t{round(stats.mode(list)[0][0], 3):2f}')\n",
    "print(f'Median:\\t{round(np.median(list), 3):2f}')"
   ]
  }
 ],
 "metadata": {
  "kernelspec": {
   "display_name": "Python 3 (ipykernel)",
   "language": "python",
   "name": "python3"
  },
  "language_info": {
   "codemirror_mode": {
    "name": "ipython",
    "version": 3
   },
   "file_extension": ".py",
   "mimetype": "text/x-python",
   "name": "python",
   "nbconvert_exporter": "python",
   "pygments_lexer": "ipython3",
   "version": "3.9.7"
  }
 },
 "nbformat": 4,
 "nbformat_minor": 5
}
