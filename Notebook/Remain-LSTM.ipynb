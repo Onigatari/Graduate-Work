{
 "cells": [
  {
   "cell_type": "code",
   "execution_count": 1,
   "id": "3f3bd3b4-219b-4c3b-a7ee-61d253092206",
   "metadata": {},
   "outputs": [],
   "source": [
    "import pandas as pd\n",
    "from sklearn.model_selection import train_test_split\n",
    "import string\n",
    "from string import digits\n",
    "import re\n",
    "import os\n",
    "from sklearn.utils import shuffle\n",
    "from keras.preprocessing.sequence import pad_sequences\n",
    "from keras.layers import LSTM, GRU, Input, Dense,Embedding\n",
    "from keras.models import Model,load_model\n",
    "from tensorflow.keras.utils import plot_model\n",
    "from keras.preprocessing.text import one_hot\n",
    "from keras.preprocessing.text import Tokenizer\n",
    "from keras.models import model_from_json\n",
    "from nltk.tokenize import RegexpTokenizer\n",
    "\n",
    "import pickle as pkl\n",
    "import numpy as np"
   ]
  },
  {
   "cell_type": "code",
   "execution_count": 2,
   "id": "c4dd2f02-e395-49ef-83a5-561264659141",
   "metadata": {},
   "outputs": [],
   "source": [
    "dir = 'rus-oss.txt'\n",
    "new_path = f'Date/{dir}'\n",
    "with open(new_path, encoding='utf-8') as f:\n",
    "    data = f.read()"
   ]
  },
  {
   "cell_type": "code",
   "execution_count": 3,
   "id": "8594834f-8c22-42f2-9c9d-824682476705",
   "metadata": {},
   "outputs": [],
   "source": [
    "uncleaned_data_list = data.split('\\n')\n",
    "uncleaned_data_list = uncleaned_data_list[:38695]\n",
    "\n",
    "source_word = []\n",
    "target_word = []\n",
    "start_target = \"sos\"\n",
    "end_target = \"eos\"\n",
    "\n",
    "HIDDEN_DIM = 50\n",
    "batch_size = 6\n",
    "epochs = 20\n",
    "\n",
    "for word in uncleaned_data_list:\n",
    "    source_word.append(word.split('\\t')[0])\n",
    "    target_word.append(word.split('\\t')[1])"
   ]
  },
  {
   "cell_type": "code",
   "execution_count": 4,
   "id": "62f26833-35c5-4c74-be15-a6aeee953077",
   "metadata": {},
   "outputs": [],
   "source": [
    "language_data = pd.DataFrame(columns=['Source','Target'])\n",
    "language_data['Source'] = source_word\n",
    "language_data['Target'] = target_word"
   ]
  },
  {
   "cell_type": "code",
   "execution_count": 5,
   "id": "6b1b8388-5baf-46d9-82e5-f82e11c68096",
   "metadata": {},
   "outputs": [],
   "source": [
    "# saving to csv\n",
    "language_data.to_csv(f'{dir}-language_data.csv', index=False)"
   ]
  },
  {
   "cell_type": "code",
   "execution_count": 6,
   "id": "61839196-3044-4a75-9c9d-d31d92c56e3c",
   "metadata": {},
   "outputs": [],
   "source": [
    "# loading data from csv\n",
    "language_data = pd.read_csv(f'{dir}-language_data.csv')"
   ]
  },
  {
   "cell_type": "code",
   "execution_count": 7,
   "id": "74166bf2-1b9e-4c76-97cb-dcc10a6a832d",
   "metadata": {},
   "outputs": [
    {
     "data": {
      "text/html": [
       "<div>\n",
       "<style scoped>\n",
       "    .dataframe tbody tr th:only-of-type {\n",
       "        vertical-align: middle;\n",
       "    }\n",
       "\n",
       "    .dataframe tbody tr th {\n",
       "        vertical-align: top;\n",
       "    }\n",
       "\n",
       "    .dataframe thead th {\n",
       "        text-align: right;\n",
       "    }\n",
       "</style>\n",
       "<table border=\"1\" class=\"dataframe\">\n",
       "  <thead>\n",
       "    <tr style=\"text-align: right;\">\n",
       "      <th></th>\n",
       "      <th>Source</th>\n",
       "      <th>Target</th>\n",
       "    </tr>\n",
       "  </thead>\n",
       "  <tbody>\n",
       "    <tr>\n",
       "      <th>0</th>\n",
       "      <td>Чего ты смеёшься?</td>\n",
       "      <td>Цæуыл худыс?</td>\n",
       "    </tr>\n",
       "    <tr>\n",
       "      <th>1</th>\n",
       "      <td>Этот нож очень острый.</td>\n",
       "      <td>Ацы кард тынг цыргъ у.</td>\n",
       "    </tr>\n",
       "    <tr>\n",
       "      <th>2</th>\n",
       "      <td>У кошки девять жизней.</td>\n",
       "      <td>Гæдыйæн фараст царды ис.</td>\n",
       "    </tr>\n",
       "    <tr>\n",
       "      <th>3</th>\n",
       "      <td>Сегодня облачно.</td>\n",
       "      <td>Абон у асæст.</td>\n",
       "    </tr>\n",
       "    <tr>\n",
       "      <th>4</th>\n",
       "      <td>Он был вождём своего племени 35 лет.</td>\n",
       "      <td>Уый йæ знæмы раздзог уыдис 35 азы дæргъы.</td>\n",
       "    </tr>\n",
       "  </tbody>\n",
       "</table>\n",
       "</div>"
      ],
      "text/plain": [
       "                                 Source  \\\n",
       "0                     Чего ты смеёшься?   \n",
       "1                Этот нож очень острый.   \n",
       "2                У кошки девять жизней.   \n",
       "3                      Сегодня облачно.   \n",
       "4  Он был вождём своего племени 35 лет.   \n",
       "\n",
       "                                      Target  \n",
       "0                               Цæуыл худыс?  \n",
       "1                     Ацы кард тынг цыргъ у.  \n",
       "2                   Гæдыйæн фараст царды ис.  \n",
       "3                              Абон у асæст.  \n",
       "4  Уый йæ знæмы раздзог уыдис 35 азы дæргъы.  "
      ]
     },
     "execution_count": 7,
     "metadata": {},
     "output_type": "execute_result"
    }
   ],
   "source": [
    "language_data.head()"
   ]
  },
  {
   "cell_type": "code",
   "execution_count": 8,
   "id": "cfaae43d-4b63-4b8e-9cfd-374bed9eaea0",
   "metadata": {},
   "outputs": [
    {
     "data": {
      "text/html": [
       "<div>\n",
       "<style scoped>\n",
       "    .dataframe tbody tr th:only-of-type {\n",
       "        vertical-align: middle;\n",
       "    }\n",
       "\n",
       "    .dataframe tbody tr th {\n",
       "        vertical-align: top;\n",
       "    }\n",
       "\n",
       "    .dataframe thead th {\n",
       "        text-align: right;\n",
       "    }\n",
       "</style>\n",
       "<table border=\"1\" class=\"dataframe\">\n",
       "  <thead>\n",
       "    <tr style=\"text-align: right;\">\n",
       "      <th></th>\n",
       "      <th>Source</th>\n",
       "      <th>Target</th>\n",
       "    </tr>\n",
       "  </thead>\n",
       "  <tbody>\n",
       "    <tr>\n",
       "      <th>465</th>\n",
       "      <td>Делать</td>\n",
       "      <td>Кæнын</td>\n",
       "    </tr>\n",
       "    <tr>\n",
       "      <th>466</th>\n",
       "      <td>Говорить</td>\n",
       "      <td>Дзурын</td>\n",
       "    </tr>\n",
       "    <tr>\n",
       "      <th>467</th>\n",
       "      <td>Работать</td>\n",
       "      <td>Кусын</td>\n",
       "    </tr>\n",
       "    <tr>\n",
       "      <th>468</th>\n",
       "      <td>Жить</td>\n",
       "      <td>Цæрын</td>\n",
       "    </tr>\n",
       "    <tr>\n",
       "      <th>469</th>\n",
       "      <td>Кушать</td>\n",
       "      <td>Хæрын</td>\n",
       "    </tr>\n",
       "  </tbody>\n",
       "</table>\n",
       "</div>"
      ],
      "text/plain": [
       "       Source  Target\n",
       "465    Делать   Кæнын\n",
       "466  Говорить  Дзурын\n",
       "467  Работать   Кусын\n",
       "468      Жить   Цæрын\n",
       "469    Кушать   Хæрын"
      ]
     },
     "execution_count": 8,
     "metadata": {},
     "output_type": "execute_result"
    }
   ],
   "source": [
    "language_data.tail()"
   ]
  },
  {
   "cell_type": "code",
   "execution_count": 9,
   "id": "d07c12e3-2ae9-4ff9-910d-157045ae2f32",
   "metadata": {},
   "outputs": [],
   "source": [
    "source_word = language_data['Source'].values\n",
    "target_word = language_data['Target'].values"
   ]
  },
  {
   "cell_type": "code",
   "execution_count": 10,
   "id": "94d4e6e5-6446-49c1-b5b3-2f06c0caf170",
   "metadata": {},
   "outputs": [
    {
     "data": {
      "text/plain": [
       "('Чего ты смеёшься?', 'Цæуыл худыс?')"
      ]
     },
     "execution_count": 10,
     "metadata": {},
     "output_type": "execute_result"
    }
   ],
   "source": [
    "source_word[0], target_word[0]"
   ]
  },
  {
   "cell_type": "code",
   "execution_count": 11,
   "id": "b9becfba-23ea-4161-baf7-db337fff0509",
   "metadata": {},
   "outputs": [],
   "source": [
    "#lowercasing the setences\n",
    "source_word_ = [x.lower() for x in source_word]\n",
    "target_word_ = [x.lower() for x in target_word]"
   ]
  },
  {
   "cell_type": "code",
   "execution_count": 12,
   "id": "a263f311-c1f2-4398-9cb7-25b657d87f70",
   "metadata": {},
   "outputs": [],
   "source": [
    "source_word_ = [re.sub(\"'\",'',x) for x in source_word_]\n",
    "target_word_ = [re.sub(\"'\",'',x) for x in target_word_]"
   ]
  },
  {
   "cell_type": "code",
   "execution_count": 13,
   "id": "430f9bf7-974c-4c5c-9f08-20f196c87fdd",
   "metadata": {},
   "outputs": [],
   "source": [
    "source_word_ = [x.strip() for x in source_word_]\n",
    "target_word_ = [x.strip() for x in target_word_]"
   ]
  },
  {
   "cell_type": "code",
   "execution_count": 14,
   "id": "969fe0cb-c166-451b-8c9f-db502220db0b",
   "metadata": {},
   "outputs": [],
   "source": [
    "source_word_ = [re.sub(r\"[^\\w\\s]\", r\"\", x) for x in source_word_]\n",
    "target_word_ = [re.sub(r\"[^\\w\\s]\", r\"\", x) for x in target_word_]"
   ]
  },
  {
   "cell_type": "code",
   "execution_count": 15,
   "id": "380ba5df-9087-41c0-ba3b-213fc39b72fd",
   "metadata": {},
   "outputs": [],
   "source": [
    "source_word_ = [re.sub(r\"\\d\", r\"\", x) for x in source_word_]\n",
    "target_word_ = [re.sub(r\"\\d\", r\"\", x) for x in target_word_]"
   ]
  },
  {
   "cell_type": "code",
   "execution_count": 16,
   "id": "48241391-0b5f-4894-a016-3abfa7b7b673",
   "metadata": {},
   "outputs": [],
   "source": [
    "source_word_ = [re.sub('\"', '', x) for x in source_word_]\n",
    "target_word_ = [re.sub('\"', '', x) for x in target_word_]"
   ]
  },
  {
   "cell_type": "code",
   "execution_count": 17,
   "id": "561876ed-d15b-4d74-a6f0-ac977aa15200",
   "metadata": {},
   "outputs": [],
   "source": [
    "source_word_ = [re.sub(r\"ӕ\", r\"æ\", x) for x in source_word_]"
   ]
  },
  {
   "cell_type": "code",
   "execution_count": 18,
   "id": "b11ab261-579e-4796-9270-b7412d744761",
   "metadata": {},
   "outputs": [],
   "source": [
    "# source_word_ = [f'{start_target} {x} {end_target}' for x in source_word_]\n",
    "target_word_ = [f'{start_target} {x} {end_target}' for x in target_word_]"
   ]
  },
  {
   "cell_type": "code",
   "execution_count": 19,
   "id": "31e666cc-a2c4-44fa-b2be-5fce7a707e92",
   "metadata": {},
   "outputs": [
    {
     "data": {
      "text/plain": [
       "('чего ты смеёшься', 'sos цæуыл худыс eos')"
      ]
     },
     "execution_count": 19,
     "metadata": {},
     "output_type": "execute_result"
    }
   ],
   "source": [
    "source_word_[0], target_word_[0]"
   ]
  },
  {
   "cell_type": "markdown",
   "id": "e66aacda-d7c5-432e-b4ef-26894828d82b",
   "metadata": {},
   "source": [
    "# Data spliting"
   ]
  },
  {
   "cell_type": "code",
   "execution_count": 20,
   "id": "7cd1a947-3809-44e3-9a95-f7beb88e9d88",
   "metadata": {},
   "outputs": [],
   "source": [
    "X = source_word_\n",
    "Y = target_word_"
   ]
  },
  {
   "cell_type": "code",
   "execution_count": 21,
   "id": "0f162257-a1b4-4f95-8924-c0a8d8cfec23",
   "metadata": {},
   "outputs": [
    {
     "data": {
      "text/plain": [
       "(423, 423, 47, 47)"
      ]
     },
     "execution_count": 21,
     "metadata": {},
     "output_type": "execute_result"
    }
   ],
   "source": [
    "X_train, X_test, y_train, y_test = train_test_split(X, Y, test_size = 0.1)\n",
    "len(X_train),len(y_train), len(X_test), len(y_test)"
   ]
  },
  {
   "cell_type": "code",
   "execution_count": 22,
   "id": "831ccdc4-2ac5-47a6-bdf8-03d08ecd2652",
   "metadata": {},
   "outputs": [
    {
     "data": {
      "text/plain": [
       "('чего ты смеёшься', 'sos цæуыл худыс eos')"
      ]
     },
     "execution_count": 22,
     "metadata": {},
     "output_type": "execute_result"
    }
   ],
   "source": [
    "X[0], Y[0]"
   ]
  },
  {
   "cell_type": "markdown",
   "id": "e41a866d-44e2-47a3-8347-8f343cadafe6",
   "metadata": {},
   "source": [
    "## Data preparing for encoder and decoder"
   ]
  },
  {
   "cell_type": "code",
   "execution_count": 23,
   "id": "979cfe58-63c5-4c4a-be81-23caf194cdf7",
   "metadata": {},
   "outputs": [],
   "source": [
    "# preparing data for the word embedding\n",
    "def Max_length(data):\n",
    "    max_length_ = max([len(x.split(' ')) for x in data])\n",
    "    return max_length_"
   ]
  },
  {
   "cell_type": "code",
   "execution_count": 24,
   "id": "d8a27121-00cd-48b0-93bb-d83113a79c75",
   "metadata": {},
   "outputs": [],
   "source": [
    "#Training data\n",
    "max_lenght_source = Max_length(X_train)\n",
    "max_lenght_target = Max_length(y_train)\n",
    "\n",
    "#Test data\n",
    "max_lenght_source_test = Max_length(X_test)\n",
    "max_lenght_target_test = Max_length(y_test)"
   ]
  },
  {
   "cell_type": "code",
   "execution_count": 25,
   "id": "4af652ed-5759-4cce-8c21-1c54464057d7",
   "metadata": {},
   "outputs": [
    {
     "data": {
      "text/plain": [
       "(25, 21)"
      ]
     },
     "execution_count": 25,
     "metadata": {},
     "output_type": "execute_result"
    }
   ],
   "source": [
    "max_lenght_target, max_lenght_source"
   ]
  },
  {
   "cell_type": "code",
   "execution_count": 26,
   "id": "830d97c3-5032-4a1d-9cc8-4a5e113bfb2b",
   "metadata": {},
   "outputs": [],
   "source": [
    "def tokenizer_(text_data):\n",
    "    tokenizer = Tokenizer()\n",
    "    tokenizer.fit_on_texts(text_data)\n",
    "    return tokenizer\n",
    "\n",
    "tokenizer_input = tokenizer_(X_train)\n",
    "vocab_size_input = len(tokenizer_input.word_index) + 1\n",
    "tokenizer_target = tokenizer_(y_train)\n",
    "vocab_size_target = len(tokenizer_target.word_index) + 1"
   ]
  },
  {
   "cell_type": "code",
   "execution_count": 27,
   "id": "c9c2df04-8720-4c4f-b2d9-8900f4bd7f23",
   "metadata": {},
   "outputs": [],
   "source": [
    "with open(f'{dir}-{epochs}-tokenizer_input.pkl','wb') as f:\n",
    "    pkl.dump(tokenizer_input, f)\n",
    "\n",
    "with open(f'{dir}-{epochs}-tokenizer_target.pkl','wb') as f:\n",
    "    pkl.dump(tokenizer_target, f)\n",
    "    \n",
    "pkl.dump(tokenizer_input, open(f'{dir}-{epochs}-tokenizer_input.pkl', 'wb'))\n",
    "pkl.dump(tokenizer_target, open(f'{dir}-{epochs}-tokenizer_target.pkl', 'wb'))"
   ]
  },
  {
   "cell_type": "code",
   "execution_count": 28,
   "id": "403c63c9-7a66-403b-a79f-9e06fcee84e4",
   "metadata": {},
   "outputs": [
    {
     "data": {
      "text/plain": [
       "(874, 886)"
      ]
     },
     "execution_count": 28,
     "metadata": {},
     "output_type": "execute_result"
    }
   ],
   "source": [
    "vocab_size_input, vocab_size_target"
   ]
  },
  {
   "cell_type": "code",
   "execution_count": 29,
   "id": "81ad8a6a-e1dc-48de-b446-c2d7ff443ef5",
   "metadata": {},
   "outputs": [],
   "source": [
    "def generator_batch(X= X_train,Y=y_train, batch_size=128):\n",
    "    while True:\n",
    "        for j in range(0, len(X), batch_size):\n",
    "            encoder_data_input = np.zeros((batch_size,max_lenght_source),dtype='float32') #metrix of batch_size*max_length_english\n",
    "            decoder_data_input = np.zeros((batch_size,max_lenght_target),dtype='float32') #metrix of batch_size*max_length_marathi\n",
    "            decoder_target_input = np.zeros((batch_size,max_lenght_target,vocab_size_target),dtype='float32') # 3d array one hot encoder decoder target data\n",
    "            for i, (input_text,target_text) in enumerate(zip(X[j:j+batch_size],Y[j:j+batch_size])):\n",
    "                for t, word in enumerate(input_text.split()):\n",
    "                    encoder_data_input[i,t] = tokenizer_input.word_index[word] # Here we are storing the encoder \n",
    "                                                                         #seq in row here padding is done automaticaly as \n",
    "                                                                         #we have defined col as max_lenght\n",
    "                for t, word in enumerate(target_text.split()):\n",
    "                    # if word == 'START_':\n",
    "                    #   word = 'start'\n",
    "                    # elif word == 'END_':\n",
    "                    #   word = 'end'\n",
    "                    decoder_data_input[i,t] = tokenizer_target.word_index[word] # same for the decoder sequence\n",
    "                    if t>0:\n",
    "                        decoder_target_input[i,t-1,tokenizer_target.word_index[word]] = 1 #target is one timestep ahead of decoder input because it does not have 'start tag'\n",
    "            # print(encoder_data_input.shape())\n",
    "            yield ([encoder_data_input,decoder_data_input],decoder_target_input)"
   ]
  },
  {
   "cell_type": "code",
   "execution_count": 30,
   "id": "8cecaf5a-26f8-4b12-a372-d88732504b21",
   "metadata": {},
   "outputs": [],
   "source": [
    "# Define an input sequence and process it.\n",
    "encoder_inputs = Input(shape=(None,),name=\"encoder_inputs\")\n",
    "emb_layer_encoder = Embedding(vocab_size_input, HIDDEN_DIM, mask_zero=True)(encoder_inputs)\n",
    "encoder = LSTM(HIDDEN_DIM, return_state=True)\n",
    "encoder_outputs, state_h, state_c = encoder(emb_layer_encoder)\n",
    "# We discard `encoder_outputs` and only keep the states.\n",
    "encoder_states = [state_h, state_c]\n",
    "\n",
    "# Set up the decoder, using `encoder_states` as initial state.\n",
    "decoder_inputs = Input(shape=(None,),name=\"decoder_inputs\")\n",
    "# We set up our decoder to return full output sequences,\n",
    "# and to return internal states as well. We don't use the\n",
    "# return states in the training model, but we will use them in inference.\n",
    "emb_layer_decoder = Embedding(vocab_size_target,HIDDEN_DIM, mask_zero=True)(decoder_inputs)\n",
    "decoder_lstm = LSTM(HIDDEN_DIM, return_sequences=True, return_state=True)\n",
    "decoder_outputs, _, _ = decoder_lstm(emb_layer_decoder, initial_state=encoder_states)\n",
    "decoder_dense = Dense(vocab_size_target, activation='softmax')\n",
    "decoder_outputs = decoder_dense(decoder_outputs)\n",
    "\n",
    "# Define the model that will turn\n",
    "# `encoder_input_data` & `decoder_input_data` into `decoder_target_data`\n",
    "model = Model([encoder_inputs, decoder_inputs], decoder_outputs)"
   ]
  },
  {
   "cell_type": "code",
   "execution_count": 31,
   "id": "63153d0e-941a-4bf0-87eb-ae29652c09a3",
   "metadata": {},
   "outputs": [],
   "source": [
    "model.compile(loss='categorical_crossentropy', optimizer='rmsprop', metrics=['accuracy'])"
   ]
  },
  {
   "cell_type": "code",
   "execution_count": 32,
   "id": "9ebbda12-686d-47de-af07-63661bd10b1f",
   "metadata": {},
   "outputs": [
    {
     "name": "stdout",
     "output_type": "stream",
     "text": [
      "You must install pydot (`pip install pydot`) and install graphviz (see instructions at https://graphviz.gitlab.io/download/) for plot_model/model_to_dot to work.\n"
     ]
    }
   ],
   "source": [
    "plot_model(model, to_file=f'{dir}-{epochs}-train_model.png', show_shapes=True)"
   ]
  },
  {
   "cell_type": "code",
   "execution_count": 33,
   "id": "d12c688a-25f0-426a-b9dd-873ee155dcbf",
   "metadata": {},
   "outputs": [],
   "source": [
    "train_samples = len(X_train)\n",
    "val_samples = len(X_test)"
   ]
  },
  {
   "cell_type": "code",
   "execution_count": 34,
   "id": "ec1d51b8-bb57-4260-a64f-1e08364e1a3d",
   "metadata": {},
   "outputs": [
    {
     "name": "stdout",
     "output_type": "stream",
     "text": [
      "Epoch 1/20\n"
     ]
    },
    {
     "name": "stderr",
     "output_type": "stream",
     "text": [
      "C:\\Users\\ONIGAT~1\\AppData\\Local\\Temp/ipykernel_2376/1782680856.py:2: UserWarning: `Model.fit_generator` is deprecated and will be removed in a future version. Please use `Model.fit`, which supports generators.\n",
      "  model.fit_generator(generator = generator_batch(X_train, y_train, batch_size = batch_size), steps_per_epoch = train_samples//batch_size, epochs=epochs)\n"
     ]
    },
    {
     "name": "stdout",
     "output_type": "stream",
     "text": [
      "70/70 [==============================] - 7s 17ms/step - loss: 1.3347 - accuracy: 0.1516\n",
      "Epoch 2/20\n",
      "70/70 [==============================] - 1s 16ms/step - loss: 1.2251 - accuracy: 0.1553\n",
      "Epoch 3/20\n",
      "70/70 [==============================] - 1s 16ms/step - loss: 1.1999 - accuracy: 0.1561\n",
      "Epoch 4/20\n",
      "70/70 [==============================] - 1s 16ms/step - loss: 1.1858 - accuracy: 0.1555\n",
      "Epoch 5/20\n",
      "70/70 [==============================] - 1s 16ms/step - loss: 1.1655 - accuracy: 0.1580\n",
      "Epoch 6/20\n",
      "70/70 [==============================] - 1s 17ms/step - loss: 1.1543 - accuracy: 0.1623\n",
      "Epoch 7/20\n",
      "70/70 [==============================] - 1s 16ms/step - loss: 1.1347 - accuracy: 0.1649\n",
      "Epoch 8/20\n",
      "70/70 [==============================] - 1s 16ms/step - loss: 1.1254 - accuracy: 0.1641\n",
      "Epoch 9/20\n",
      "70/70 [==============================] - 1s 16ms/step - loss: 1.0996 - accuracy: 0.1644\n",
      "Epoch 10/20\n",
      "70/70 [==============================] - 1s 16ms/step - loss: 1.0871 - accuracy: 0.1654\n",
      "Epoch 11/20\n",
      "70/70 [==============================] - 1s 16ms/step - loss: 1.0679 - accuracy: 0.1649\n",
      "Epoch 12/20\n",
      "70/70 [==============================] - 1s 16ms/step - loss: 1.0521 - accuracy: 0.1643\n",
      "Epoch 13/20\n",
      "70/70 [==============================] - 1s 16ms/step - loss: 1.0381 - accuracy: 0.1662\n",
      "Epoch 14/20\n",
      "70/70 [==============================] - 1s 16ms/step - loss: 1.0234 - accuracy: 0.1664\n",
      "Epoch 15/20\n",
      "70/70 [==============================] - 1s 16ms/step - loss: 1.0055 - accuracy: 0.1680\n",
      "Epoch 16/20\n",
      "70/70 [==============================] - 1s 16ms/step - loss: 0.9974 - accuracy: 0.1708\n",
      "Epoch 17/20\n",
      "70/70 [==============================] - 1s 16ms/step - loss: 0.9894 - accuracy: 0.1717\n",
      "Epoch 18/20\n",
      "70/70 [==============================] - 1s 16ms/step - loss: 0.9712 - accuracy: 0.1749\n",
      "Epoch 19/20\n",
      "70/70 [==============================] - 1s 16ms/step - loss: 0.9574 - accuracy: 0.1759\n",
      "Epoch 20/20\n",
      "70/70 [==============================] - 1s 17ms/step - loss: 0.9477 - accuracy: 0.1775\n"
     ]
    },
    {
     "data": {
      "text/plain": [
       "<keras.callbacks.History at 0x229cce88790>"
      ]
     },
     "execution_count": 34,
     "metadata": {},
     "output_type": "execute_result"
    }
   ],
   "source": [
    "# %%capture\n",
    "model.fit_generator(generator = generator_batch(X_train, y_train, batch_size = batch_size), steps_per_epoch = train_samples//batch_size, epochs=epochs)"
   ]
  },
  {
   "cell_type": "code",
   "execution_count": 35,
   "id": "7db8682d-539a-4ace-9c95-3f414ee4fb04",
   "metadata": {},
   "outputs": [
    {
     "name": "stdout",
     "output_type": "stream",
     "text": [
      "Saved model to disk\n"
     ]
    }
   ],
   "source": [
    "model_json = model.to_json()\n",
    "with open(f'{dir}-{epochs}-model.json', \"w\") as json_file:\n",
    "    json_file.write(model_json)\n",
    "# serialize weights to HDF5\n",
    "model.save_weights(f'{dir}-{epochs}-model_weight.h5')\n",
    "print(\"Saved model to disk\")"
   ]
  },
  {
   "cell_type": "code",
   "execution_count": 36,
   "id": "7e412cb7-8fb6-4910-85e2-8c4ea3f10c05",
   "metadata": {},
   "outputs": [],
   "source": [
    "json_file = open(f'{dir}-{epochs}-model.json', 'r')\n",
    "loaded_model_json = json_file.read()\n",
    "json_file.close()\n",
    "model_loaded = model_from_json(loaded_model_json)\n",
    "\n",
    "model_loaded.load_weights(f'{dir}-{epochs}-model_weight.h5')"
   ]
  },
  {
   "cell_type": "code",
   "execution_count": 37,
   "id": "b8ac9691-08ef-462c-ba5a-255d2d9bb025",
   "metadata": {},
   "outputs": [],
   "source": [
    "encoder_inputs_inf = model_loaded.input[0]\n",
    "encoder_outputs_inf, inf_state_h, inf_state_c = model_loaded.layers[4].output\n",
    "encoder_inf_states = [inf_state_h,inf_state_c]\n",
    "encoder_model = Model(encoder_inputs_inf,encoder_inf_states)"
   ]
  },
  {
   "cell_type": "code",
   "execution_count": 38,
   "id": "fb2d5383-b268-427f-abca-67bcdbd59614",
   "metadata": {},
   "outputs": [],
   "source": [
    "decoder_state_h_input = Input(shape=(HIDDEN_DIM,))\n",
    "decoder_state_c_input = Input(shape=(HIDDEN_DIM,))\n",
    "decoder_state_input = [decoder_state_h_input,decoder_state_c_input]\n",
    "\n",
    "decoder_input_inf = model_loaded.input[1]\n",
    "decoder_emb_inf = model_loaded.layers[3](decoder_input_inf)\n",
    "decoder_lstm_inf = model_loaded.layers[5]\n",
    "decoder_output_inf, decoder_state_h_inf, decoder_state_c_inf = decoder_lstm_inf(decoder_emb_inf, initial_state =decoder_state_input)\n",
    "decoder_state_inf = [decoder_state_h_inf,decoder_state_c_inf]\n",
    "dense_inf = model_loaded.layers[6]\n",
    "decoder_output_final = dense_inf(decoder_output_inf)\n",
    "\n",
    "decoder_model = Model([decoder_input_inf]+decoder_state_input,[decoder_output_final]+decoder_state_inf)"
   ]
  },
  {
   "cell_type": "code",
   "execution_count": 39,
   "id": "82b5c70c-a9ef-4da6-a1d5-fe34fe94238e",
   "metadata": {},
   "outputs": [],
   "source": [
    "with open(f'{dir}-{epochs}-tokenizer_input.pkl','rb') as f:\n",
    "    tokenizer_input = pkl.load(f)\n",
    "with open(f'{dir}-{epochs}-tokenizer_target.pkl','rb') as f:\n",
    "    tokenizer_target = pkl.load(f)\n",
    "\n",
    "reverse_word_map_input = dict(map(reversed, tokenizer_input.word_index.items()))\n",
    "reverse_word_map_target = dict(map(reversed, tokenizer_target.word_index.items()))"
   ]
  },
  {
   "cell_type": "code",
   "execution_count": 40,
   "id": "8714b9ba-6a9e-4b55-a8af-60f8ca3da9e8",
   "metadata": {},
   "outputs": [],
   "source": [
    "def decode_seq(input_seq):\n",
    "    state_values_encoder = encoder_model.predict(input_seq)\n",
    "    target_seq = np.zeros((1,1))\n",
    "    target_seq[0, 0] = tokenizer_target.word_index[start_target]\n",
    "    stop_condition = False\n",
    "    decoder_sentance = ''\n",
    "\n",
    "    while not stop_condition:\n",
    "        sample_word , decoder_h,decoder_c= decoder_model.predict([target_seq] + state_values_encoder)\n",
    "        sample_word_index = np.argmax(sample_word[0,-1,:])\n",
    "        decoder_word = reverse_word_map_target[sample_word_index]\n",
    "        decoder_sentance += ' '+ decoder_word\n",
    "        if (decoder_word == end_target or \n",
    "            len(decoder_sentance) > 70):\n",
    "            stop_condition = True\n",
    "        target_seq[0, 0] = sample_word_index\n",
    "        state_values_encoder = [decoder_h,decoder_c]\n",
    "    return decoder_sentance"
   ]
  },
  {
   "cell_type": "code",
   "execution_count": 41,
   "id": "6f03d272-1854-4bb8-8c55-d48a42a2e103",
   "metadata": {},
   "outputs": [
    {
     "name": "stdout",
     "output_type": "stream",
     "text": [
      "Test sentance:  1\n",
      "sentance:  завтра надо идти на работу\n",
      "origianl translate:  райсом мæ куыстмæ цæуын хъæуы \n",
      "predicted Translate:  байрай кæдæм \n",
      "====================================================================================================\n",
      "Test sentance:  2\n",
      "sentance:  знания просто так  к человеку не приходят\n",
      "origianl translate:  зонындзинæдтæ адæймагмæ сæхæдæг не рцæуынц \n",
      "predicted Translate:  кæм ис ис \n",
      "====================================================================================================\n",
      "Test sentance:  3\n",
      "sentance:  всего хорошего\n",
      "origianl translate:  дзæбæх ут \n",
      "predicted Translate:  кæсын \n",
      "====================================================================================================\n",
      "Test sentance:  4\n",
      "sentance:  родители купили ацамазу портфель\n",
      "origianl translate:  ацæмæзæн ныййарджытæ балхæдтой пъартфел \n",
      "predicted Translate:  батырбег \n",
      "====================================================================================================\n"
     ]
    }
   ],
   "source": [
    "for i in range(4):\n",
    "    sentance = X_test[i]\n",
    "    original_target = y_test[i]\n",
    "    input_seq = tokenizer_input.texts_to_sequences([sentance])\n",
    "    pad_sequence = pad_sequences(input_seq, maxlen= 30, padding='post')\n",
    "    predicted_target = decode_seq(pad_sequence)\n",
    "    print(\"Test sentance: \",i+1)\n",
    "    print(\"sentance: \",sentance)\n",
    "    print(\"origianl translate:\",original_target[3:-3])\n",
    "    print(\"predicted Translate:\",predicted_target[:-3])\n",
    "    print(\"==\"*50)"
   ]
  },
  {
   "cell_type": "code",
   "execution_count": 42,
   "id": "5286e0b3-0c4c-48d5-b817-40e1339df1fc",
   "metadata": {},
   "outputs": [
    {
     "name": "stdout",
     "output_type": "stream",
     "text": [
      "Test sentance:  1\n",
      "sentance:  спасибо кола а сам ты нигде не был\n",
      "origianl translate:  бузныг къола æмæ дæхæдæг та никуы уыдтæ \n",
      "predicted Translate:  мæ фыд æмæ æмæ æмæ æмæ æмæ æмæ фæнды хъæбулы хъæбулы хъæбулы хъæбулы хъæб\n",
      "====================================================================================================\n",
      "Test sentance:  2\n",
      "sentance:  каждый год там бываешь\n",
      "origianl translate:  уырдæм фæцæуыс алы аз дæр \n",
      "predicted Translate:  æз дæр хорз у \n",
      "====================================================================================================\n",
      "Test sentance:  3\n",
      "sentance:  спеть вам песенку\n",
      "origianl translate:  азарон уын зарæг \n",
      "predicted Translate:  дзæуджыхъæу кæдæм \n",
      "====================================================================================================\n",
      "Test sentance:  4\n",
      "sentance:  все хорошо спасибо\n",
      "origianl translate:  бузныг ницы мын у \n",
      "predicted Translate:  æз \n",
      "====================================================================================================\n",
      "Test sentance:  5\n",
      "sentance:  она была моей первой любовью\n",
      "origianl translate:  уый уыди мæ фыццаг уарзондзинат \n",
      "predicted Translate:  мæ фыд æмæ цæры йæ \n",
      "====================================================================================================\n",
      "Test sentance:  6\n",
      "sentance:  у тебя есть я\n",
      "origianl translate:  дӕумӕ ӕз дӕн \n",
      "predicted Translate:  том фæнды \n",
      "====================================================================================================\n",
      "Test sentance:  7\n",
      "sentance:  этот нож очень острый\n",
      "origianl translate:  ацы кард тынг цыргъ у \n",
      "predicted Translate:  том нæ ис \n",
      "====================================================================================================\n",
      "Test sentance:  8\n",
      "sentance:  у меня есть большие дома\n",
      "origianl translate:  мӕнмӕ ис дынджыр хӕдзартӕ \n",
      "predicted Translate:  батырбег кæд ис \n",
      "====================================================================================================\n",
      "Test sentance:  9\n",
      "sentance:  в какой школе работаешь\n",
      "origianl translate:  кæцы скъолайы кусыс \n",
      "predicted Translate:  æз хорз у \n",
      "====================================================================================================\n",
      "Test sentance:  10\n",
      "sentance:  вечером когда работу закончишь зайдешь к нам\n",
      "origianl translate:  изæрæй куыстæй куы суæгъд уай уæд махыл рацæудзынæ \n",
      "predicted Translate:  æнæ æнæ кæд кæд ис ис \n",
      "====================================================================================================\n",
      "Test sentance:  11\n",
      "sentance:  ты\n",
      "origianl translate:  ды \n",
      "predicted Translate:  кæм \n",
      "====================================================================================================\n",
      "Test sentance:  12\n",
      "sentance:  он жил здесь десять лет назад\n",
      "origianl translate:  уый ам царди дæс азы размæ \n",
      "predicted Translate:  æз дæр дæр дæр у \n",
      "====================================================================================================\n",
      "Test sentance:  13\n",
      "sentance:  такого ты не видела даже во сне\n",
      "origianl translate:  уый ды дæ фыны дæр нæ федтай \n",
      "predicted Translate:  æз æз дæр дæр дæр у \n",
      "====================================================================================================\n",
      "Test sentance:  14\n",
      "sentance:  это от тома\n",
      "origianl translate:  ай томӕй у \n",
      "predicted Translate:  том \n",
      "====================================================================================================\n",
      "Test sentance:  15\n",
      "sentance:  ум\n",
      "origianl translate:  зонд \n",
      "predicted Translate:  том \n",
      "====================================================================================================\n",
      "Test sentance:  16\n",
      "sentance:  я хочу mp плеер\n",
      "origianl translate:  mp плеер мӕ хъӕуы \n",
      "predicted Translate:  том æмæ ис ис \n",
      "====================================================================================================\n",
      "Test sentance:  17\n",
      "sentance:  мой отец родился в санибе а мама в гизели\n",
      "origianl translate:  мæ фыд райгуырд санибайы хъæуы мæ мад та  джызæлы \n",
      "predicted Translate:  æз æз дæр дæр дæр дæр дæр \n",
      "====================================================================================================\n",
      "Test sentance:  18\n",
      "sentance:  сегодня облачно\n",
      "origianl translate:  абон у асæст \n",
      "predicted Translate:  æз \n",
      "====================================================================================================\n",
      "Test sentance:  19\n",
      "sentance:  у каждой книги своя судьба\n",
      "origianl translate:  алы чиныгæн ис йæхи хъысмæт \n",
      "predicted Translate:  том æмæ ис ис \n",
      "====================================================================================================\n",
      "Test sentance:  20\n",
      "sentance:  я впервые был в ньюйорке\n",
      "origianl translate:  уыдтæн ньюйорчы фыццаг хатт \n",
      "predicted Translate:  мæ фæнды у \n",
      "====================================================================================================\n"
     ]
    }
   ],
   "source": [
    "for i in range(20):\n",
    "    sentance = X_train[i]\n",
    "    original_target = y_train[i]\n",
    "    input_seq = tokenizer_input.texts_to_sequences([sentance])\n",
    "    pad_sequence = pad_sequences(input_seq, maxlen= 30, padding='post')\n",
    "    predicted_target = decode_seq(pad_sequence)\n",
    "    print(\"Test sentance: \",i+1)\n",
    "    print(\"sentance: \",sentance)\n",
    "    print(\"origianl translate:\",original_target[3:-3])\n",
    "    print(\"predicted Translate:\",predicted_target[:-3])\n",
    "    print(\"==\"*50)"
   ]
  },
  {
   "cell_type": "code",
   "execution_count": 44,
   "id": "ba7c15b6-9095-453e-abb7-465a7504273a",
   "metadata": {},
   "outputs": [],
   "source": [
    "# sentance = str(input())\n",
    "# input_seq = tokenizer_input.texts_to_sequences([sentance])\n",
    "# pad_sequence = pad_sequences(input_seq, maxlen= 30, padding='post')\n",
    "# predicted_target = decode_seq(pad_sequence)\n",
    "# print(\"predicted Translate:\",predicted_target[:-3])"
   ]
  },
  {
   "cell_type": "code",
   "execution_count": null,
   "id": "e6338580-367b-4acd-aff3-e22c75e06622",
   "metadata": {},
   "outputs": [],
   "source": []
  }
 ],
 "metadata": {
  "kernelspec": {
   "display_name": "Python 3 (ipykernel)",
   "language": "python",
   "name": "python3"
  },
  "language_info": {
   "codemirror_mode": {
    "name": "ipython",
    "version": 3
   },
   "file_extension": ".py",
   "mimetype": "text/x-python",
   "name": "python",
   "nbconvert_exporter": "python",
   "pygments_lexer": "ipython3",
   "version": "3.9.7"
  }
 },
 "nbformat": 4,
 "nbformat_minor": 5
}