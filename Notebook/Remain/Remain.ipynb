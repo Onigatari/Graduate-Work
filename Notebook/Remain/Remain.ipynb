{
 "cells": [
  {
   "cell_type": "code",
   "execution_count": 1,
   "id": "3f3bd3b4-219b-4c3b-a7ee-61d253092206",
   "metadata": {},
   "outputs": [],
   "source": [
    "import pandas as pd\n",
    "from sklearn.model_selection import train_test_split\n",
    "import string\n",
    "from string import digits\n",
    "import re\n",
    "import os\n",
    "from sklearn.utils import shuffle\n",
    "from keras.preprocessing.sequence import pad_sequences\n",
    "from keras.layers import LSTM, Input, Dense,Embedding\n",
    "from keras.models import Model,load_model\n",
    "from tensorflow.keras.utils import plot_model\n",
    "from keras.preprocessing.text import one_hot\n",
    "from keras.preprocessing.text import Tokenizer\n",
    "from keras.models import model_from_json\n",
    "import pickle as pkl\n",
    "import numpy as np"
   ]
  },
  {
   "cell_type": "code",
   "execution_count": 2,
   "id": "c4dd2f02-e395-49ef-83a5-561264659141",
   "metadata": {},
   "outputs": [],
   "source": [
    "dir = 'rus-oss.txt'\n",
    "cur_path = os.path.abspath('')\n",
    "new_path = os.path.relpath(f'../Date/{dir}', cur_path)\n",
    "with open(new_path, encoding='utf-8') as f:\n",
    "    data = f.read()"
   ]
  },
  {
   "cell_type": "code",
   "execution_count": 3,
   "id": "8594834f-8c22-42f2-9c9d-824682476705",
   "metadata": {},
   "outputs": [],
   "source": [
    "uncleaned_data_list = data.split('\\n')\n",
    "uncleaned_data_list = uncleaned_data_list[:38695]\n",
    "\n",
    "rus_word = []\n",
    "oss_word = []\n",
    "\n",
    "for word in uncleaned_data_list:\n",
    "    rus_word.append(word.split('\\t')[0])\n",
    "    oss_word.append(word.split('\\t')[1])"
   ]
  },
  {
   "cell_type": "code",
   "execution_count": 4,
   "id": "62f26833-35c5-4c74-be15-a6aeee953077",
   "metadata": {},
   "outputs": [],
   "source": [
    "language_data = pd.DataFrame(columns=['Russia','Ossetian'])\n",
    "language_data['Russia'] = rus_word\n",
    "language_data['Ossetian'] = oss_word"
   ]
  },
  {
   "cell_type": "code",
   "execution_count": 5,
   "id": "6b1b8388-5baf-46d9-82e5-f82e11c68096",
   "metadata": {},
   "outputs": [],
   "source": [
    "# saving to csv\n",
    "language_data.to_csv(f'{dir}-language_data.csv', index=False)"
   ]
  },
  {
   "cell_type": "code",
   "execution_count": 6,
   "id": "61839196-3044-4a75-9c9d-d31d92c56e3c",
   "metadata": {},
   "outputs": [],
   "source": [
    "# loading data from csv\n",
    "language_data = pd.read_csv(f'{dir}-language_data.csv')"
   ]
  },
  {
   "cell_type": "code",
   "execution_count": 7,
   "id": "74166bf2-1b9e-4c76-97cb-dcc10a6a832d",
   "metadata": {},
   "outputs": [
    {
     "data": {
      "text/html": [
       "<div>\n",
       "<style scoped>\n",
       "    .dataframe tbody tr th:only-of-type {\n",
       "        vertical-align: middle;\n",
       "    }\n",
       "\n",
       "    .dataframe tbody tr th {\n",
       "        vertical-align: top;\n",
       "    }\n",
       "\n",
       "    .dataframe thead th {\n",
       "        text-align: right;\n",
       "    }\n",
       "</style>\n",
       "<table border=\"1\" class=\"dataframe\">\n",
       "  <thead>\n",
       "    <tr style=\"text-align: right;\">\n",
       "      <th></th>\n",
       "      <th>Russia</th>\n",
       "      <th>Ossetian</th>\n",
       "    </tr>\n",
       "  </thead>\n",
       "  <tbody>\n",
       "    <tr>\n",
       "      <th>0</th>\n",
       "      <td>Чего ты смеёшься?</td>\n",
       "      <td>Цæуыл худыс?</td>\n",
       "    </tr>\n",
       "    <tr>\n",
       "      <th>1</th>\n",
       "      <td>Этот нож очень острый.</td>\n",
       "      <td>Ацы кард тынг цыргъ у.</td>\n",
       "    </tr>\n",
       "    <tr>\n",
       "      <th>2</th>\n",
       "      <td>У кошки девять жизней.</td>\n",
       "      <td>Гæдыйæн фараст царды ис.</td>\n",
       "    </tr>\n",
       "    <tr>\n",
       "      <th>3</th>\n",
       "      <td>Сегодня облачно.</td>\n",
       "      <td>Абон у асæст.</td>\n",
       "    </tr>\n",
       "    <tr>\n",
       "      <th>4</th>\n",
       "      <td>Он был вождём своего племени 35 лет.</td>\n",
       "      <td>Уый йæ знæмы раздзог уыдис 35 азы дæргъы.</td>\n",
       "    </tr>\n",
       "  </tbody>\n",
       "</table>\n",
       "</div>"
      ],
      "text/plain": [
       "                                 Russia  \\\n",
       "0                     Чего ты смеёшься?   \n",
       "1                Этот нож очень острый.   \n",
       "2                У кошки девять жизней.   \n",
       "3                      Сегодня облачно.   \n",
       "4  Он был вождём своего племени 35 лет.   \n",
       "\n",
       "                                    Ossetian  \n",
       "0                               Цæуыл худыс?  \n",
       "1                     Ацы кард тынг цыргъ у.  \n",
       "2                   Гæдыйæн фараст царды ис.  \n",
       "3                              Абон у асæст.  \n",
       "4  Уый йæ знæмы раздзог уыдис 35 азы дæргъы.  "
      ]
     },
     "execution_count": 7,
     "metadata": {},
     "output_type": "execute_result"
    }
   ],
   "source": [
    "language_data.head()"
   ]
  },
  {
   "cell_type": "code",
   "execution_count": 8,
   "id": "cfaae43d-4b63-4b8e-9cfd-374bed9eaea0",
   "metadata": {},
   "outputs": [
    {
     "data": {
      "text/html": [
       "<div>\n",
       "<style scoped>\n",
       "    .dataframe tbody tr th:only-of-type {\n",
       "        vertical-align: middle;\n",
       "    }\n",
       "\n",
       "    .dataframe tbody tr th {\n",
       "        vertical-align: top;\n",
       "    }\n",
       "\n",
       "    .dataframe thead th {\n",
       "        text-align: right;\n",
       "    }\n",
       "</style>\n",
       "<table border=\"1\" class=\"dataframe\">\n",
       "  <thead>\n",
       "    <tr style=\"text-align: right;\">\n",
       "      <th></th>\n",
       "      <th>Russia</th>\n",
       "      <th>Ossetian</th>\n",
       "    </tr>\n",
       "  </thead>\n",
       "  <tbody>\n",
       "    <tr>\n",
       "      <th>425</th>\n",
       "      <td>Сегодня будет дождь?</td>\n",
       "      <td>Абон уардзæн?</td>\n",
       "    </tr>\n",
       "    <tr>\n",
       "      <th>426</th>\n",
       "      <td>Какое сегодня число?</td>\n",
       "      <td>Абон кæцы бон у?</td>\n",
       "    </tr>\n",
       "    <tr>\n",
       "      <th>427</th>\n",
       "      <td>Какой сегодня день?</td>\n",
       "      <td>Цы бон у абон?</td>\n",
       "    </tr>\n",
       "    <tr>\n",
       "      <th>428</th>\n",
       "      <td>Вы говорите по-осетински?</td>\n",
       "      <td>Иронау дзурут?</td>\n",
       "    </tr>\n",
       "    <tr>\n",
       "      <th>429</th>\n",
       "      <td>Вы кого-то ищете?</td>\n",
       "      <td>Искæй агурут?</td>\n",
       "    </tr>\n",
       "  </tbody>\n",
       "</table>\n",
       "</div>"
      ],
      "text/plain": [
       "                        Russia          Ossetian\n",
       "425       Сегодня будет дождь?     Абон уардзæн?\n",
       "426       Какое сегодня число?  Абон кæцы бон у?\n",
       "427        Какой сегодня день?    Цы бон у абон?\n",
       "428  Вы говорите по-осетински?    Иронау дзурут?\n",
       "429          Вы кого-то ищете?     Искæй агурут?"
      ]
     },
     "execution_count": 8,
     "metadata": {},
     "output_type": "execute_result"
    }
   ],
   "source": [
    "language_data.tail()"
   ]
  },
  {
   "cell_type": "code",
   "execution_count": 9,
   "id": "d07c12e3-2ae9-4ff9-910d-157045ae2f32",
   "metadata": {},
   "outputs": [],
   "source": [
    "rus_text = language_data['Russia'].values\n",
    "oss_text = language_data['Ossetian'].values"
   ]
  },
  {
   "cell_type": "code",
   "execution_count": 10,
   "id": "94d4e6e5-6446-49c1-b5b3-2f06c0caf170",
   "metadata": {},
   "outputs": [
    {
     "data": {
      "text/plain": [
       "('Чего ты смеёшься?', 'Цæуыл худыс?')"
      ]
     },
     "execution_count": 10,
     "metadata": {},
     "output_type": "execute_result"
    }
   ],
   "source": [
    "rus_text[0], oss_text[0]"
   ]
  },
  {
   "cell_type": "code",
   "execution_count": 11,
   "id": "b9becfba-23ea-4161-baf7-db337fff0509",
   "metadata": {},
   "outputs": [],
   "source": [
    "#lowercasing the setences\n",
    "rus_text_ = [x.lower() for x in rus_text]\n",
    "oss_text_ = [x.lower() for x in oss_text]"
   ]
  },
  {
   "cell_type": "code",
   "execution_count": 12,
   "id": "a263f311-c1f2-4398-9cb7-25b657d87f70",
   "metadata": {},
   "outputs": [],
   "source": [
    "rus_text_ = [re.sub(\"'\",'',x) for x in rus_text_]\n",
    "oss_text_ = [re.sub(\"'\",'',x) for x in oss_text_]"
   ]
  },
  {
   "cell_type": "code",
   "execution_count": 13,
   "id": "47301419-81a6-4873-b20f-238a0207d1cf",
   "metadata": {},
   "outputs": [],
   "source": [
    "# remove puntuation\n",
    "def remove_punc(text_list):\n",
    "    table = str.maketrans('', '', string.punctuation)\n",
    "    removed_punc_text = []\n",
    "    for sent in text_list:\n",
    "        sentance = [w.translate(table) for w in sent.split(' ')]\n",
    "        removed_punc_text.append(' '.join(sentance))\n",
    "    return removed_punc_text"
   ]
  },
  {
   "cell_type": "code",
   "execution_count": 14,
   "id": "8a57960b-aab3-4e15-b1d2-f5409561525c",
   "metadata": {},
   "outputs": [],
   "source": [
    "rus_text_ = remove_punc(rus_text_)\n",
    "oss_text_ = remove_punc(oss_text_)"
   ]
  },
  {
   "cell_type": "code",
   "execution_count": 15,
   "id": "5251ea54-15e2-48db-a9b8-95485cfd8ac6",
   "metadata": {},
   "outputs": [],
   "source": [
    "# removing the digits from russian sentances\n",
    "remove_digits = str.maketrans('', '', digits)\n",
    "removed_digits_text = []"
   ]
  },
  {
   "cell_type": "code",
   "execution_count": 16,
   "id": "6a1752b7-0ec5-4ed7-81ae-da8ae2f9cc58",
   "metadata": {},
   "outputs": [],
   "source": [
    "for sent in rus_text_:\n",
    "    sentance = [w.translate(remove_digits) for w in sent.split(' ')]\n",
    "    removed_digits_text.append(' '.join(sentance))\n",
    "    \n",
    "rus_text_ = removed_digits_text"
   ]
  },
  {
   "cell_type": "code",
   "execution_count": 17,
   "id": "430f9bf7-974c-4c5c-9f08-20f196c87fdd",
   "metadata": {},
   "outputs": [],
   "source": [
    "rus_text_ = [x.strip() for x in rus_text_]\n",
    "oss_text_ = [x.strip() for x in oss_text_]"
   ]
  },
  {
   "cell_type": "code",
   "execution_count": 18,
   "id": "969fe0cb-c166-451b-8c9f-db502220db0b",
   "metadata": {},
   "outputs": [],
   "source": [
    "rus_text_ = [re.sub(r\"([,.!?])\", r\"\", x) for x in rus_text_]\n",
    "oss_text_ = [re.sub(r\"([,.!?])\", r\"\", x) for x in oss_text_]"
   ]
  },
  {
   "cell_type": "code",
   "execution_count": 19,
   "id": "b11ab261-579e-4796-9270-b7412d744761",
   "metadata": {},
   "outputs": [],
   "source": [
    "# rus_text_ = [\"<sos> \" + x + \" <eos>\" for x in rus_text_]\n",
    "oss_text_ = [\"start \" + x + \" end\" for x in oss_text_]"
   ]
  },
  {
   "cell_type": "code",
   "execution_count": 20,
   "id": "31e666cc-a2c4-44fa-b2be-5fce7a707e92",
   "metadata": {},
   "outputs": [
    {
     "data": {
      "text/plain": [
       "('start цæуыл худыс end', 'чего ты смеёшься')"
      ]
     },
     "execution_count": 20,
     "metadata": {},
     "output_type": "execute_result"
    }
   ],
   "source": [
    "oss_text_[0], rus_text_[0]"
   ]
  },
  {
   "cell_type": "markdown",
   "id": "e66aacda-d7c5-432e-b4ef-26894828d82b",
   "metadata": {},
   "source": [
    "# Data spliting"
   ]
  },
  {
   "cell_type": "code",
   "execution_count": 21,
   "id": "7cd1a947-3809-44e3-9a95-f7beb88e9d88",
   "metadata": {},
   "outputs": [],
   "source": [
    "X = rus_text_\n",
    "Y = oss_text_"
   ]
  },
  {
   "cell_type": "code",
   "execution_count": 22,
   "id": "0f162257-a1b4-4f95-8924-c0a8d8cfec23",
   "metadata": {},
   "outputs": [
    {
     "data": {
      "text/plain": [
       "(387, 387, 43, 43)"
      ]
     },
     "execution_count": 22,
     "metadata": {},
     "output_type": "execute_result"
    }
   ],
   "source": [
    "X_train, X_test, y_train, y_test = train_test_split(X,Y,test_size = 0.1)\n",
    "len(X_train),len(y_train), len(X_test), len(y_test)"
   ]
  },
  {
   "cell_type": "code",
   "execution_count": 23,
   "id": "831ccdc4-2ac5-47a6-bdf8-03d08ecd2652",
   "metadata": {},
   "outputs": [
    {
     "data": {
      "text/plain": [
       "('чего ты смеёшься', 'start цæуыл худыс end')"
      ]
     },
     "execution_count": 23,
     "metadata": {},
     "output_type": "execute_result"
    }
   ],
   "source": [
    "X[0], Y[0]"
   ]
  },
  {
   "cell_type": "markdown",
   "id": "e41a866d-44e2-47a3-8347-8f343cadafe6",
   "metadata": {},
   "source": [
    "## Data preparing for encoder and decoder"
   ]
  },
  {
   "cell_type": "code",
   "execution_count": 24,
   "id": "979cfe58-63c5-4c4a-be81-23caf194cdf7",
   "metadata": {},
   "outputs": [],
   "source": [
    "# preparing data for the word embedding\n",
    "def Max_length(data):\n",
    "    max_length_ = max([len(x.split(' ')) for x in data])\n",
    "    return max_length_"
   ]
  },
  {
   "cell_type": "code",
   "execution_count": 25,
   "id": "d8a27121-00cd-48b0-93bb-d83113a79c75",
   "metadata": {},
   "outputs": [],
   "source": [
    "#Training data\n",
    "max_length_rus = Max_length(X_train)\n",
    "max_lenght_oss = Max_length(y_train)\n",
    "\n",
    "#Test data\n",
    "max_length_rus_test = Max_length(X_test)\n",
    "max_lenght_oss_test = Max_length(y_test)"
   ]
  },
  {
   "cell_type": "code",
   "execution_count": 26,
   "id": "4af652ed-5759-4cce-8c21-1c54464057d7",
   "metadata": {},
   "outputs": [
    {
     "data": {
      "text/plain": [
       "(21, 25)"
      ]
     },
     "execution_count": 26,
     "metadata": {},
     "output_type": "execute_result"
    }
   ],
   "source": [
    "max_length_rus, max_lenght_oss"
   ]
  },
  {
   "cell_type": "code",
   "execution_count": 27,
   "id": "830d97c3-5032-4a1d-9cc8-4a5e113bfb2b",
   "metadata": {},
   "outputs": [],
   "source": [
    "def tokenizer_(text_data):\n",
    "    tokenizer = Tokenizer()\n",
    "    tokenizer.fit_on_texts(text_data)\n",
    "    return tokenizer\n",
    "\n",
    "tokenizer_input = tokenizer_(X_train)\n",
    "vocab_size_input = len(tokenizer_input.word_index) + 1\n",
    "tokenizer_target = tokenizer_(y_train)\n",
    "vocab_size_target = len(tokenizer_target.word_index) + 1"
   ]
  },
  {
   "cell_type": "code",
   "execution_count": 28,
   "id": "c9c2df04-8720-4c4f-b2d9-8900f4bd7f23",
   "metadata": {},
   "outputs": [],
   "source": [
    "with open(f'{dir}-tokenizer_input.pkl','wb') as f:\n",
    "    pkl.dump(tokenizer_input,f)\n",
    "\n",
    "with open(f'{dir}-tokenizer_target.pkl','wb') as f:\n",
    "    pkl.dump(tokenizer_target,f)\n",
    "    \n",
    "pkl.dump(tokenizer_input, open(f'{dir}-tokenizer_input.pkl', 'wb'))\n",
    "pkl.dump(tokenizer_target, open(f'{dir}-tokenizer_target.pkl', 'wb'))"
   ]
  },
  {
   "cell_type": "code",
   "execution_count": 29,
   "id": "403c63c9-7a66-403b-a79f-9e06fcee84e4",
   "metadata": {},
   "outputs": [
    {
     "data": {
      "text/plain": [
       "(862, 864)"
      ]
     },
     "execution_count": 29,
     "metadata": {},
     "output_type": "execute_result"
    }
   ],
   "source": [
    "vocab_size_input, vocab_size_target"
   ]
  },
  {
   "cell_type": "code",
   "execution_count": 30,
   "id": "81ad8a6a-e1dc-48de-b446-c2d7ff443ef5",
   "metadata": {},
   "outputs": [],
   "source": [
    "def generator_batch(X= X_train,Y=y_train, batch_size=128):\n",
    "    while True:\n",
    "        for j in range(0, len(X), batch_size):\n",
    "            encoder_data_input = np.zeros((batch_size,max_length_rus),dtype='float32') #metrix of batch_size*max_length_english\n",
    "            decoder_data_input = np.zeros((batch_size,max_lenght_oss),dtype='float32') #metrix of batch_size*max_length_marathi\n",
    "            decoder_target_input = np.zeros((batch_size,max_lenght_oss,vocab_size_target),dtype='float32') # 3d array one hot encoder decoder target data\n",
    "            for i, (input_text,target_text) in enumerate(zip(X[j:j+batch_size],Y[j:j+batch_size])):\n",
    "                for t, word in enumerate(input_text.split()):\n",
    "                    encoder_data_input[i,t] = tokenizer_input.word_index[word] # Here we are storing the encoder \n",
    "                                                                         #seq in row here padding is done automaticaly as \n",
    "                                                                         #we have defined col as max_lenght\n",
    "                for t, word in enumerate(target_text.split()):\n",
    "                    # if word == 'START_':\n",
    "                    #   word = 'start'\n",
    "                    # elif word == 'END_':\n",
    "                    #   word = 'end'\n",
    "                    decoder_data_input[i,t] = tokenizer_target.word_index[word] # same for the decoder sequence\n",
    "                    if t>0:\n",
    "                        decoder_target_input[i,t-1,tokenizer_target.word_index[word]] = 1 #target is one timestep ahead of decoder input because it does not have 'start tag'\n",
    "            # print(encoder_data_input.shape())\n",
    "        yield ([encoder_data_input,decoder_data_input],decoder_target_input)"
   ]
  },
  {
   "cell_type": "code",
   "execution_count": 31,
   "id": "8cecaf5a-26f8-4b12-a372-d88732504b21",
   "metadata": {},
   "outputs": [],
   "source": [
    "latent_dim = 50\n",
    "# Define an input sequence and process it.\n",
    "encoder_inputs = Input(shape=(None,),name=\"encoder_inputs\")\n",
    "emb_layer_encoder = Embedding(vocab_size_input,latent_dim, mask_zero=True)(encoder_inputs)\n",
    "encoder = LSTM(latent_dim, return_state=True)\n",
    "encoder_outputs, state_h, state_c = encoder(emb_layer_encoder)\n",
    "# We discard `encoder_outputs` and only keep the states.\n",
    "encoder_states = [state_h, state_c]\n",
    "\n",
    "# Set up the decoder, using `encoder_states` as initial state.\n",
    "decoder_inputs = Input(shape=(None,),name=\"decoder_inputs\")\n",
    "# We set up our decoder to return full output sequences,\n",
    "# and to return internal states as well. We don't use the\n",
    "# return states in the training model, but we will use them in inference.\n",
    "emb_layer_decoder = Embedding(vocab_size_target,latent_dim, mask_zero=True)(decoder_inputs)\n",
    "decoder_lstm = LSTM(latent_dim, return_sequences=True, return_state=True)\n",
    "decoder_outputs, _, _ = decoder_lstm(emb_layer_decoder, initial_state=encoder_states)\n",
    "decoder_dense = Dense(vocab_size_target, activation='softmax')\n",
    "decoder_outputs = decoder_dense(decoder_outputs)\n",
    "\n",
    "# Define the model that will turn\n",
    "# `encoder_input_data` & `decoder_input_data` into `decoder_target_data`\n",
    "model = Model([encoder_inputs, decoder_inputs], decoder_outputs)"
   ]
  },
  {
   "cell_type": "code",
   "execution_count": 32,
   "id": "63153d0e-941a-4bf0-87eb-ae29652c09a3",
   "metadata": {},
   "outputs": [],
   "source": [
    "model.compile(loss='categorical_crossentropy', optimizer='rmsprop', metrics=['accuracy'])"
   ]
  },
  {
   "cell_type": "code",
   "execution_count": 33,
   "id": "9ebbda12-686d-47de-af07-63661bd10b1f",
   "metadata": {},
   "outputs": [
    {
     "name": "stdout",
     "output_type": "stream",
     "text": [
      "You must install pydot (`pip install pydot`) and install graphviz (see instructions at https://graphviz.gitlab.io/download/) for plot_model/model_to_dot to work.\n"
     ]
    }
   ],
   "source": [
    "plot_model(model, to_file=f'{dir}-train_model.png', show_shapes=True)"
   ]
  },
  {
   "cell_type": "code",
   "execution_count": 34,
   "id": "d12c688a-25f0-426a-b9dd-873ee155dcbf",
   "metadata": {},
   "outputs": [],
   "source": [
    "train_samples = len(X_train)\n",
    "val_samples = len(X_test)\n",
    "batch_size = 10\n",
    "epochs = 100"
   ]
  },
  {
   "cell_type": "code",
   "execution_count": 35,
   "id": "ec1d51b8-bb57-4260-a64f-1e08364e1a3d",
   "metadata": {},
   "outputs": [
    {
     "name": "stdout",
     "output_type": "stream",
     "text": [
      "Epoch 1/100\n"
     ]
    },
    {
     "name": "stderr",
     "output_type": "stream",
     "text": [
      "C:\\Users\\ONIGAT~1\\AppData\\Local\\Temp/ipykernel_25512/1782680856.py:2: UserWarning: `Model.fit_generator` is deprecated and will be removed in a future version. Please use `Model.fit`, which supports generators.\n",
      "  model.fit_generator(generator = generator_batch(X_train, y_train, batch_size = batch_size), steps_per_epoch = train_samples//batch_size, epochs=epochs)\n"
     ]
    },
    {
     "name": "stdout",
     "output_type": "stream",
     "text": [
      "38/38 [==============================] - 7s 18ms/step - loss: 0.7066 - accuracy: 0.1585\n",
      "Epoch 2/100\n",
      "38/38 [==============================] - 1s 17ms/step - loss: 0.4489 - accuracy: 0.1628\n",
      "Epoch 3/100\n",
      "38/38 [==============================] - 1s 17ms/step - loss: 0.4263 - accuracy: 0.1701\n",
      "Epoch 4/100\n",
      "38/38 [==============================] - 1s 17ms/step - loss: 0.3992 - accuracy: 0.2111\n",
      "Epoch 5/100\n",
      "38/38 [==============================] - 1s 17ms/step - loss: 0.3705 - accuracy: 0.2332\n",
      "Epoch 6/100\n",
      "38/38 [==============================] - 1s 17ms/step - loss: 0.3395 - accuracy: 0.3299\n",
      "Epoch 7/100\n",
      "38/38 [==============================] - 1s 17ms/step - loss: 0.3069 - accuracy: 0.3599\n",
      "Epoch 8/100\n",
      "38/38 [==============================] - 1s 17ms/step - loss: 0.2765 - accuracy: 0.4211\n",
      "Epoch 9/100\n",
      "38/38 [==============================] - 1s 17ms/step - loss: 0.2477 - accuracy: 0.4865\n",
      "Epoch 10/100\n",
      "38/38 [==============================] - 1s 17ms/step - loss: 0.2213 - accuracy: 0.5643\n",
      "Epoch 11/100\n",
      "38/38 [==============================] - 1s 17ms/step - loss: 0.1978 - accuracy: 0.6065\n",
      "Epoch 12/100\n",
      "38/38 [==============================] - 1s 17ms/step - loss: 0.1779 - accuracy: 0.6603\n",
      "Epoch 13/100\n",
      "38/38 [==============================] - 1s 17ms/step - loss: 0.1611 - accuracy: 0.6958\n",
      "Epoch 14/100\n",
      "38/38 [==============================] - 1s 17ms/step - loss: 0.1460 - accuracy: 0.7356\n",
      "Epoch 15/100\n",
      "38/38 [==============================] - 1s 17ms/step - loss: 0.1314 - accuracy: 0.7827\n",
      "Epoch 16/100\n",
      "38/38 [==============================] - 1s 17ms/step - loss: 0.1181 - accuracy: 0.8115\n",
      "Epoch 17/100\n",
      "38/38 [==============================] - 1s 16ms/step - loss: 0.1067 - accuracy: 0.8140\n",
      "Epoch 18/100\n",
      "38/38 [==============================] - 1s 16ms/step - loss: 0.0969 - accuracy: 0.8262\n",
      "Epoch 19/100\n",
      "38/38 [==============================] - 1s 16ms/step - loss: 0.0880 - accuracy: 0.8323\n",
      "Epoch 20/100\n",
      "38/38 [==============================] - 1s 16ms/step - loss: 0.0797 - accuracy: 0.8372\n",
      "Epoch 21/100\n",
      "38/38 [==============================] - 1s 16ms/step - loss: 0.0723 - accuracy: 0.8372\n",
      "Epoch 22/100\n",
      "38/38 [==============================] - 1s 17ms/step - loss: 0.0663 - accuracy: 0.8372\n",
      "Epoch 23/100\n",
      "38/38 [==============================] - 1s 16ms/step - loss: 0.0613 - accuracy: 0.8372\n",
      "Epoch 24/100\n",
      "38/38 [==============================] - 1s 16ms/step - loss: 0.0568 - accuracy: 0.8372\n",
      "Epoch 25/100\n",
      "38/38 [==============================] - 1s 16ms/step - loss: 0.0528 - accuracy: 0.8372\n",
      "Epoch 26/100\n",
      "38/38 [==============================] - 1s 16ms/step - loss: 0.0489 - accuracy: 0.8372\n",
      "Epoch 27/100\n",
      "38/38 [==============================] - 1s 16ms/step - loss: 0.0452 - accuracy: 0.8372\n",
      "Epoch 28/100\n",
      "38/38 [==============================] - 1s 16ms/step - loss: 0.0419 - accuracy: 0.8372\n",
      "Epoch 29/100\n",
      "38/38 [==============================] - 1s 16ms/step - loss: 0.0392 - accuracy: 0.8372\n",
      "Epoch 30/100\n",
      "38/38 [==============================] - 1s 16ms/step - loss: 0.0369 - accuracy: 0.8372\n",
      "Epoch 31/100\n",
      "38/38 [==============================] - 1s 17ms/step - loss: 0.0347 - accuracy: 0.8372\n",
      "Epoch 32/100\n",
      "38/38 [==============================] - 1s 16ms/step - loss: 0.0328 - accuracy: 0.8372\n",
      "Epoch 33/100\n",
      "38/38 [==============================] - 1s 16ms/step - loss: 0.0311 - accuracy: 0.8372\n",
      "Epoch 34/100\n",
      "38/38 [==============================] - 1s 16ms/step - loss: 0.0296 - accuracy: 0.8372\n",
      "Epoch 35/100\n",
      "38/38 [==============================] - 1s 16ms/step - loss: 0.0282 - accuracy: 0.8372\n",
      "Epoch 36/100\n",
      "38/38 [==============================] - 1s 16ms/step - loss: 0.0270 - accuracy: 0.8372\n",
      "Epoch 37/100\n",
      "38/38 [==============================] - 1s 16ms/step - loss: 0.0260 - accuracy: 0.8372\n",
      "Epoch 38/100\n",
      "38/38 [==============================] - 1s 16ms/step - loss: 0.0250 - accuracy: 0.8372\n",
      "Epoch 39/100\n",
      "38/38 [==============================] - 1s 16ms/step - loss: 0.0241 - accuracy: 0.8372\n",
      "Epoch 40/100\n",
      "38/38 [==============================] - 1s 17ms/step - loss: 0.0229 - accuracy: 0.8372\n",
      "Epoch 41/100\n",
      "38/38 [==============================] - 1s 17ms/step - loss: 0.0220 - accuracy: 0.8372\n",
      "Epoch 42/100\n",
      "38/38 [==============================] - 1s 17ms/step - loss: 0.0213 - accuracy: 0.8372\n",
      "Epoch 43/100\n",
      "38/38 [==============================] - 1s 16ms/step - loss: 0.0206 - accuracy: 0.8372\n",
      "Epoch 44/100\n",
      "38/38 [==============================] - 1s 16ms/step - loss: 0.0199 - accuracy: 0.8372\n",
      "Epoch 45/100\n",
      "38/38 [==============================] - 1s 16ms/step - loss: 0.0194 - accuracy: 0.8372\n",
      "Epoch 46/100\n",
      "38/38 [==============================] - 1s 16ms/step - loss: 0.0188 - accuracy: 0.8372\n",
      "Epoch 47/100\n",
      "38/38 [==============================] - 1s 16ms/step - loss: 0.0182 - accuracy: 0.8372\n",
      "Epoch 48/100\n",
      "38/38 [==============================] - 1s 16ms/step - loss: 0.0177 - accuracy: 0.8372\n",
      "Epoch 49/100\n",
      "38/38 [==============================] - 1s 16ms/step - loss: 0.0171 - accuracy: 0.8372\n",
      "Epoch 50/100\n",
      "38/38 [==============================] - 1s 16ms/step - loss: 0.0166 - accuracy: 0.8372\n",
      "Epoch 51/100\n",
      "38/38 [==============================] - 1s 16ms/step - loss: 0.0161 - accuracy: 0.8372\n",
      "Epoch 52/100\n",
      "38/38 [==============================] - 1s 16ms/step - loss: 0.0157 - accuracy: 0.8372\n",
      "Epoch 53/100\n",
      "38/38 [==============================] - 1s 16ms/step - loss: 0.0153 - accuracy: 0.8372\n",
      "Epoch 54/100\n",
      "38/38 [==============================] - 1s 16ms/step - loss: 0.0148 - accuracy: 0.8372\n",
      "Epoch 55/100\n",
      "38/38 [==============================] - 1s 16ms/step - loss: 0.0145 - accuracy: 0.8372\n",
      "Epoch 56/100\n",
      "38/38 [==============================] - 1s 16ms/step - loss: 0.0141 - accuracy: 0.8372\n",
      "Epoch 57/100\n",
      "38/38 [==============================] - 1s 16ms/step - loss: 0.0137 - accuracy: 0.8372\n",
      "Epoch 58/100\n",
      "38/38 [==============================] - 1s 16ms/step - loss: 0.0132 - accuracy: 0.8372\n",
      "Epoch 59/100\n",
      "38/38 [==============================] - 1s 16ms/step - loss: 0.0129 - accuracy: 0.8372\n",
      "Epoch 60/100\n",
      "38/38 [==============================] - 1s 16ms/step - loss: 0.0125 - accuracy: 0.8372\n",
      "Epoch 61/100\n",
      "38/38 [==============================] - 1s 16ms/step - loss: 0.0122 - accuracy: 0.8372\n",
      "Epoch 62/100\n",
      "38/38 [==============================] - 1s 16ms/step - loss: 0.0119 - accuracy: 0.8372\n",
      "Epoch 63/100\n",
      "38/38 [==============================] - 1s 17ms/step - loss: 0.0116 - accuracy: 0.8372\n",
      "Epoch 64/100\n",
      "38/38 [==============================] - 1s 16ms/step - loss: 0.0113 - accuracy: 0.8372\n",
      "Epoch 65/100\n",
      "38/38 [==============================] - 1s 16ms/step - loss: 0.0110 - accuracy: 0.8372\n",
      "Epoch 66/100\n",
      "38/38 [==============================] - 1s 17ms/step - loss: 0.0107 - accuracy: 0.8372\n",
      "Epoch 67/100\n",
      "38/38 [==============================] - 1s 17ms/step - loss: 0.0105 - accuracy: 0.8372\n",
      "Epoch 68/100\n",
      "38/38 [==============================] - 1s 17ms/step - loss: 0.0103 - accuracy: 0.8372\n",
      "Epoch 69/100\n",
      "38/38 [==============================] - 1s 17ms/step - loss: 0.0100 - accuracy: 0.8372\n",
      "Epoch 70/100\n",
      "38/38 [==============================] - 1s 17ms/step - loss: 0.0098 - accuracy: 0.8372\n",
      "Epoch 71/100\n",
      "38/38 [==============================] - 1s 17ms/step - loss: 0.0095 - accuracy: 0.8372\n",
      "Epoch 72/100\n",
      "38/38 [==============================] - 1s 17ms/step - loss: 0.0093 - accuracy: 0.8372\n",
      "Epoch 73/100\n",
      "38/38 [==============================] - 1s 17ms/step - loss: 0.0092 - accuracy: 0.8372\n",
      "Epoch 74/100\n",
      "38/38 [==============================] - 1s 16ms/step - loss: 0.0090 - accuracy: 0.8372\n",
      "Epoch 75/100\n",
      "38/38 [==============================] - 1s 16ms/step - loss: 0.0088 - accuracy: 0.8372\n",
      "Epoch 76/100\n",
      "38/38 [==============================] - 1s 16ms/step - loss: 0.0086 - accuracy: 0.8372\n",
      "Epoch 77/100\n",
      "38/38 [==============================] - 1s 16ms/step - loss: 0.0085 - accuracy: 0.8372\n",
      "Epoch 78/100\n",
      "38/38 [==============================] - 1s 16ms/step - loss: 0.0083 - accuracy: 0.8372\n",
      "Epoch 79/100\n",
      "38/38 [==============================] - 1s 16ms/step - loss: 0.0082 - accuracy: 0.8372\n",
      "Epoch 80/100\n",
      "38/38 [==============================] - 1s 16ms/step - loss: 0.0080 - accuracy: 0.8372\n",
      "Epoch 81/100\n",
      "38/38 [==============================] - 1s 16ms/step - loss: 0.0079 - accuracy: 0.8372\n",
      "Epoch 82/100\n",
      "38/38 [==============================] - 1s 16ms/step - loss: 0.0078 - accuracy: 0.8372\n",
      "Epoch 83/100\n",
      "38/38 [==============================] - 1s 16ms/step - loss: 0.0077 - accuracy: 0.8372\n",
      "Epoch 84/100\n",
      "38/38 [==============================] - 1s 16ms/step - loss: 0.0075 - accuracy: 0.8372\n",
      "Epoch 85/100\n",
      "38/38 [==============================] - 1s 16ms/step - loss: 0.0074 - accuracy: 0.8372\n",
      "Epoch 86/100\n",
      "38/38 [==============================] - 1s 16ms/step - loss: 0.0072 - accuracy: 0.8372\n",
      "Epoch 87/100\n",
      "38/38 [==============================] - 1s 17ms/step - loss: 0.0070 - accuracy: 0.8372\n",
      "Epoch 88/100\n",
      "38/38 [==============================] - 1s 16ms/step - loss: 0.0068 - accuracy: 0.8372\n",
      "Epoch 89/100\n",
      "38/38 [==============================] - 1s 16ms/step - loss: 0.0067 - accuracy: 0.8372\n",
      "Epoch 90/100\n",
      "38/38 [==============================] - 1s 16ms/step - loss: 0.0066 - accuracy: 0.8372\n",
      "Epoch 91/100\n",
      "38/38 [==============================] - 1s 16ms/step - loss: 0.0065 - accuracy: 0.8372\n",
      "Epoch 92/100\n",
      "38/38 [==============================] - 1s 17ms/step - loss: 0.0063 - accuracy: 0.8372\n",
      "Epoch 93/100\n",
      "38/38 [==============================] - 1s 17ms/step - loss: 0.0062 - accuracy: 0.8372\n",
      "Epoch 94/100\n",
      "38/38 [==============================] - 1s 16ms/step - loss: 0.0062 - accuracy: 0.8372\n",
      "Epoch 95/100\n",
      "38/38 [==============================] - 1s 16ms/step - loss: 0.0061 - accuracy: 0.8372\n",
      "Epoch 96/100\n",
      "38/38 [==============================] - 1s 16ms/step - loss: 0.0060 - accuracy: 0.8372\n",
      "Epoch 97/100\n",
      "38/38 [==============================] - 1s 16ms/step - loss: 0.0060 - accuracy: 0.8372\n",
      "Epoch 98/100\n",
      "38/38 [==============================] - 1s 16ms/step - loss: 0.0059 - accuracy: 0.8372\n",
      "Epoch 99/100\n",
      "38/38 [==============================] - 1s 16ms/step - loss: 0.0058 - accuracy: 0.8372\n",
      "Epoch 100/100\n",
      "38/38 [==============================] - 1s 16ms/step - loss: 0.0057 - accuracy: 0.8372\n"
     ]
    },
    {
     "data": {
      "text/plain": [
       "<keras.callbacks.History at 0x1f7489e0d60>"
      ]
     },
     "execution_count": 35,
     "metadata": {},
     "output_type": "execute_result"
    }
   ],
   "source": [
    "# %%capture\n",
    "model.fit_generator(generator = generator_batch(X_train, y_train, batch_size = batch_size), steps_per_epoch = train_samples//batch_size, epochs=epochs)"
   ]
  },
  {
   "cell_type": "code",
   "execution_count": 36,
   "id": "7db8682d-539a-4ace-9c95-3f414ee4fb04",
   "metadata": {},
   "outputs": [
    {
     "name": "stdout",
     "output_type": "stream",
     "text": [
      "Saved model to disk\n"
     ]
    }
   ],
   "source": [
    "model_json = model.to_json()\n",
    "with open(f'{dir}-model_2.json', \"w\") as json_file:\n",
    "    json_file.write(model_json)\n",
    "# serialize weights to HDF5\n",
    "model.save_weights(f'{dir}-model_weight_5.h5')\n",
    "print(\"Saved model to disk\")"
   ]
  },
  {
   "cell_type": "code",
   "execution_count": 37,
   "id": "7e412cb7-8fb6-4910-85e2-8c4ea3f10c05",
   "metadata": {},
   "outputs": [],
   "source": [
    "# loading the model architecture and asigning the weights\n",
    "json_file = open(f'{dir}-model_2.json', 'r')\n",
    "loaded_model_json = json_file.read()\n",
    "json_file.close()\n",
    "model_loaded = model_from_json(loaded_model_json)\n",
    "# load weights into new model\n",
    "model_loaded.load_weights(f'{dir}-model_weight_5.h5')"
   ]
  },
  {
   "cell_type": "code",
   "execution_count": 38,
   "id": "54628c36-6922-4c50-af79-715640f4bfb1",
   "metadata": {},
   "outputs": [],
   "source": [
    "latent_dim = 50\n",
    "#inference encoder\n",
    "encoder_inputs_inf = model_loaded.input[0] #Trained encoder input layer\n",
    "encoder_outputs_inf, inf_state_h, inf_state_c = model_loaded.layers[4].output # retoring the encoder lstm output and states\n",
    "encoder_inf_states = [inf_state_h,inf_state_c]\n",
    "encoder_model = Model(encoder_inputs_inf,encoder_inf_states)"
   ]
  },
  {
   "cell_type": "code",
   "execution_count": 39,
   "id": "b8ac9691-08ef-462c-ba5a-255d2d9bb025",
   "metadata": {},
   "outputs": [],
   "source": [
    "latent_dim = 50\n",
    "#inference encoder\n",
    "encoder_inputs_inf = model_loaded.input[0] #Trained encoder input layer\n",
    "encoder_outputs_inf, inf_state_h, inf_state_c = model_loaded.layers[4].output # retoring the encoder lstm output and states\n",
    "encoder_inf_states = [inf_state_h,inf_state_c]\n",
    "encoder_model = Model(encoder_inputs_inf,encoder_inf_states)"
   ]
  },
  {
   "cell_type": "code",
   "execution_count": 40,
   "id": "fb2d5383-b268-427f-abca-67bcdbd59614",
   "metadata": {},
   "outputs": [],
   "source": [
    "#inference decoder\n",
    "# The following tensor will store the state of the previous timestep in the \"starting the encoder final time step\"\n",
    "decoder_state_h_input = Input(shape=(latent_dim,)) #becase during training we have set the lstm unit to be of 50\n",
    "decoder_state_c_input = Input(shape=(latent_dim,))\n",
    "decoder_state_input = [decoder_state_h_input,decoder_state_c_input]\n",
    "\n",
    "# # inference decoder input\n",
    "decoder_input_inf = model_loaded.input[1] #Trained decoder input layer\n",
    "# decoder_input_inf._name='decoder_input'\n",
    "decoder_emb_inf = model_loaded.layers[3](decoder_input_inf)\n",
    "decoder_lstm_inf = model_loaded.layers[5]\n",
    "decoder_output_inf, decoder_state_h_inf, decoder_state_c_inf = decoder_lstm_inf(decoder_emb_inf, initial_state =decoder_state_input)\n",
    "decoder_state_inf = [decoder_state_h_inf,decoder_state_c_inf]\n",
    "#inference dense layer\n",
    "dense_inf = model_loaded.layers[6]\n",
    "decoder_output_final = dense_inf(decoder_output_inf)# A dense softmax layer to generate prob dist. over the target vocabulary\n",
    "\n",
    "decoder_model = Model([decoder_input_inf]+decoder_state_input,[decoder_output_final]+decoder_state_inf)"
   ]
  },
  {
   "cell_type": "code",
   "execution_count": 41,
   "id": "82b5c70c-a9ef-4da6-a1d5-fe34fe94238e",
   "metadata": {},
   "outputs": [],
   "source": [
    "with open(f'{dir}-tokenizer_input.pkl','rb') as f:\n",
    "    tokenizer_input = pkl.load(f)\n",
    "with open(f'{dir}-tokenizer_target.pkl','rb') as f:\n",
    "    tokenizer_target = pkl.load(f)\n",
    "# Creating the reverse mapping to get the word from the index in the sequence\n",
    "reverse_word_map_input = dict(map(reversed, tokenizer_input.word_index.items()))\n",
    "reverse_word_map_target = dict(map(reversed, tokenizer_target.word_index.items()))"
   ]
  },
  {
   "cell_type": "code",
   "execution_count": 42,
   "id": "8714b9ba-6a9e-4b55-a8af-60f8ca3da9e8",
   "metadata": {},
   "outputs": [],
   "source": [
    "def decode_seq(input_seq):\n",
    "    # print(\"input_seq=>\",input_seq)\n",
    "    state_values_encoder = encoder_model.predict(input_seq)\n",
    "    # intialize the target seq with start tag\n",
    "    target_seq = np.zeros((1,1))\n",
    "    target_seq[0, 0] = tokenizer_target.word_index['start']\n",
    "    # print(\"target_seq:=>\",target_seq)\n",
    "    stop_condition = False\n",
    "    decoder_sentance = ''\n",
    "    # print(\"Beforee the while loop\")\n",
    "    while not stop_condition:\n",
    "        sample_word , decoder_h,decoder_c= decoder_model.predict([target_seq] + state_values_encoder)\n",
    "        # print(\"sample_word: =>\",sample_word)\n",
    "        sample_word_index = np.argmax(sample_word[0,-1,:])\n",
    "        # print(\"sample_word_index: \",sample_word_index)\n",
    "        decoder_word = reverse_word_map_target[sample_word_index]\n",
    "        decoder_sentance += ' '+ decoder_word\n",
    "        # print(\"decoded word:=>\",decoder_word)\n",
    "        # print(len(decoder_sentance))\n",
    "        # print(\"len(decoder_sentance) > 70: \",len(decoder_sentance) > 70)\n",
    "        # print('decoder_word == \"end\"',decoder_word == 'end')\n",
    "        # print(decoder_word == 'end' or len(decoder_sentance) > 70)\n",
    "        # stop condition for the while loop\n",
    "        if (decoder_word == 'end' or \n",
    "            len(decoder_sentance) > 70):\n",
    "            stop_condition = True\n",
    "            # print(\"from if condition\")\n",
    "        # target_seq = np.zeros((1,1))\n",
    "        target_seq[0, 0] = sample_word_index\n",
    "        # print(target_seq)\n",
    "        state_values_encoder = [decoder_h,decoder_c]\n",
    "    return decoder_sentance"
   ]
  },
  {
   "cell_type": "code",
   "execution_count": 43,
   "id": "6f03d272-1854-4bb8-8c55-d48a42a2e103",
   "metadata": {},
   "outputs": [
    {
     "name": "stdout",
     "output_type": "stream",
     "text": [
      "Test sentance:  1\n",
      "sentance:  столицей чего является владикавказ\n",
      "origianl translate: дзæуджыхъæу кæй сæйраг горæт у\n",
      "predicted Translate:  том мæнæй бирæ хистæрдæр у\n",
      "====================================================================================================\n",
      "Test sentance:  2\n",
      "sentance:  после завтра мне надо пойти в лес\n",
      "origianl translate: иннæ бон мæ хъæумæ ныууайын хъæуы\n",
      "predicted Translate:  æхсæрдæс азы\n",
      "====================================================================================================\n",
      "Test sentance:  3\n",
      "sentance:  он жил здесь десять лет назад\n",
      "origianl translate: уый ам царди дæс азы размæ\n",
      "predicted Translate:  том махӕй никӕйы нӕ базыдта\n",
      "====================================================================================================\n",
      "Test sentance:  4\n",
      "sentance:  я хотел бы ей позвонить у тебя есть её номер телефона\n",
      "origianl translate: мæн фæндыди йæм бадзурын йæ номыр дæм ис\n",
      "predicted Translate:  ӕз нӕ зонын кӕм дӕн\n",
      "====================================================================================================\n",
      "Test sentance:  5\n",
      "sentance:  на чью учебу влияют учителя\n",
      "origianl translate: кæй ахуырыл аудынц ахуыргæнджытæ\n",
      "predicted Translate:  том махӕй никӕйы нӕ базыдта\n",
      "====================================================================================================\n",
      "Test sentance:  6\n",
      "sentance:  он был вождём своего племени  лет\n",
      "origianl translate: уый йæ знæмы раздзог уыдис 35 азы дæргъы\n",
      "predicted Translate:  том мæнæй бирæ хистæрдæр у\n",
      "====================================================================================================\n",
      "Test sentance:  7\n",
      "sentance:  вот моя книга  это не твоя книга это моя\n",
      "origianl translate: мæнæ мæ чиныг дæ чиныг нæу мæн чиныг у\n",
      "predicted Translate:  том махӕй никӕйы нӕ базыдта\n",
      "====================================================================================================\n",
      "Test sentance:  8\n",
      "sentance:  я познакомился с ним\n",
      "origianl translate: æз базонгæ дæн йемæ\n",
      "predicted Translate:  ӕз нӕ зонын кӕм дӕн\n",
      "====================================================================================================\n",
      "Test sentance:  9\n",
      "sentance:  очень хорошо спасибо\n",
      "origianl translate: тынг хорз бузныг\n",
      "predicted Translate:  том махӕй никӕйы нӕ базыдта\n",
      "====================================================================================================\n",
      "Test sentance:  10\n",
      "sentance:  всё получилось наоборот\n",
      "origianl translate: алцыдæр зыгъуыммæ рауади\n",
      "predicted Translate:  том мæнæй бирæ хистæрдæр у\n",
      "====================================================================================================\n"
     ]
    }
   ],
   "source": [
    "for i in range(10):\n",
    "    sentance = X_test[i]\n",
    "    original_target = y_test[i]\n",
    "    input_seq = tokenizer_input.texts_to_sequences([sentance])\n",
    "    pad_sequence = pad_sequences(input_seq, maxlen= 30, padding='post')\n",
    "    # print('input_sequence =>',input_seq)\n",
    "    # print(\"pad_seq=>\",pad_sequence)\n",
    "    predicted_target = decode_seq(pad_sequence)\n",
    "    print(\"Test sentance: \",i+1)\n",
    "    print(\"sentance: \",sentance)\n",
    "    print(\"origianl translate:\",original_target[6:-4])\n",
    "    print(\"predicted Translate:\",predicted_target[:-4])\n",
    "    print(\"==\"*50)"
   ]
  },
  {
   "cell_type": "code",
   "execution_count": null,
   "id": "064d8d26-c01c-469f-9b42-9c94dcaf4670",
   "metadata": {},
   "outputs": [],
   "source": []
  }
 ],
 "metadata": {
  "kernelspec": {
   "display_name": "Python 3 (ipykernel)",
   "language": "python",
   "name": "python3"
  },
  "language_info": {
   "codemirror_mode": {
    "name": "ipython",
    "version": 3
   },
   "file_extension": ".py",
   "mimetype": "text/x-python",
   "name": "python",
   "nbconvert_exporter": "python",
   "pygments_lexer": "ipython3",
   "version": "3.9.7"
  }
 },
 "nbformat": 4,
 "nbformat_minor": 5
}
